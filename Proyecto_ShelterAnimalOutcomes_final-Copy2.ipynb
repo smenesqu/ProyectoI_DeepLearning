{
 "cells": [
  {
   "cell_type": "markdown",
   "metadata": {},
   "source": [
    "# PROYECTO 1. DEEP LEARNING\n",
    "## Shelter Animal Outcomes\n",
    "Sandra Marcela Meneses - Angélica María Gómez Buitrago - Juan Camilo Castillo Castro - Diego Fernando López Castillo "
   ]
  },
  {
   "cell_type": "markdown",
   "metadata": {},
   "source": [
    "Se cargan las librerías necesarias para el desarrollo del proyecto"
   ]
  },
  {
   "cell_type": "code",
   "execution_count": 146,
   "metadata": {
    "collapsed": true
   },
   "outputs": [],
   "source": [
    "#Librerías\n",
    "import numpy as np\n",
    "import pandas as pd\n",
    "import seaborn as sns\n",
    "import matplotlib.pyplot as plt\n",
    "import sklearn.preprocessing as preprocessing\n",
    "from sklearn.model_selection import train_test_split\n",
    "from sklearn import tree\n",
    "from sklearn import metrics\n",
    "%matplotlib inline"
   ]
  },
  {
   "cell_type": "markdown",
   "metadata": {},
   "source": [
    "Se cargan las bases de datos de train y test"
   ]
  },
  {
   "cell_type": "code",
   "execution_count": 147,
   "metadata": {
    "collapsed": true
   },
   "outputs": [],
   "source": [
    "#Cargue de las bases de datos\n",
    "import zipfile\n",
    "with zipfile.ZipFile('../Proyecto/train.zip', 'r') as z:\n",
    "    f = z.open('train.csv')\n",
    "    data_train = pd.io.parsers.read_table(f, sep=',')\n",
    "    \n",
    "with zipfile.ZipFile('../Proyecto/test.zip', 'r') as z:\n",
    "    f = z.open('test.csv')\n",
    "    data_test = pd.io.parsers.read_table(f, sep=',')"
   ]
  },
  {
   "cell_type": "markdown",
   "metadata": {},
   "source": [
    "Se visualizan las variables que se tienen en la base de train."
   ]
  },
  {
   "cell_type": "code",
   "execution_count": 148,
   "metadata": {
    "scrolled": false
   },
   "outputs": [
    {
     "data": {
      "text/html": [
       "<div>\n",
       "<style>\n",
       "    .dataframe thead tr:only-child th {\n",
       "        text-align: right;\n",
       "    }\n",
       "\n",
       "    .dataframe thead th {\n",
       "        text-align: left;\n",
       "    }\n",
       "\n",
       "    .dataframe tbody tr th {\n",
       "        vertical-align: top;\n",
       "    }\n",
       "</style>\n",
       "<table border=\"1\" class=\"dataframe\">\n",
       "  <thead>\n",
       "    <tr style=\"text-align: right;\">\n",
       "      <th></th>\n",
       "      <th>AnimalID</th>\n",
       "      <th>Name</th>\n",
       "      <th>DateTime</th>\n",
       "      <th>OutcomeType</th>\n",
       "      <th>OutcomeSubtype</th>\n",
       "      <th>AnimalType</th>\n",
       "      <th>SexuponOutcome</th>\n",
       "      <th>AgeuponOutcome</th>\n",
       "      <th>Breed</th>\n",
       "      <th>Color</th>\n",
       "    </tr>\n",
       "  </thead>\n",
       "  <tbody>\n",
       "    <tr>\n",
       "      <th>0</th>\n",
       "      <td>A671945</td>\n",
       "      <td>Hambone</td>\n",
       "      <td>2014-02-12 18:22:00</td>\n",
       "      <td>Return_to_owner</td>\n",
       "      <td>NaN</td>\n",
       "      <td>Dog</td>\n",
       "      <td>Neutered Male</td>\n",
       "      <td>1 year</td>\n",
       "      <td>Shetland Sheepdog Mix</td>\n",
       "      <td>Brown/White</td>\n",
       "    </tr>\n",
       "    <tr>\n",
       "      <th>1</th>\n",
       "      <td>A656520</td>\n",
       "      <td>Emily</td>\n",
       "      <td>2013-10-13 12:44:00</td>\n",
       "      <td>Euthanasia</td>\n",
       "      <td>Suffering</td>\n",
       "      <td>Cat</td>\n",
       "      <td>Spayed Female</td>\n",
       "      <td>1 year</td>\n",
       "      <td>Domestic Shorthair Mix</td>\n",
       "      <td>Cream Tabby</td>\n",
       "    </tr>\n",
       "    <tr>\n",
       "      <th>2</th>\n",
       "      <td>A686464</td>\n",
       "      <td>Pearce</td>\n",
       "      <td>2015-01-31 12:28:00</td>\n",
       "      <td>Adoption</td>\n",
       "      <td>Foster</td>\n",
       "      <td>Dog</td>\n",
       "      <td>Neutered Male</td>\n",
       "      <td>2 years</td>\n",
       "      <td>Pit Bull Mix</td>\n",
       "      <td>Blue/White</td>\n",
       "    </tr>\n",
       "    <tr>\n",
       "      <th>3</th>\n",
       "      <td>A683430</td>\n",
       "      <td>NaN</td>\n",
       "      <td>2014-07-11 19:09:00</td>\n",
       "      <td>Transfer</td>\n",
       "      <td>Partner</td>\n",
       "      <td>Cat</td>\n",
       "      <td>Intact Male</td>\n",
       "      <td>3 weeks</td>\n",
       "      <td>Domestic Shorthair Mix</td>\n",
       "      <td>Blue Cream</td>\n",
       "    </tr>\n",
       "    <tr>\n",
       "      <th>4</th>\n",
       "      <td>A667013</td>\n",
       "      <td>NaN</td>\n",
       "      <td>2013-11-15 12:52:00</td>\n",
       "      <td>Transfer</td>\n",
       "      <td>Partner</td>\n",
       "      <td>Dog</td>\n",
       "      <td>Neutered Male</td>\n",
       "      <td>2 years</td>\n",
       "      <td>Lhasa Apso/Miniature Poodle</td>\n",
       "      <td>Tan</td>\n",
       "    </tr>\n",
       "  </tbody>\n",
       "</table>\n",
       "</div>"
      ],
      "text/plain": [
       "  AnimalID     Name             DateTime      OutcomeType OutcomeSubtype  \\\n",
       "0  A671945  Hambone  2014-02-12 18:22:00  Return_to_owner            NaN   \n",
       "1  A656520    Emily  2013-10-13 12:44:00       Euthanasia      Suffering   \n",
       "2  A686464   Pearce  2015-01-31 12:28:00         Adoption         Foster   \n",
       "3  A683430      NaN  2014-07-11 19:09:00         Transfer        Partner   \n",
       "4  A667013      NaN  2013-11-15 12:52:00         Transfer        Partner   \n",
       "\n",
       "  AnimalType SexuponOutcome AgeuponOutcome                        Breed  \\\n",
       "0        Dog  Neutered Male         1 year        Shetland Sheepdog Mix   \n",
       "1        Cat  Spayed Female         1 year       Domestic Shorthair Mix   \n",
       "2        Dog  Neutered Male        2 years                 Pit Bull Mix   \n",
       "3        Cat    Intact Male        3 weeks       Domestic Shorthair Mix   \n",
       "4        Dog  Neutered Male        2 years  Lhasa Apso/Miniature Poodle   \n",
       "\n",
       "         Color  \n",
       "0  Brown/White  \n",
       "1  Cream Tabby  \n",
       "2   Blue/White  \n",
       "3   Blue Cream  \n",
       "4          Tan  "
      ]
     },
     "execution_count": 148,
     "metadata": {},
     "output_type": "execute_result"
    }
   ],
   "source": [
    "data_train.head()"
   ]
  },
  {
   "cell_type": "markdown",
   "metadata": {},
   "source": [
    "## Identificación de Missing Values"
   ]
  },
  {
   "cell_type": "markdown",
   "metadata": {},
   "source": [
    "Se identifican los missing values en cada una de las dos bases"
   ]
  },
  {
   "cell_type": "code",
   "execution_count": 149,
   "metadata": {
    "scrolled": true
   },
   "outputs": [
    {
     "data": {
      "text/plain": [
       "AnimalID              0\n",
       "Name               7691\n",
       "DateTime              0\n",
       "OutcomeType           0\n",
       "OutcomeSubtype    13612\n",
       "AnimalType            0\n",
       "SexuponOutcome        1\n",
       "AgeuponOutcome       18\n",
       "Breed                 0\n",
       "Color                 0\n",
       "dtype: int64"
      ]
     },
     "execution_count": 149,
     "metadata": {},
     "output_type": "execute_result"
    }
   ],
   "source": [
    "data_train.isnull().sum()"
   ]
  },
  {
   "cell_type": "code",
   "execution_count": 150,
   "metadata": {},
   "outputs": [
    {
     "data": {
      "text/plain": [
       "ID                   0\n",
       "Name              3225\n",
       "DateTime             0\n",
       "AnimalType           0\n",
       "SexuponOutcome       0\n",
       "AgeuponOutcome       6\n",
       "Breed                0\n",
       "Color                0\n",
       "dtype: int64"
      ]
     },
     "execution_count": 150,
     "metadata": {},
     "output_type": "execute_result"
    }
   ],
   "source": [
    "data_test.isnull().sum()"
   ]
  },
  {
   "cell_type": "markdown",
   "metadata": {},
   "source": [
    "Nos interesa conocer el tipo de objeto que hay tanto en los datos de train como de test:"
   ]
  },
  {
   "cell_type": "code",
   "execution_count": 151,
   "metadata": {},
   "outputs": [
    {
     "data": {
      "text/plain": [
       "AnimalID          object\n",
       "Name              object\n",
       "DateTime          object\n",
       "OutcomeType       object\n",
       "OutcomeSubtype    object\n",
       "AnimalType        object\n",
       "SexuponOutcome    object\n",
       "AgeuponOutcome    object\n",
       "Breed             object\n",
       "Color             object\n",
       "dtype: object"
      ]
     },
     "execution_count": 151,
     "metadata": {},
     "output_type": "execute_result"
    }
   ],
   "source": [
    "data_train.dtypes"
   ]
  },
  {
   "cell_type": "code",
   "execution_count": 152,
   "metadata": {},
   "outputs": [
    {
     "data": {
      "text/plain": [
       "ID                 int64\n",
       "Name              object\n",
       "DateTime          object\n",
       "AnimalType        object\n",
       "SexuponOutcome    object\n",
       "AgeuponOutcome    object\n",
       "Breed             object\n",
       "Color             object\n",
       "dtype: object"
      ]
     },
     "execution_count": 152,
     "metadata": {},
     "output_type": "execute_result"
    }
   ],
   "source": [
    "data_test.dtypes"
   ]
  },
  {
   "cell_type": "markdown",
   "metadata": {},
   "source": [
    "Dado que la primera variable es un identificador (AnimalIID en train y ID en test) se descartará en el análisis por lo que se eliminará del data frame. Adicionalmente, en los datos de test no existe la variable \"Outcome Subtype\", y en los datos de train presenta una gran cantidad de NA por lo que también será eliminada del data frame. "
   ]
  },
  {
   "cell_type": "code",
   "execution_count": 153,
   "metadata": {
    "collapsed": true
   },
   "outputs": [],
   "source": [
    "del data_train['AnimalID']\n",
    "del data_train['OutcomeSubtype']\n",
    "del data_test['ID']"
   ]
  },
  {
   "cell_type": "markdown",
   "metadata": {},
   "source": [
    "# ANÁLISIS DE VARIABLES\n",
    "Se analiza la variable de edad, que es la única numérica disponible. Sin embargo, requiere ajustes dado que está como\n",
    "texto con varios patrones:"
   ]
  },
  {
   "cell_type": "code",
   "execution_count": 154,
   "metadata": {
    "scrolled": true
   },
   "outputs": [
    {
     "data": {
      "text/plain": [
       "1 year       3969\n",
       "2 years      3742\n",
       "2 months     3397\n",
       "3 years      1823\n",
       "1 month      1281\n",
       "3 months     1277\n",
       "4 years      1071\n",
       "5 years       992\n",
       "4 months      888\n",
       "6 years       670\n",
       "3 weeks       659\n",
       "5 months      652\n",
       "6 months      588\n",
       "8 years       536\n",
       "7 years       531\n",
       "2 weeks       529\n",
       "10 months     457\n",
       "10 years      446\n",
       "8 months      402\n",
       "4 weeks       334\n",
       "9 years       288\n",
       "7 months      288\n",
       "12 years      234\n",
       "9 months      224\n",
       "1 weeks       171\n",
       "11 months     166\n",
       "1 week        146\n",
       "13 years      143\n",
       "11 years      126\n",
       "3 days        109\n",
       "2 days         99\n",
       "14 years       97\n",
       "15 years       85\n",
       "1 day          66\n",
       "6 days         50\n",
       "4 days         50\n",
       "16 years       36\n",
       "5 days         24\n",
       "0 years        22\n",
       "17 years       17\n",
       "5 weeks        11\n",
       "18 years       10\n",
       "19 years        3\n",
       "20 years        2\n",
       "Name: AgeuponOutcome, dtype: int64"
      ]
     },
     "execution_count": 154,
     "metadata": {},
     "output_type": "execute_result"
    }
   ],
   "source": [
    "#Se cuentan los valores en la variable \"AgeuponOutcome\"\n",
    "data_train[\"AgeuponOutcome\"].value_counts()"
   ]
  },
  {
   "cell_type": "code",
   "execution_count": 155,
   "metadata": {},
   "outputs": [
    {
     "data": {
      "text/plain": [
       "1 year       1768\n",
       "2 years      1641\n",
       "2 months     1532\n",
       "3 years       766\n",
       "3 months      511\n",
       "1 month       501\n",
       "4 years       435\n",
       "5 years       414\n",
       "4 months      395\n",
       "3 weeks       291\n",
       "5 months      277\n",
       "6 years       257\n",
       "6 months      247\n",
       "7 years       238\n",
       "8 years       236\n",
       "2 weeks       198\n",
       "10 months     196\n",
       "8 months      167\n",
       "7 months      167\n",
       "10 years      152\n",
       "4 weeks       131\n",
       "9 years       106\n",
       "12 years       96\n",
       "9 months       89\n",
       "1 weeks        76\n",
       "11 months      75\n",
       "1 week         74\n",
       "13 years       71\n",
       "11 years       48\n",
       "14 years       46\n",
       "2 days         40\n",
       "3 days         39\n",
       "15 years       30\n",
       "6 days         30\n",
       "4 days         28\n",
       "1 day          18\n",
       "5 days         14\n",
       "17 years       13\n",
       "0 years        13\n",
       "16 years        9\n",
       "20 years        5\n",
       "5 weeks         4\n",
       "22 years        2\n",
       "19 years        2\n",
       "18 years        2\n",
       "Name: AgeuponOutcome, dtype: int64"
      ]
     },
     "execution_count": 155,
     "metadata": {},
     "output_type": "execute_result"
    }
   ],
   "source": [
    "data_test[\"AgeuponOutcome\"].value_counts()"
   ]
  },
  {
   "cell_type": "markdown",
   "metadata": {},
   "source": [
    "Se define la siguiente función para convertir la edad a meses, transformándola de una variable categórica a una numérica:"
   ]
  },
  {
   "cell_type": "code",
   "execution_count": 156,
   "metadata": {
    "collapsed": true
   },
   "outputs": [],
   "source": [
    "def conv_age(a):\n",
    "    a = str(a)\n",
    "    if a == 'nan': return 0\n",
    "    age = int(a.split()[0])\n",
    "    if a.find('year') > -1: return age*12 \n",
    "    if a.find('month')> -1: return age\n",
    "    if a.find('week')> -1: return age/4\n",
    "    if a.find('day')> -1: return age/30\n",
    "    else: return 0\n",
    "\n",
    "data_train['Age_Months'] = data_train.AgeuponOutcome.apply(conv_age)\n",
    "data_test['Age_Months'] = data_test.AgeuponOutcome.apply(conv_age)"
   ]
  },
  {
   "cell_type": "markdown",
   "metadata": {},
   "source": [
    "## ANÁLISIS DE VARIABLES CATEGÓRICAS\n",
    "\n",
    "Hemos identificado en el análisis exploratorio que existen numerosas variables categóricas que ameritan ya sea una creación de variables a partir de las variables originales, o una codificación diferente.\n",
    "\n",
    "### 'SexuponOutcome'\n",
    "Se crea la variable categórica \"Sterile_Ind\" que indica si la mascota está o no esterilizada, o si no se sabe, lo cual se realiza por medio de otra función, conociendo de antemano las categorías de la variable original que une sexo con estado:"
   ]
  },
  {
   "cell_type": "code",
   "execution_count": 157,
   "metadata": {
    "scrolled": true
   },
   "outputs": [
    {
     "data": {
      "text/plain": [
       "Neutered Male    9779\n",
       "Spayed Female    8820\n",
       "Intact Male      3525\n",
       "Intact Female    3511\n",
       "Unknown          1093\n",
       "Name: SexuponOutcome, dtype: int64"
      ]
     },
     "execution_count": 157,
     "metadata": {},
     "output_type": "execute_result"
    }
   ],
   "source": [
    "#Conteo de animalitos con esterilización, castración, intactos o sin conocimiento\n",
    "data_train[\"SexuponOutcome\"].value_counts()"
   ]
  },
  {
   "cell_type": "code",
   "execution_count": 158,
   "metadata": {},
   "outputs": [
    {
     "data": {
      "text/plain": [
       "Neutered Male    4235\n",
       "Spayed Female    3813\n",
       "Intact Female    1493\n",
       "Intact Male      1460\n",
       "Unknown           455\n",
       "Name: SexuponOutcome, dtype: int64"
      ]
     },
     "execution_count": 158,
     "metadata": {},
     "output_type": "execute_result"
    }
   ],
   "source": [
    "data_test[\"SexuponOutcome\"].value_counts()"
   ]
  },
  {
   "cell_type": "code",
   "execution_count": 159,
   "metadata": {
    "scrolled": true
   },
   "outputs": [
    {
     "data": {
      "text/html": [
       "<div>\n",
       "<style>\n",
       "    .dataframe thead tr:only-child th {\n",
       "        text-align: right;\n",
       "    }\n",
       "\n",
       "    .dataframe thead th {\n",
       "        text-align: left;\n",
       "    }\n",
       "\n",
       "    .dataframe tbody tr th {\n",
       "        vertical-align: top;\n",
       "    }\n",
       "</style>\n",
       "<table border=\"1\" class=\"dataframe\">\n",
       "  <thead>\n",
       "    <tr style=\"text-align: right;\">\n",
       "      <th></th>\n",
       "      <th>Name</th>\n",
       "      <th>DateTime</th>\n",
       "      <th>OutcomeType</th>\n",
       "      <th>AnimalType</th>\n",
       "      <th>SexuponOutcome</th>\n",
       "      <th>AgeuponOutcome</th>\n",
       "      <th>Breed</th>\n",
       "      <th>Color</th>\n",
       "      <th>Age_Months</th>\n",
       "      <th>Sterile_Ind</th>\n",
       "    </tr>\n",
       "  </thead>\n",
       "  <tbody>\n",
       "    <tr>\n",
       "      <th>0</th>\n",
       "      <td>Hambone</td>\n",
       "      <td>2014-02-12 18:22:00</td>\n",
       "      <td>Return_to_owner</td>\n",
       "      <td>Dog</td>\n",
       "      <td>Neutered Male</td>\n",
       "      <td>1 year</td>\n",
       "      <td>Shetland Sheepdog Mix</td>\n",
       "      <td>Brown/White</td>\n",
       "      <td>12.00</td>\n",
       "      <td>Sterile</td>\n",
       "    </tr>\n",
       "    <tr>\n",
       "      <th>1</th>\n",
       "      <td>Emily</td>\n",
       "      <td>2013-10-13 12:44:00</td>\n",
       "      <td>Euthanasia</td>\n",
       "      <td>Cat</td>\n",
       "      <td>Spayed Female</td>\n",
       "      <td>1 year</td>\n",
       "      <td>Domestic Shorthair Mix</td>\n",
       "      <td>Cream Tabby</td>\n",
       "      <td>12.00</td>\n",
       "      <td>Sterile</td>\n",
       "    </tr>\n",
       "    <tr>\n",
       "      <th>2</th>\n",
       "      <td>Pearce</td>\n",
       "      <td>2015-01-31 12:28:00</td>\n",
       "      <td>Adoption</td>\n",
       "      <td>Dog</td>\n",
       "      <td>Neutered Male</td>\n",
       "      <td>2 years</td>\n",
       "      <td>Pit Bull Mix</td>\n",
       "      <td>Blue/White</td>\n",
       "      <td>24.00</td>\n",
       "      <td>Sterile</td>\n",
       "    </tr>\n",
       "    <tr>\n",
       "      <th>3</th>\n",
       "      <td>NaN</td>\n",
       "      <td>2014-07-11 19:09:00</td>\n",
       "      <td>Transfer</td>\n",
       "      <td>Cat</td>\n",
       "      <td>Intact Male</td>\n",
       "      <td>3 weeks</td>\n",
       "      <td>Domestic Shorthair Mix</td>\n",
       "      <td>Blue Cream</td>\n",
       "      <td>0.75</td>\n",
       "      <td>Intact</td>\n",
       "    </tr>\n",
       "    <tr>\n",
       "      <th>4</th>\n",
       "      <td>NaN</td>\n",
       "      <td>2013-11-15 12:52:00</td>\n",
       "      <td>Transfer</td>\n",
       "      <td>Dog</td>\n",
       "      <td>Neutered Male</td>\n",
       "      <td>2 years</td>\n",
       "      <td>Lhasa Apso/Miniature Poodle</td>\n",
       "      <td>Tan</td>\n",
       "      <td>24.00</td>\n",
       "      <td>Sterile</td>\n",
       "    </tr>\n",
       "  </tbody>\n",
       "</table>\n",
       "</div>"
      ],
      "text/plain": [
       "      Name             DateTime      OutcomeType AnimalType SexuponOutcome  \\\n",
       "0  Hambone  2014-02-12 18:22:00  Return_to_owner        Dog  Neutered Male   \n",
       "1    Emily  2013-10-13 12:44:00       Euthanasia        Cat  Spayed Female   \n",
       "2   Pearce  2015-01-31 12:28:00         Adoption        Dog  Neutered Male   \n",
       "3      NaN  2014-07-11 19:09:00         Transfer        Cat    Intact Male   \n",
       "4      NaN  2013-11-15 12:52:00         Transfer        Dog  Neutered Male   \n",
       "\n",
       "  AgeuponOutcome                        Breed        Color  Age_Months  \\\n",
       "0         1 year        Shetland Sheepdog Mix  Brown/White       12.00   \n",
       "1         1 year       Domestic Shorthair Mix  Cream Tabby       12.00   \n",
       "2        2 years                 Pit Bull Mix   Blue/White       24.00   \n",
       "3        3 weeks       Domestic Shorthair Mix   Blue Cream        0.75   \n",
       "4        2 years  Lhasa Apso/Miniature Poodle          Tan       24.00   \n",
       "\n",
       "  Sterile_Ind  \n",
       "0     Sterile  \n",
       "1     Sterile  \n",
       "2     Sterile  \n",
       "3      Intact  \n",
       "4     Sterile  "
      ]
     },
     "execution_count": 159,
     "metadata": {},
     "output_type": "execute_result"
    }
   ],
   "source": [
    "#Creación de la variable \"Sterile_Ind\"\n",
    "def sterile(m):\n",
    "    m = str(m)\n",
    "    if m.find('Neutered') >= 0: return 'Sterile' \n",
    "    if m.find('Spayed')>=0: return 'Sterile'\n",
    "    if m.find('Intact')>= 0: return 'Intact'\n",
    "    return m\n",
    "\n",
    "data_train['Sterile_Ind'] = data_train.SexuponOutcome.apply(sterile)\n",
    "data_test['Sterile_Ind'] = data_test.SexuponOutcome.apply(sterile)\n",
    "data_train.head()"
   ]
  },
  {
   "cell_type": "code",
   "execution_count": 160,
   "metadata": {},
   "outputs": [
    {
     "data": {
      "text/html": [
       "<div>\n",
       "<style>\n",
       "    .dataframe thead tr:only-child th {\n",
       "        text-align: right;\n",
       "    }\n",
       "\n",
       "    .dataframe thead th {\n",
       "        text-align: left;\n",
       "    }\n",
       "\n",
       "    .dataframe tbody tr th {\n",
       "        vertical-align: top;\n",
       "    }\n",
       "</style>\n",
       "<table border=\"1\" class=\"dataframe\">\n",
       "  <thead>\n",
       "    <tr style=\"text-align: right;\">\n",
       "      <th></th>\n",
       "      <th>Name</th>\n",
       "      <th>DateTime</th>\n",
       "      <th>AnimalType</th>\n",
       "      <th>SexuponOutcome</th>\n",
       "      <th>AgeuponOutcome</th>\n",
       "      <th>Breed</th>\n",
       "      <th>Color</th>\n",
       "      <th>Age_Months</th>\n",
       "      <th>Sterile_Ind</th>\n",
       "    </tr>\n",
       "  </thead>\n",
       "  <tbody>\n",
       "    <tr>\n",
       "      <th>0</th>\n",
       "      <td>Summer</td>\n",
       "      <td>2015-10-12 12:15:00</td>\n",
       "      <td>Dog</td>\n",
       "      <td>Intact Female</td>\n",
       "      <td>10 months</td>\n",
       "      <td>Labrador Retriever Mix</td>\n",
       "      <td>Red/White</td>\n",
       "      <td>10.0</td>\n",
       "      <td>Intact</td>\n",
       "    </tr>\n",
       "    <tr>\n",
       "      <th>1</th>\n",
       "      <td>Cheyenne</td>\n",
       "      <td>2014-07-26 17:59:00</td>\n",
       "      <td>Dog</td>\n",
       "      <td>Spayed Female</td>\n",
       "      <td>2 years</td>\n",
       "      <td>German Shepherd/Siberian Husky</td>\n",
       "      <td>Black/Tan</td>\n",
       "      <td>24.0</td>\n",
       "      <td>Sterile</td>\n",
       "    </tr>\n",
       "    <tr>\n",
       "      <th>2</th>\n",
       "      <td>Gus</td>\n",
       "      <td>2016-01-13 12:20:00</td>\n",
       "      <td>Cat</td>\n",
       "      <td>Neutered Male</td>\n",
       "      <td>1 year</td>\n",
       "      <td>Domestic Shorthair Mix</td>\n",
       "      <td>Brown Tabby</td>\n",
       "      <td>12.0</td>\n",
       "      <td>Sterile</td>\n",
       "    </tr>\n",
       "    <tr>\n",
       "      <th>3</th>\n",
       "      <td>Pongo</td>\n",
       "      <td>2013-12-28 18:12:00</td>\n",
       "      <td>Dog</td>\n",
       "      <td>Intact Male</td>\n",
       "      <td>4 months</td>\n",
       "      <td>Collie Smooth Mix</td>\n",
       "      <td>Tricolor</td>\n",
       "      <td>4.0</td>\n",
       "      <td>Intact</td>\n",
       "    </tr>\n",
       "    <tr>\n",
       "      <th>4</th>\n",
       "      <td>Skooter</td>\n",
       "      <td>2015-09-24 17:59:00</td>\n",
       "      <td>Dog</td>\n",
       "      <td>Neutered Male</td>\n",
       "      <td>2 years</td>\n",
       "      <td>Miniature Poodle Mix</td>\n",
       "      <td>White</td>\n",
       "      <td>24.0</td>\n",
       "      <td>Sterile</td>\n",
       "    </tr>\n",
       "  </tbody>\n",
       "</table>\n",
       "</div>"
      ],
      "text/plain": [
       "       Name             DateTime AnimalType SexuponOutcome AgeuponOutcome  \\\n",
       "0    Summer  2015-10-12 12:15:00        Dog  Intact Female      10 months   \n",
       "1  Cheyenne  2014-07-26 17:59:00        Dog  Spayed Female        2 years   \n",
       "2       Gus  2016-01-13 12:20:00        Cat  Neutered Male         1 year   \n",
       "3     Pongo  2013-12-28 18:12:00        Dog    Intact Male       4 months   \n",
       "4   Skooter  2015-09-24 17:59:00        Dog  Neutered Male        2 years   \n",
       "\n",
       "                            Breed        Color  Age_Months Sterile_Ind  \n",
       "0          Labrador Retriever Mix    Red/White        10.0      Intact  \n",
       "1  German Shepherd/Siberian Husky    Black/Tan        24.0     Sterile  \n",
       "2          Domestic Shorthair Mix  Brown Tabby        12.0     Sterile  \n",
       "3               Collie Smooth Mix     Tricolor         4.0      Intact  \n",
       "4            Miniature Poodle Mix        White        24.0     Sterile  "
      ]
     },
     "execution_count": 160,
     "metadata": {},
     "output_type": "execute_result"
    }
   ],
   "source": [
    "data_test.head()"
   ]
  },
  {
   "cell_type": "markdown",
   "metadata": {},
   "source": [
    "De la misma variable se crea aquella que contendrá el género de la mascota (macho, hembra o desconocido):"
   ]
  },
  {
   "cell_type": "code",
   "execution_count": 161,
   "metadata": {},
   "outputs": [
    {
     "data": {
      "text/html": [
       "<div>\n",
       "<style>\n",
       "    .dataframe thead tr:only-child th {\n",
       "        text-align: right;\n",
       "    }\n",
       "\n",
       "    .dataframe thead th {\n",
       "        text-align: left;\n",
       "    }\n",
       "\n",
       "    .dataframe tbody tr th {\n",
       "        vertical-align: top;\n",
       "    }\n",
       "</style>\n",
       "<table border=\"1\" class=\"dataframe\">\n",
       "  <thead>\n",
       "    <tr style=\"text-align: right;\">\n",
       "      <th></th>\n",
       "      <th>Name</th>\n",
       "      <th>DateTime</th>\n",
       "      <th>OutcomeType</th>\n",
       "      <th>AnimalType</th>\n",
       "      <th>SexuponOutcome</th>\n",
       "      <th>AgeuponOutcome</th>\n",
       "      <th>Breed</th>\n",
       "      <th>Color</th>\n",
       "      <th>Age_Months</th>\n",
       "      <th>Sterile_Ind</th>\n",
       "      <th>Sex</th>\n",
       "    </tr>\n",
       "  </thead>\n",
       "  <tbody>\n",
       "    <tr>\n",
       "      <th>0</th>\n",
       "      <td>Hambone</td>\n",
       "      <td>2014-02-12 18:22:00</td>\n",
       "      <td>Return_to_owner</td>\n",
       "      <td>Dog</td>\n",
       "      <td>Neutered Male</td>\n",
       "      <td>1 year</td>\n",
       "      <td>Shetland Sheepdog Mix</td>\n",
       "      <td>Brown/White</td>\n",
       "      <td>12.00</td>\n",
       "      <td>Sterile</td>\n",
       "      <td>male</td>\n",
       "    </tr>\n",
       "    <tr>\n",
       "      <th>1</th>\n",
       "      <td>Emily</td>\n",
       "      <td>2013-10-13 12:44:00</td>\n",
       "      <td>Euthanasia</td>\n",
       "      <td>Cat</td>\n",
       "      <td>Spayed Female</td>\n",
       "      <td>1 year</td>\n",
       "      <td>Domestic Shorthair Mix</td>\n",
       "      <td>Cream Tabby</td>\n",
       "      <td>12.00</td>\n",
       "      <td>Sterile</td>\n",
       "      <td>female</td>\n",
       "    </tr>\n",
       "    <tr>\n",
       "      <th>2</th>\n",
       "      <td>Pearce</td>\n",
       "      <td>2015-01-31 12:28:00</td>\n",
       "      <td>Adoption</td>\n",
       "      <td>Dog</td>\n",
       "      <td>Neutered Male</td>\n",
       "      <td>2 years</td>\n",
       "      <td>Pit Bull Mix</td>\n",
       "      <td>Blue/White</td>\n",
       "      <td>24.00</td>\n",
       "      <td>Sterile</td>\n",
       "      <td>male</td>\n",
       "    </tr>\n",
       "    <tr>\n",
       "      <th>3</th>\n",
       "      <td>NaN</td>\n",
       "      <td>2014-07-11 19:09:00</td>\n",
       "      <td>Transfer</td>\n",
       "      <td>Cat</td>\n",
       "      <td>Intact Male</td>\n",
       "      <td>3 weeks</td>\n",
       "      <td>Domestic Shorthair Mix</td>\n",
       "      <td>Blue Cream</td>\n",
       "      <td>0.75</td>\n",
       "      <td>Intact</td>\n",
       "      <td>male</td>\n",
       "    </tr>\n",
       "    <tr>\n",
       "      <th>4</th>\n",
       "      <td>NaN</td>\n",
       "      <td>2013-11-15 12:52:00</td>\n",
       "      <td>Transfer</td>\n",
       "      <td>Dog</td>\n",
       "      <td>Neutered Male</td>\n",
       "      <td>2 years</td>\n",
       "      <td>Lhasa Apso/Miniature Poodle</td>\n",
       "      <td>Tan</td>\n",
       "      <td>24.00</td>\n",
       "      <td>Sterile</td>\n",
       "      <td>male</td>\n",
       "    </tr>\n",
       "  </tbody>\n",
       "</table>\n",
       "</div>"
      ],
      "text/plain": [
       "      Name             DateTime      OutcomeType AnimalType SexuponOutcome  \\\n",
       "0  Hambone  2014-02-12 18:22:00  Return_to_owner        Dog  Neutered Male   \n",
       "1    Emily  2013-10-13 12:44:00       Euthanasia        Cat  Spayed Female   \n",
       "2   Pearce  2015-01-31 12:28:00         Adoption        Dog  Neutered Male   \n",
       "3      NaN  2014-07-11 19:09:00         Transfer        Cat    Intact Male   \n",
       "4      NaN  2013-11-15 12:52:00         Transfer        Dog  Neutered Male   \n",
       "\n",
       "  AgeuponOutcome                        Breed        Color  Age_Months  \\\n",
       "0         1 year        Shetland Sheepdog Mix  Brown/White       12.00   \n",
       "1         1 year       Domestic Shorthair Mix  Cream Tabby       12.00   \n",
       "2        2 years                 Pit Bull Mix   Blue/White       24.00   \n",
       "3        3 weeks       Domestic Shorthair Mix   Blue Cream        0.75   \n",
       "4        2 years  Lhasa Apso/Miniature Poodle          Tan       24.00   \n",
       "\n",
       "  Sterile_Ind     Sex  \n",
       "0     Sterile    male  \n",
       "1     Sterile  female  \n",
       "2     Sterile    male  \n",
       "3      Intact    male  \n",
       "4     Sterile    male  "
      ]
     },
     "execution_count": 161,
     "metadata": {},
     "output_type": "execute_result"
    }
   ],
   "source": [
    "def animalsex(x):\n",
    "    x = str(x)\n",
    "    if x.find('Male') >= 0: return 'male'\n",
    "    if x.find('Female') >= 0: return 'female'\n",
    "    return 'unknown'\n",
    "\n",
    "data_train['Sex'] = data_train.SexuponOutcome.apply(animalsex)\n",
    "data_test['Sex'] = data_test.SexuponOutcome.apply(animalsex)\n",
    "data_train.head()"
   ]
  },
  {
   "cell_type": "code",
   "execution_count": 162,
   "metadata": {},
   "outputs": [
    {
     "data": {
      "text/html": [
       "<div>\n",
       "<style>\n",
       "    .dataframe thead tr:only-child th {\n",
       "        text-align: right;\n",
       "    }\n",
       "\n",
       "    .dataframe thead th {\n",
       "        text-align: left;\n",
       "    }\n",
       "\n",
       "    .dataframe tbody tr th {\n",
       "        vertical-align: top;\n",
       "    }\n",
       "</style>\n",
       "<table border=\"1\" class=\"dataframe\">\n",
       "  <thead>\n",
       "    <tr style=\"text-align: right;\">\n",
       "      <th></th>\n",
       "      <th>Name</th>\n",
       "      <th>DateTime</th>\n",
       "      <th>AnimalType</th>\n",
       "      <th>SexuponOutcome</th>\n",
       "      <th>AgeuponOutcome</th>\n",
       "      <th>Breed</th>\n",
       "      <th>Color</th>\n",
       "      <th>Age_Months</th>\n",
       "      <th>Sterile_Ind</th>\n",
       "      <th>Sex</th>\n",
       "    </tr>\n",
       "  </thead>\n",
       "  <tbody>\n",
       "    <tr>\n",
       "      <th>0</th>\n",
       "      <td>Summer</td>\n",
       "      <td>2015-10-12 12:15:00</td>\n",
       "      <td>Dog</td>\n",
       "      <td>Intact Female</td>\n",
       "      <td>10 months</td>\n",
       "      <td>Labrador Retriever Mix</td>\n",
       "      <td>Red/White</td>\n",
       "      <td>10.0</td>\n",
       "      <td>Intact</td>\n",
       "      <td>female</td>\n",
       "    </tr>\n",
       "    <tr>\n",
       "      <th>1</th>\n",
       "      <td>Cheyenne</td>\n",
       "      <td>2014-07-26 17:59:00</td>\n",
       "      <td>Dog</td>\n",
       "      <td>Spayed Female</td>\n",
       "      <td>2 years</td>\n",
       "      <td>German Shepherd/Siberian Husky</td>\n",
       "      <td>Black/Tan</td>\n",
       "      <td>24.0</td>\n",
       "      <td>Sterile</td>\n",
       "      <td>female</td>\n",
       "    </tr>\n",
       "    <tr>\n",
       "      <th>2</th>\n",
       "      <td>Gus</td>\n",
       "      <td>2016-01-13 12:20:00</td>\n",
       "      <td>Cat</td>\n",
       "      <td>Neutered Male</td>\n",
       "      <td>1 year</td>\n",
       "      <td>Domestic Shorthair Mix</td>\n",
       "      <td>Brown Tabby</td>\n",
       "      <td>12.0</td>\n",
       "      <td>Sterile</td>\n",
       "      <td>male</td>\n",
       "    </tr>\n",
       "    <tr>\n",
       "      <th>3</th>\n",
       "      <td>Pongo</td>\n",
       "      <td>2013-12-28 18:12:00</td>\n",
       "      <td>Dog</td>\n",
       "      <td>Intact Male</td>\n",
       "      <td>4 months</td>\n",
       "      <td>Collie Smooth Mix</td>\n",
       "      <td>Tricolor</td>\n",
       "      <td>4.0</td>\n",
       "      <td>Intact</td>\n",
       "      <td>male</td>\n",
       "    </tr>\n",
       "    <tr>\n",
       "      <th>4</th>\n",
       "      <td>Skooter</td>\n",
       "      <td>2015-09-24 17:59:00</td>\n",
       "      <td>Dog</td>\n",
       "      <td>Neutered Male</td>\n",
       "      <td>2 years</td>\n",
       "      <td>Miniature Poodle Mix</td>\n",
       "      <td>White</td>\n",
       "      <td>24.0</td>\n",
       "      <td>Sterile</td>\n",
       "      <td>male</td>\n",
       "    </tr>\n",
       "  </tbody>\n",
       "</table>\n",
       "</div>"
      ],
      "text/plain": [
       "       Name             DateTime AnimalType SexuponOutcome AgeuponOutcome  \\\n",
       "0    Summer  2015-10-12 12:15:00        Dog  Intact Female      10 months   \n",
       "1  Cheyenne  2014-07-26 17:59:00        Dog  Spayed Female        2 years   \n",
       "2       Gus  2016-01-13 12:20:00        Cat  Neutered Male         1 year   \n",
       "3     Pongo  2013-12-28 18:12:00        Dog    Intact Male       4 months   \n",
       "4   Skooter  2015-09-24 17:59:00        Dog  Neutered Male        2 years   \n",
       "\n",
       "                            Breed        Color  Age_Months Sterile_Ind     Sex  \n",
       "0          Labrador Retriever Mix    Red/White        10.0      Intact  female  \n",
       "1  German Shepherd/Siberian Husky    Black/Tan        24.0     Sterile  female  \n",
       "2          Domestic Shorthair Mix  Brown Tabby        12.0     Sterile    male  \n",
       "3               Collie Smooth Mix     Tricolor         4.0      Intact    male  \n",
       "4            Miniature Poodle Mix        White        24.0     Sterile    male  "
      ]
     },
     "execution_count": 162,
     "metadata": {},
     "output_type": "execute_result"
    }
   ],
   "source": [
    "data_test.head()"
   ]
  },
  {
   "cell_type": "markdown",
   "metadata": {},
   "source": [
    "## 'Name'\n",
    "\n",
    "Para esta variable realizaremos una transformación para agrupar las mascotas entre aquellas que tienen nombre y aquellas que no. Esto con el fin de reducir el número de categorías de la base original. Esto se realizara por medio de otra función:"
   ]
  },
  {
   "cell_type": "code",
   "execution_count": 163,
   "metadata": {
    "scrolled": true
   },
   "outputs": [
    {
     "data": {
      "text/html": [
       "<div>\n",
       "<style>\n",
       "    .dataframe thead tr:only-child th {\n",
       "        text-align: right;\n",
       "    }\n",
       "\n",
       "    .dataframe thead th {\n",
       "        text-align: left;\n",
       "    }\n",
       "\n",
       "    .dataframe tbody tr th {\n",
       "        vertical-align: top;\n",
       "    }\n",
       "</style>\n",
       "<table border=\"1\" class=\"dataframe\">\n",
       "  <thead>\n",
       "    <tr style=\"text-align: right;\">\n",
       "      <th></th>\n",
       "      <th>Name</th>\n",
       "      <th>DateTime</th>\n",
       "      <th>OutcomeType</th>\n",
       "      <th>AnimalType</th>\n",
       "      <th>SexuponOutcome</th>\n",
       "      <th>AgeuponOutcome</th>\n",
       "      <th>Breed</th>\n",
       "      <th>Color</th>\n",
       "      <th>Age_Months</th>\n",
       "      <th>Sterile_Ind</th>\n",
       "      <th>Sex</th>\n",
       "      <th>Named</th>\n",
       "    </tr>\n",
       "  </thead>\n",
       "  <tbody>\n",
       "    <tr>\n",
       "      <th>0</th>\n",
       "      <td>Hambone</td>\n",
       "      <td>2014-02-12 18:22:00</td>\n",
       "      <td>Return_to_owner</td>\n",
       "      <td>Dog</td>\n",
       "      <td>Neutered Male</td>\n",
       "      <td>1 year</td>\n",
       "      <td>Shetland Sheepdog Mix</td>\n",
       "      <td>Brown/White</td>\n",
       "      <td>12.00</td>\n",
       "      <td>Sterile</td>\n",
       "      <td>male</td>\n",
       "      <td>With_name</td>\n",
       "    </tr>\n",
       "    <tr>\n",
       "      <th>1</th>\n",
       "      <td>Emily</td>\n",
       "      <td>2013-10-13 12:44:00</td>\n",
       "      <td>Euthanasia</td>\n",
       "      <td>Cat</td>\n",
       "      <td>Spayed Female</td>\n",
       "      <td>1 year</td>\n",
       "      <td>Domestic Shorthair Mix</td>\n",
       "      <td>Cream Tabby</td>\n",
       "      <td>12.00</td>\n",
       "      <td>Sterile</td>\n",
       "      <td>female</td>\n",
       "      <td>With_name</td>\n",
       "    </tr>\n",
       "    <tr>\n",
       "      <th>2</th>\n",
       "      <td>Pearce</td>\n",
       "      <td>2015-01-31 12:28:00</td>\n",
       "      <td>Adoption</td>\n",
       "      <td>Dog</td>\n",
       "      <td>Neutered Male</td>\n",
       "      <td>2 years</td>\n",
       "      <td>Pit Bull Mix</td>\n",
       "      <td>Blue/White</td>\n",
       "      <td>24.00</td>\n",
       "      <td>Sterile</td>\n",
       "      <td>male</td>\n",
       "      <td>With_name</td>\n",
       "    </tr>\n",
       "    <tr>\n",
       "      <th>3</th>\n",
       "      <td>NaN</td>\n",
       "      <td>2014-07-11 19:09:00</td>\n",
       "      <td>Transfer</td>\n",
       "      <td>Cat</td>\n",
       "      <td>Intact Male</td>\n",
       "      <td>3 weeks</td>\n",
       "      <td>Domestic Shorthair Mix</td>\n",
       "      <td>Blue Cream</td>\n",
       "      <td>0.75</td>\n",
       "      <td>Intact</td>\n",
       "      <td>male</td>\n",
       "      <td>Without_name</td>\n",
       "    </tr>\n",
       "    <tr>\n",
       "      <th>4</th>\n",
       "      <td>NaN</td>\n",
       "      <td>2013-11-15 12:52:00</td>\n",
       "      <td>Transfer</td>\n",
       "      <td>Dog</td>\n",
       "      <td>Neutered Male</td>\n",
       "      <td>2 years</td>\n",
       "      <td>Lhasa Apso/Miniature Poodle</td>\n",
       "      <td>Tan</td>\n",
       "      <td>24.00</td>\n",
       "      <td>Sterile</td>\n",
       "      <td>male</td>\n",
       "      <td>Without_name</td>\n",
       "    </tr>\n",
       "  </tbody>\n",
       "</table>\n",
       "</div>"
      ],
      "text/plain": [
       "      Name             DateTime      OutcomeType AnimalType SexuponOutcome  \\\n",
       "0  Hambone  2014-02-12 18:22:00  Return_to_owner        Dog  Neutered Male   \n",
       "1    Emily  2013-10-13 12:44:00       Euthanasia        Cat  Spayed Female   \n",
       "2   Pearce  2015-01-31 12:28:00         Adoption        Dog  Neutered Male   \n",
       "3      NaN  2014-07-11 19:09:00         Transfer        Cat    Intact Male   \n",
       "4      NaN  2013-11-15 12:52:00         Transfer        Dog  Neutered Male   \n",
       "\n",
       "  AgeuponOutcome                        Breed        Color  Age_Months  \\\n",
       "0         1 year        Shetland Sheepdog Mix  Brown/White       12.00   \n",
       "1         1 year       Domestic Shorthair Mix  Cream Tabby       12.00   \n",
       "2        2 years                 Pit Bull Mix   Blue/White       24.00   \n",
       "3        3 weeks       Domestic Shorthair Mix   Blue Cream        0.75   \n",
       "4        2 years  Lhasa Apso/Miniature Poodle          Tan       24.00   \n",
       "\n",
       "  Sterile_Ind     Sex         Named  \n",
       "0     Sterile    male     With_name  \n",
       "1     Sterile  female     With_name  \n",
       "2     Sterile    male     With_name  \n",
       "3      Intact    male  Without_name  \n",
       "4     Sterile    male  Without_name  "
      ]
     },
     "execution_count": 163,
     "metadata": {},
     "output_type": "execute_result"
    }
   ],
   "source": [
    "def named(x):\n",
    "    x = str(x)\n",
    "    if x == 'nan' : return 'Without_name'\n",
    "    if x != 'nan' :return 'With_name'\n",
    "    return 'unknown'\n",
    "\n",
    "data_train['Named'] = data_train.Name.apply(named)\n",
    "data_test['Named'] = data_test.Name.apply(named)\n",
    "data_train.head()"
   ]
  },
  {
   "cell_type": "code",
   "execution_count": 164,
   "metadata": {},
   "outputs": [
    {
     "data": {
      "text/html": [
       "<div>\n",
       "<style>\n",
       "    .dataframe thead tr:only-child th {\n",
       "        text-align: right;\n",
       "    }\n",
       "\n",
       "    .dataframe thead th {\n",
       "        text-align: left;\n",
       "    }\n",
       "\n",
       "    .dataframe tbody tr th {\n",
       "        vertical-align: top;\n",
       "    }\n",
       "</style>\n",
       "<table border=\"1\" class=\"dataframe\">\n",
       "  <thead>\n",
       "    <tr style=\"text-align: right;\">\n",
       "      <th></th>\n",
       "      <th>Name</th>\n",
       "      <th>DateTime</th>\n",
       "      <th>AnimalType</th>\n",
       "      <th>SexuponOutcome</th>\n",
       "      <th>AgeuponOutcome</th>\n",
       "      <th>Breed</th>\n",
       "      <th>Color</th>\n",
       "      <th>Age_Months</th>\n",
       "      <th>Sterile_Ind</th>\n",
       "      <th>Sex</th>\n",
       "      <th>Named</th>\n",
       "    </tr>\n",
       "  </thead>\n",
       "  <tbody>\n",
       "    <tr>\n",
       "      <th>0</th>\n",
       "      <td>Summer</td>\n",
       "      <td>2015-10-12 12:15:00</td>\n",
       "      <td>Dog</td>\n",
       "      <td>Intact Female</td>\n",
       "      <td>10 months</td>\n",
       "      <td>Labrador Retriever Mix</td>\n",
       "      <td>Red/White</td>\n",
       "      <td>10.0</td>\n",
       "      <td>Intact</td>\n",
       "      <td>female</td>\n",
       "      <td>With_name</td>\n",
       "    </tr>\n",
       "    <tr>\n",
       "      <th>1</th>\n",
       "      <td>Cheyenne</td>\n",
       "      <td>2014-07-26 17:59:00</td>\n",
       "      <td>Dog</td>\n",
       "      <td>Spayed Female</td>\n",
       "      <td>2 years</td>\n",
       "      <td>German Shepherd/Siberian Husky</td>\n",
       "      <td>Black/Tan</td>\n",
       "      <td>24.0</td>\n",
       "      <td>Sterile</td>\n",
       "      <td>female</td>\n",
       "      <td>With_name</td>\n",
       "    </tr>\n",
       "    <tr>\n",
       "      <th>2</th>\n",
       "      <td>Gus</td>\n",
       "      <td>2016-01-13 12:20:00</td>\n",
       "      <td>Cat</td>\n",
       "      <td>Neutered Male</td>\n",
       "      <td>1 year</td>\n",
       "      <td>Domestic Shorthair Mix</td>\n",
       "      <td>Brown Tabby</td>\n",
       "      <td>12.0</td>\n",
       "      <td>Sterile</td>\n",
       "      <td>male</td>\n",
       "      <td>With_name</td>\n",
       "    </tr>\n",
       "    <tr>\n",
       "      <th>3</th>\n",
       "      <td>Pongo</td>\n",
       "      <td>2013-12-28 18:12:00</td>\n",
       "      <td>Dog</td>\n",
       "      <td>Intact Male</td>\n",
       "      <td>4 months</td>\n",
       "      <td>Collie Smooth Mix</td>\n",
       "      <td>Tricolor</td>\n",
       "      <td>4.0</td>\n",
       "      <td>Intact</td>\n",
       "      <td>male</td>\n",
       "      <td>With_name</td>\n",
       "    </tr>\n",
       "    <tr>\n",
       "      <th>4</th>\n",
       "      <td>Skooter</td>\n",
       "      <td>2015-09-24 17:59:00</td>\n",
       "      <td>Dog</td>\n",
       "      <td>Neutered Male</td>\n",
       "      <td>2 years</td>\n",
       "      <td>Miniature Poodle Mix</td>\n",
       "      <td>White</td>\n",
       "      <td>24.0</td>\n",
       "      <td>Sterile</td>\n",
       "      <td>male</td>\n",
       "      <td>With_name</td>\n",
       "    </tr>\n",
       "  </tbody>\n",
       "</table>\n",
       "</div>"
      ],
      "text/plain": [
       "       Name             DateTime AnimalType SexuponOutcome AgeuponOutcome  \\\n",
       "0    Summer  2015-10-12 12:15:00        Dog  Intact Female      10 months   \n",
       "1  Cheyenne  2014-07-26 17:59:00        Dog  Spayed Female        2 years   \n",
       "2       Gus  2016-01-13 12:20:00        Cat  Neutered Male         1 year   \n",
       "3     Pongo  2013-12-28 18:12:00        Dog    Intact Male       4 months   \n",
       "4   Skooter  2015-09-24 17:59:00        Dog  Neutered Male        2 years   \n",
       "\n",
       "                            Breed        Color  Age_Months Sterile_Ind  \\\n",
       "0          Labrador Retriever Mix    Red/White        10.0      Intact   \n",
       "1  German Shepherd/Siberian Husky    Black/Tan        24.0     Sterile   \n",
       "2          Domestic Shorthair Mix  Brown Tabby        12.0     Sterile   \n",
       "3               Collie Smooth Mix     Tricolor         4.0      Intact   \n",
       "4            Miniature Poodle Mix        White        24.0     Sterile   \n",
       "\n",
       "      Sex      Named  \n",
       "0  female  With_name  \n",
       "1  female  With_name  \n",
       "2    male  With_name  \n",
       "3    male  With_name  \n",
       "4    male  With_name  "
      ]
     },
     "execution_count": 164,
     "metadata": {},
     "output_type": "execute_result"
    }
   ],
   "source": [
    "data_test.head()"
   ]
  },
  {
   "cell_type": "markdown",
   "metadata": {},
   "source": [
    "## 'Color'\n",
    "\n",
    "La idea es crear categorías que agrupen los datos disponibles de color, ya que de lo contrario trataríamos con muchas categorías. Este proceso consta de tres fases. Inicialmente, analizamos todas las categorías disponibles:"
   ]
  },
  {
   "cell_type": "code",
   "execution_count": 165,
   "metadata": {},
   "outputs": [
    {
     "data": {
      "text/plain": [
       "Black/White                    2824\n",
       "Black                          2292\n",
       "Brown Tabby                    1635\n",
       "Brown Tabby/White               940\n",
       "White                           931\n",
       "Brown/White                     884\n",
       "Orange Tabby                    841\n",
       "Tan/White                       773\n",
       "Tricolor                        752\n",
       "Blue/White                      702\n",
       "Black/Tan                       672\n",
       "White/Black                     643\n",
       "Brown                           639\n",
       "Tan                             628\n",
       "White/Brown                     569\n",
       "Tortie                          530\n",
       "Calico                          517\n",
       "Orange Tabby/White              455\n",
       "Brown Brindle/White             450\n",
       "Blue                            450\n",
       "Black/Brown                     436\n",
       "Blue Tabby                      433\n",
       "White/Tan                       389\n",
       "Red                             337\n",
       "Torbie                          335\n",
       "Brown/Black                     333\n",
       "Red/White                       331\n",
       "Blue Tabby/White                241\n",
       "Brown Brindle                   232\n",
       "Chocolate/White                 224\n",
       "                               ... \n",
       "Brown Tabby/Brown                 1\n",
       "Cream/Red Tick                    1\n",
       "Brown/Brown Merle                 1\n",
       "Orange Tiger                      1\n",
       "Calico/Brown                      1\n",
       "Black/Silver Tabby                1\n",
       "Agouti/Brown Tabby                1\n",
       "Brown Brindle/Blue                1\n",
       "Blue Smoke/Brown                  1\n",
       "Blue Tabby/Tan                    1\n",
       "Tan/Brown Brindle                 1\n",
       "Brown Brindle/Brown Merle         1\n",
       "Gold/Yellow                       1\n",
       "Red Tick/Brown Merle              1\n",
       "Sable/Red                         1\n",
       "Brown Brindle/Brown Brindle       1\n",
       "Chocolate/Gray                    1\n",
       "Ruddy/Cream                       1\n",
       "Tortie Point/Lynx Point           1\n",
       "Brown/Black Tabby                 1\n",
       "Blue Tabby/Blue Cream             1\n",
       "Calico/Blue Cream                 1\n",
       "Black Tabby/Orange                1\n",
       "Tricolor/Blue Merle               1\n",
       "Torbie/Brown                      1\n",
       "Blue Tabby/Cream                  1\n",
       "Yellow Brindle/Blue               1\n",
       "Torbie/Calico                     1\n",
       "Chocolate/Gold                    1\n",
       "Gold/Buff                         1\n",
       "Name: Color, Length: 366, dtype: int64"
      ]
     },
     "execution_count": 165,
     "metadata": {},
     "output_type": "execute_result"
    }
   ],
   "source": [
    "data_train['Color'].value_counts()"
   ]
  },
  {
   "cell_type": "code",
   "execution_count": 166,
   "metadata": {},
   "outputs": [
    {
     "data": {
      "text/plain": [
       "Black/White              1219\n",
       "Black                     973\n",
       "Brown Tabby               724\n",
       "White                     402\n",
       "Brown Tabby/White         393\n",
       "Brown/White               373\n",
       "Orange Tabby              346\n",
       "Tan/White                 341\n",
       "Tricolor                  315\n",
       "Black/Tan                 314\n",
       "Blue/White                302\n",
       "White/Black               302\n",
       "Tan                       282\n",
       "Brown                     256\n",
       "Tortie                    240\n",
       "Blue                      224\n",
       "Brown Brindle/White       211\n",
       "White/Brown               202\n",
       "Calico                    193\n",
       "Black/Brown               188\n",
       "Blue Tabby                183\n",
       "Orange Tabby/White        174\n",
       "White/Tan                 168\n",
       "Brown/Black               160\n",
       "Red/White                 140\n",
       "Torbie                    139\n",
       "Red                       133\n",
       "Brown Brindle             115\n",
       "Cream Tabby               111\n",
       "Chocolate/White            97\n",
       "                         ... \n",
       "Tricolor/Tan                1\n",
       "Fawn/Brown                  1\n",
       "Blue Tabby/Blue Cream       1\n",
       "Fawn/Chocolate              1\n",
       "Gold/Tan                    1\n",
       "Buff/Gray                   1\n",
       "Pink                        1\n",
       "Chocolate/Brown             1\n",
       "Red Tick/Red                1\n",
       "Fawn/Gray                   1\n",
       "Sable/Silver                1\n",
       "Red/Red                     1\n",
       "Gray/Silver                 1\n",
       "Tricolor/Brown Merle        1\n",
       "Blue Tick/Red Tick          1\n",
       "Chocolate/Cream             1\n",
       "Gray/Gold                   1\n",
       "Blue Smoke/White            1\n",
       "Yellow/Tan                  1\n",
       "White/Cream Tabby           1\n",
       "Silver/Brown                1\n",
       "Gold/Cream                  1\n",
       "Tricolor/Tricolor           1\n",
       "Brown/Red Merle             1\n",
       "Tricolor/Black              1\n",
       "Calico/Brown                1\n",
       "Cream/Gray                  1\n",
       "White/Gray Tiger            1\n",
       "Black/Yellow Brindle        1\n",
       "Tricolor/Blue Tick          1\n",
       "Name: Color, Length: 277, dtype: int64"
      ]
     },
     "execution_count": 166,
     "metadata": {},
     "output_type": "execute_result"
    }
   ],
   "source": [
    "data_test['Color'].value_counts()"
   ]
  },
  {
   "cell_type": "markdown",
   "metadata": {},
   "source": [
    "Posteriormente, hacemos una primera categorización que consta de encontrar \"/\" en el texto, lo que implica que la mascota tiene más de un color y por ende se agrupará bao la categoría \"Mixed\". Igualmente el color \"Tricolor\" se categoriza igualmentge como Mixed."
   ]
  },
  {
   "cell_type": "code",
   "execution_count": 167,
   "metadata": {},
   "outputs": [
    {
     "data": {
      "text/html": [
       "<div>\n",
       "<style>\n",
       "    .dataframe thead tr:only-child th {\n",
       "        text-align: right;\n",
       "    }\n",
       "\n",
       "    .dataframe thead th {\n",
       "        text-align: left;\n",
       "    }\n",
       "\n",
       "    .dataframe tbody tr th {\n",
       "        vertical-align: top;\n",
       "    }\n",
       "</style>\n",
       "<table border=\"1\" class=\"dataframe\">\n",
       "  <thead>\n",
       "    <tr style=\"text-align: right;\">\n",
       "      <th></th>\n",
       "      <th>Name</th>\n",
       "      <th>DateTime</th>\n",
       "      <th>OutcomeType</th>\n",
       "      <th>AnimalType</th>\n",
       "      <th>SexuponOutcome</th>\n",
       "      <th>AgeuponOutcome</th>\n",
       "      <th>Breed</th>\n",
       "      <th>Color</th>\n",
       "      <th>Age_Months</th>\n",
       "      <th>Sterile_Ind</th>\n",
       "      <th>Sex</th>\n",
       "      <th>Named</th>\n",
       "      <th>color</th>\n",
       "    </tr>\n",
       "  </thead>\n",
       "  <tbody>\n",
       "    <tr>\n",
       "      <th>0</th>\n",
       "      <td>Hambone</td>\n",
       "      <td>2014-02-12 18:22:00</td>\n",
       "      <td>Return_to_owner</td>\n",
       "      <td>Dog</td>\n",
       "      <td>Neutered Male</td>\n",
       "      <td>1 year</td>\n",
       "      <td>Shetland Sheepdog Mix</td>\n",
       "      <td>Brown/White</td>\n",
       "      <td>12.00</td>\n",
       "      <td>Sterile</td>\n",
       "      <td>male</td>\n",
       "      <td>With_name</td>\n",
       "      <td>Mixed</td>\n",
       "    </tr>\n",
       "    <tr>\n",
       "      <th>1</th>\n",
       "      <td>Emily</td>\n",
       "      <td>2013-10-13 12:44:00</td>\n",
       "      <td>Euthanasia</td>\n",
       "      <td>Cat</td>\n",
       "      <td>Spayed Female</td>\n",
       "      <td>1 year</td>\n",
       "      <td>Domestic Shorthair Mix</td>\n",
       "      <td>Cream Tabby</td>\n",
       "      <td>12.00</td>\n",
       "      <td>Sterile</td>\n",
       "      <td>female</td>\n",
       "      <td>With_name</td>\n",
       "      <td>Cream Tabby</td>\n",
       "    </tr>\n",
       "    <tr>\n",
       "      <th>2</th>\n",
       "      <td>Pearce</td>\n",
       "      <td>2015-01-31 12:28:00</td>\n",
       "      <td>Adoption</td>\n",
       "      <td>Dog</td>\n",
       "      <td>Neutered Male</td>\n",
       "      <td>2 years</td>\n",
       "      <td>Pit Bull Mix</td>\n",
       "      <td>Blue/White</td>\n",
       "      <td>24.00</td>\n",
       "      <td>Sterile</td>\n",
       "      <td>male</td>\n",
       "      <td>With_name</td>\n",
       "      <td>Mixed</td>\n",
       "    </tr>\n",
       "    <tr>\n",
       "      <th>3</th>\n",
       "      <td>NaN</td>\n",
       "      <td>2014-07-11 19:09:00</td>\n",
       "      <td>Transfer</td>\n",
       "      <td>Cat</td>\n",
       "      <td>Intact Male</td>\n",
       "      <td>3 weeks</td>\n",
       "      <td>Domestic Shorthair Mix</td>\n",
       "      <td>Blue Cream</td>\n",
       "      <td>0.75</td>\n",
       "      <td>Intact</td>\n",
       "      <td>male</td>\n",
       "      <td>Without_name</td>\n",
       "      <td>Blue Cream</td>\n",
       "    </tr>\n",
       "    <tr>\n",
       "      <th>4</th>\n",
       "      <td>NaN</td>\n",
       "      <td>2013-11-15 12:52:00</td>\n",
       "      <td>Transfer</td>\n",
       "      <td>Dog</td>\n",
       "      <td>Neutered Male</td>\n",
       "      <td>2 years</td>\n",
       "      <td>Lhasa Apso/Miniature Poodle</td>\n",
       "      <td>Tan</td>\n",
       "      <td>24.00</td>\n",
       "      <td>Sterile</td>\n",
       "      <td>male</td>\n",
       "      <td>Without_name</td>\n",
       "      <td>Tan</td>\n",
       "    </tr>\n",
       "  </tbody>\n",
       "</table>\n",
       "</div>"
      ],
      "text/plain": [
       "      Name             DateTime      OutcomeType AnimalType SexuponOutcome  \\\n",
       "0  Hambone  2014-02-12 18:22:00  Return_to_owner        Dog  Neutered Male   \n",
       "1    Emily  2013-10-13 12:44:00       Euthanasia        Cat  Spayed Female   \n",
       "2   Pearce  2015-01-31 12:28:00         Adoption        Dog  Neutered Male   \n",
       "3      NaN  2014-07-11 19:09:00         Transfer        Cat    Intact Male   \n",
       "4      NaN  2013-11-15 12:52:00         Transfer        Dog  Neutered Male   \n",
       "\n",
       "  AgeuponOutcome                        Breed        Color  Age_Months  \\\n",
       "0         1 year        Shetland Sheepdog Mix  Brown/White       12.00   \n",
       "1         1 year       Domestic Shorthair Mix  Cream Tabby       12.00   \n",
       "2        2 years                 Pit Bull Mix   Blue/White       24.00   \n",
       "3        3 weeks       Domestic Shorthair Mix   Blue Cream        0.75   \n",
       "4        2 years  Lhasa Apso/Miniature Poodle          Tan       24.00   \n",
       "\n",
       "  Sterile_Ind     Sex         Named        color  \n",
       "0     Sterile    male     With_name        Mixed  \n",
       "1     Sterile  female     With_name  Cream Tabby  \n",
       "2     Sterile    male     With_name        Mixed  \n",
       "3      Intact    male  Without_name   Blue Cream  \n",
       "4     Sterile    male  Without_name          Tan  "
      ]
     },
     "execution_count": 167,
     "metadata": {},
     "output_type": "execute_result"
    }
   ],
   "source": [
    "def color(x):\n",
    "    x = str(x)\n",
    "    if x.find('/') >= 0: return 'Mixed'\n",
    "    elif x.find('Tricolor') >= 0: return 'Mixed'\n",
    "    return x\n",
    "\n",
    "data_train['color'] = data_train.Color.apply(color)\n",
    "data_test['color'] = data_test.Color.apply(color)\n",
    "data_train.head()"
   ]
  },
  {
   "cell_type": "code",
   "execution_count": 168,
   "metadata": {},
   "outputs": [
    {
     "data": {
      "text/html": [
       "<div>\n",
       "<style>\n",
       "    .dataframe thead tr:only-child th {\n",
       "        text-align: right;\n",
       "    }\n",
       "\n",
       "    .dataframe thead th {\n",
       "        text-align: left;\n",
       "    }\n",
       "\n",
       "    .dataframe tbody tr th {\n",
       "        vertical-align: top;\n",
       "    }\n",
       "</style>\n",
       "<table border=\"1\" class=\"dataframe\">\n",
       "  <thead>\n",
       "    <tr style=\"text-align: right;\">\n",
       "      <th></th>\n",
       "      <th>Name</th>\n",
       "      <th>DateTime</th>\n",
       "      <th>AnimalType</th>\n",
       "      <th>SexuponOutcome</th>\n",
       "      <th>AgeuponOutcome</th>\n",
       "      <th>Breed</th>\n",
       "      <th>Color</th>\n",
       "      <th>Age_Months</th>\n",
       "      <th>Sterile_Ind</th>\n",
       "      <th>Sex</th>\n",
       "      <th>Named</th>\n",
       "      <th>color</th>\n",
       "    </tr>\n",
       "  </thead>\n",
       "  <tbody>\n",
       "    <tr>\n",
       "      <th>0</th>\n",
       "      <td>Summer</td>\n",
       "      <td>2015-10-12 12:15:00</td>\n",
       "      <td>Dog</td>\n",
       "      <td>Intact Female</td>\n",
       "      <td>10 months</td>\n",
       "      <td>Labrador Retriever Mix</td>\n",
       "      <td>Red/White</td>\n",
       "      <td>10.0</td>\n",
       "      <td>Intact</td>\n",
       "      <td>female</td>\n",
       "      <td>With_name</td>\n",
       "      <td>Mixed</td>\n",
       "    </tr>\n",
       "    <tr>\n",
       "      <th>1</th>\n",
       "      <td>Cheyenne</td>\n",
       "      <td>2014-07-26 17:59:00</td>\n",
       "      <td>Dog</td>\n",
       "      <td>Spayed Female</td>\n",
       "      <td>2 years</td>\n",
       "      <td>German Shepherd/Siberian Husky</td>\n",
       "      <td>Black/Tan</td>\n",
       "      <td>24.0</td>\n",
       "      <td>Sterile</td>\n",
       "      <td>female</td>\n",
       "      <td>With_name</td>\n",
       "      <td>Mixed</td>\n",
       "    </tr>\n",
       "    <tr>\n",
       "      <th>2</th>\n",
       "      <td>Gus</td>\n",
       "      <td>2016-01-13 12:20:00</td>\n",
       "      <td>Cat</td>\n",
       "      <td>Neutered Male</td>\n",
       "      <td>1 year</td>\n",
       "      <td>Domestic Shorthair Mix</td>\n",
       "      <td>Brown Tabby</td>\n",
       "      <td>12.0</td>\n",
       "      <td>Sterile</td>\n",
       "      <td>male</td>\n",
       "      <td>With_name</td>\n",
       "      <td>Brown Tabby</td>\n",
       "    </tr>\n",
       "    <tr>\n",
       "      <th>3</th>\n",
       "      <td>Pongo</td>\n",
       "      <td>2013-12-28 18:12:00</td>\n",
       "      <td>Dog</td>\n",
       "      <td>Intact Male</td>\n",
       "      <td>4 months</td>\n",
       "      <td>Collie Smooth Mix</td>\n",
       "      <td>Tricolor</td>\n",
       "      <td>4.0</td>\n",
       "      <td>Intact</td>\n",
       "      <td>male</td>\n",
       "      <td>With_name</td>\n",
       "      <td>Mixed</td>\n",
       "    </tr>\n",
       "    <tr>\n",
       "      <th>4</th>\n",
       "      <td>Skooter</td>\n",
       "      <td>2015-09-24 17:59:00</td>\n",
       "      <td>Dog</td>\n",
       "      <td>Neutered Male</td>\n",
       "      <td>2 years</td>\n",
       "      <td>Miniature Poodle Mix</td>\n",
       "      <td>White</td>\n",
       "      <td>24.0</td>\n",
       "      <td>Sterile</td>\n",
       "      <td>male</td>\n",
       "      <td>With_name</td>\n",
       "      <td>White</td>\n",
       "    </tr>\n",
       "  </tbody>\n",
       "</table>\n",
       "</div>"
      ],
      "text/plain": [
       "       Name             DateTime AnimalType SexuponOutcome AgeuponOutcome  \\\n",
       "0    Summer  2015-10-12 12:15:00        Dog  Intact Female      10 months   \n",
       "1  Cheyenne  2014-07-26 17:59:00        Dog  Spayed Female        2 years   \n",
       "2       Gus  2016-01-13 12:20:00        Cat  Neutered Male         1 year   \n",
       "3     Pongo  2013-12-28 18:12:00        Dog    Intact Male       4 months   \n",
       "4   Skooter  2015-09-24 17:59:00        Dog  Neutered Male        2 years   \n",
       "\n",
       "                            Breed        Color  Age_Months Sterile_Ind  \\\n",
       "0          Labrador Retriever Mix    Red/White        10.0      Intact   \n",
       "1  German Shepherd/Siberian Husky    Black/Tan        24.0     Sterile   \n",
       "2          Domestic Shorthair Mix  Brown Tabby        12.0     Sterile   \n",
       "3               Collie Smooth Mix     Tricolor         4.0      Intact   \n",
       "4            Miniature Poodle Mix        White        24.0     Sterile   \n",
       "\n",
       "      Sex      Named        color  \n",
       "0  female  With_name        Mixed  \n",
       "1  female  With_name        Mixed  \n",
       "2    male  With_name  Brown Tabby  \n",
       "3    male  With_name        Mixed  \n",
       "4    male  With_name        White  "
      ]
     },
     "execution_count": 168,
     "metadata": {},
     "output_type": "execute_result"
    }
   ],
   "source": [
    "data_test.head()"
   ]
  },
  {
   "cell_type": "code",
   "execution_count": 169,
   "metadata": {
    "scrolled": true
   },
   "outputs": [
    {
     "data": {
      "text/plain": [
       "Mixed                14676\n",
       "Black                 2292\n",
       "Brown Tabby           1635\n",
       "White                  931\n",
       "Orange Tabby           841\n",
       "Brown                  639\n",
       "Tan                    628\n",
       "Tortie                 530\n",
       "Calico                 517\n",
       "Blue                   450\n",
       "Blue Tabby             433\n",
       "Red                    337\n",
       "Torbie                 335\n",
       "Brown Brindle          232\n",
       "Buff                   199\n",
       "Sable                  198\n",
       "Cream Tabby            198\n",
       "Yellow                 185\n",
       "Lynx Point             168\n",
       "Cream                  151\n",
       "Chocolate              137\n",
       "Seal Point             136\n",
       "Gray                    94\n",
       "Flame Point             85\n",
       "Blue Merle              77\n",
       "Fawn                    73\n",
       "Gold                    52\n",
       "Black Smoke             46\n",
       "Black Tabby             42\n",
       "Lilac Point             39\n",
       "Gray Tabby              35\n",
       "Brown Merle             35\n",
       "Tortie Point            32\n",
       "Blue Point              29\n",
       "Silver Tabby            28\n",
       "Red Merle               26\n",
       "Calico Point            25\n",
       "Apricot                 21\n",
       "Black Brindle           20\n",
       "Blue Tick               18\n",
       "Silver                  17\n",
       "Red Tick                17\n",
       "Chocolate Point         16\n",
       "Orange                  15\n",
       "Yellow Brindle          12\n",
       "Blue Cream              11\n",
       "Blue Smoke               4\n",
       "Liver Tick               3\n",
       "Brown Tiger              3\n",
       "Silver Lynx Point        2\n",
       "Orange Tiger             1\n",
       "Agouti                   1\n",
       "Blue Tiger               1\n",
       "Pink                     1\n",
       "Name: color, dtype: int64"
      ]
     },
     "execution_count": 169,
     "metadata": {},
     "output_type": "execute_result"
    }
   ],
   "source": [
    "data_train['color'].value_counts()"
   ]
  },
  {
   "cell_type": "code",
   "execution_count": 170,
   "metadata": {},
   "outputs": [
    {
     "data": {
      "text/plain": [
       "Mixed                6253\n",
       "Black                 973\n",
       "Brown Tabby           724\n",
       "White                 402\n",
       "Orange Tabby          346\n",
       "Tan                   282\n",
       "Brown                 256\n",
       "Tortie                240\n",
       "Blue                  224\n",
       "Calico                193\n",
       "Blue Tabby            183\n",
       "Torbie                139\n",
       "Red                   133\n",
       "Brown Brindle         115\n",
       "Cream Tabby           111\n",
       "Yellow                 90\n",
       "Lynx Point             87\n",
       "Sable                  79\n",
       "Cream                  71\n",
       "Seal Point             68\n",
       "Chocolate              68\n",
       "Buff                   60\n",
       "Blue Merle             41\n",
       "Flame Point            35\n",
       "Black Smoke            31\n",
       "Fawn                   29\n",
       "Gray                   24\n",
       "Black Tabby            19\n",
       "Gold                   17\n",
       "Black Brindle          15\n",
       "Lilac Point            14\n",
       "Apricot                12\n",
       "Brown Merle            11\n",
       "Blue Point             11\n",
       "Red Tick               11\n",
       "Silver Tabby           10\n",
       "Red Merle               8\n",
       "Tortie Point            7\n",
       "Chocolate Point         7\n",
       "Yellow Brindle          7\n",
       "Orange                  7\n",
       "Blue Cream              7\n",
       "Calico Point            7\n",
       "Silver                  6\n",
       "Gray Tabby              6\n",
       "Blue Tick               6\n",
       "Blue Smoke              3\n",
       "Blue Tiger              2\n",
       "Liver                   2\n",
       "Silver Lynx Point       2\n",
       "Pink                    1\n",
       "Agouti                  1\n",
       "Name: color, dtype: int64"
      ]
     },
     "execution_count": 170,
     "metadata": {},
     "output_type": "execute_result"
    }
   ],
   "source": [
    "data_test['color'].value_counts()"
   ]
  },
  {
   "cell_type": "markdown",
   "metadata": {},
   "source": [
    "Finalmente, agrupamos los colores con palabras comunes para continuar la reducción de categorías y aquellos con una frecuencia menor a 100 en una nueva categoría denominada \"Others\"."
   ]
  },
  {
   "cell_type": "code",
   "execution_count": 171,
   "metadata": {},
   "outputs": [
    {
     "data": {
      "text/html": [
       "<div>\n",
       "<style>\n",
       "    .dataframe thead tr:only-child th {\n",
       "        text-align: right;\n",
       "    }\n",
       "\n",
       "    .dataframe thead th {\n",
       "        text-align: left;\n",
       "    }\n",
       "\n",
       "    .dataframe tbody tr th {\n",
       "        vertical-align: top;\n",
       "    }\n",
       "</style>\n",
       "<table border=\"1\" class=\"dataframe\">\n",
       "  <thead>\n",
       "    <tr style=\"text-align: right;\">\n",
       "      <th></th>\n",
       "      <th>Name</th>\n",
       "      <th>DateTime</th>\n",
       "      <th>OutcomeType</th>\n",
       "      <th>AnimalType</th>\n",
       "      <th>SexuponOutcome</th>\n",
       "      <th>AgeuponOutcome</th>\n",
       "      <th>Breed</th>\n",
       "      <th>Color</th>\n",
       "      <th>Age_Months</th>\n",
       "      <th>Sterile_Ind</th>\n",
       "      <th>Sex</th>\n",
       "      <th>Named</th>\n",
       "      <th>color</th>\n",
       "    </tr>\n",
       "  </thead>\n",
       "  <tbody>\n",
       "    <tr>\n",
       "      <th>0</th>\n",
       "      <td>Hambone</td>\n",
       "      <td>2014-02-12 18:22:00</td>\n",
       "      <td>Return_to_owner</td>\n",
       "      <td>Dog</td>\n",
       "      <td>Neutered Male</td>\n",
       "      <td>1 year</td>\n",
       "      <td>Shetland Sheepdog Mix</td>\n",
       "      <td>Brown/White</td>\n",
       "      <td>12.00</td>\n",
       "      <td>Sterile</td>\n",
       "      <td>male</td>\n",
       "      <td>With_name</td>\n",
       "      <td>Mixed</td>\n",
       "    </tr>\n",
       "    <tr>\n",
       "      <th>1</th>\n",
       "      <td>Emily</td>\n",
       "      <td>2013-10-13 12:44:00</td>\n",
       "      <td>Euthanasia</td>\n",
       "      <td>Cat</td>\n",
       "      <td>Spayed Female</td>\n",
       "      <td>1 year</td>\n",
       "      <td>Domestic Shorthair Mix</td>\n",
       "      <td>Cream Tabby</td>\n",
       "      <td>12.00</td>\n",
       "      <td>Sterile</td>\n",
       "      <td>female</td>\n",
       "      <td>With_name</td>\n",
       "      <td>Cream</td>\n",
       "    </tr>\n",
       "    <tr>\n",
       "      <th>2</th>\n",
       "      <td>Pearce</td>\n",
       "      <td>2015-01-31 12:28:00</td>\n",
       "      <td>Adoption</td>\n",
       "      <td>Dog</td>\n",
       "      <td>Neutered Male</td>\n",
       "      <td>2 years</td>\n",
       "      <td>Pit Bull Mix</td>\n",
       "      <td>Blue/White</td>\n",
       "      <td>24.00</td>\n",
       "      <td>Sterile</td>\n",
       "      <td>male</td>\n",
       "      <td>With_name</td>\n",
       "      <td>Mixed</td>\n",
       "    </tr>\n",
       "    <tr>\n",
       "      <th>3</th>\n",
       "      <td>NaN</td>\n",
       "      <td>2014-07-11 19:09:00</td>\n",
       "      <td>Transfer</td>\n",
       "      <td>Cat</td>\n",
       "      <td>Intact Male</td>\n",
       "      <td>3 weeks</td>\n",
       "      <td>Domestic Shorthair Mix</td>\n",
       "      <td>Blue Cream</td>\n",
       "      <td>0.75</td>\n",
       "      <td>Intact</td>\n",
       "      <td>male</td>\n",
       "      <td>Without_name</td>\n",
       "      <td>Blue</td>\n",
       "    </tr>\n",
       "    <tr>\n",
       "      <th>4</th>\n",
       "      <td>NaN</td>\n",
       "      <td>2013-11-15 12:52:00</td>\n",
       "      <td>Transfer</td>\n",
       "      <td>Dog</td>\n",
       "      <td>Neutered Male</td>\n",
       "      <td>2 years</td>\n",
       "      <td>Lhasa Apso/Miniature Poodle</td>\n",
       "      <td>Tan</td>\n",
       "      <td>24.00</td>\n",
       "      <td>Sterile</td>\n",
       "      <td>male</td>\n",
       "      <td>Without_name</td>\n",
       "      <td>Tan</td>\n",
       "    </tr>\n",
       "  </tbody>\n",
       "</table>\n",
       "</div>"
      ],
      "text/plain": [
       "      Name             DateTime      OutcomeType AnimalType SexuponOutcome  \\\n",
       "0  Hambone  2014-02-12 18:22:00  Return_to_owner        Dog  Neutered Male   \n",
       "1    Emily  2013-10-13 12:44:00       Euthanasia        Cat  Spayed Female   \n",
       "2   Pearce  2015-01-31 12:28:00         Adoption        Dog  Neutered Male   \n",
       "3      NaN  2014-07-11 19:09:00         Transfer        Cat    Intact Male   \n",
       "4      NaN  2013-11-15 12:52:00         Transfer        Dog  Neutered Male   \n",
       "\n",
       "  AgeuponOutcome                        Breed        Color  Age_Months  \\\n",
       "0         1 year        Shetland Sheepdog Mix  Brown/White       12.00   \n",
       "1         1 year       Domestic Shorthair Mix  Cream Tabby       12.00   \n",
       "2        2 years                 Pit Bull Mix   Blue/White       24.00   \n",
       "3        3 weeks       Domestic Shorthair Mix   Blue Cream        0.75   \n",
       "4        2 years  Lhasa Apso/Miniature Poodle          Tan       24.00   \n",
       "\n",
       "  Sterile_Ind     Sex         Named  color  \n",
       "0     Sterile    male     With_name  Mixed  \n",
       "1     Sterile  female     With_name  Cream  \n",
       "2     Sterile    male     With_name  Mixed  \n",
       "3      Intact    male  Without_name   Blue  \n",
       "4     Sterile    male  Without_name    Tan  "
      ]
     },
     "execution_count": 171,
     "metadata": {},
     "output_type": "execute_result"
    }
   ],
   "source": [
    "def color2(x):\n",
    "    x = str(x)\n",
    "    if x.find('Blue') >= 0: return 'Blue'\n",
    "    elif x.find('Black') >= 0: return 'Black'\n",
    "    elif x.find('Brown') >= 0: return 'Brown'\n",
    "    elif x.find('Chocolate') >= 0: return 'Chocolate'\n",
    "    elif x.find('Red') >= 0: return 'Red'\n",
    "    elif x.find('Silver') >= 0: return 'Silver'\n",
    "    elif x.find('Orange') >= 0: return 'Orange'\n",
    "    elif x.find('Gray') >= 0: return 'Gray'\n",
    "    elif x.find('Yellow') >= 0: return 'Yellow'\n",
    "    elif x.find('Cream') >= 0: return 'Cream'\n",
    "    return x\n",
    "\n",
    "data_train['color'] = data_train.color.apply(color2)\n",
    "data_test['color'] = data_test.color.apply(color2)\n",
    "data_train.head()"
   ]
  },
  {
   "cell_type": "code",
   "execution_count": 172,
   "metadata": {},
   "outputs": [
    {
     "data": {
      "text/plain": [
       "Mixed         14676\n",
       "Brown          2544\n",
       "Black          2400\n",
       "Blue           1023\n",
       "White           931\n",
       "Orange          857\n",
       "Tan             628\n",
       "Tortie          530\n",
       "Calico          517\n",
       "Red             380\n",
       "Other           379\n",
       "Cream           349\n",
       "Torbie          335\n",
       "Buff            199\n",
       "Sable           198\n",
       "Yellow          197\n",
       "Lynx Point      168\n",
       "Chocolate       153\n",
       "Seal Point      136\n",
       "Gray            129\n",
       "Name: color, dtype: int64"
      ]
     },
     "execution_count": 172,
     "metadata": {},
     "output_type": "execute_result"
    }
   ],
   "source": [
    "#Creación variable \"Others\"\n",
    "data_train.loc[data_train['color'].isin((data_train['color'].value_counts()[data_train['color'].value_counts() < 100]).index),\n",
    "               'color'] = 'Other'\n",
    "data_train['color'].value_counts()"
   ]
  },
  {
   "cell_type": "code",
   "execution_count": 173,
   "metadata": {},
   "outputs": [
    {
     "data": {
      "text/html": [
       "<div>\n",
       "<style>\n",
       "    .dataframe thead tr:only-child th {\n",
       "        text-align: right;\n",
       "    }\n",
       "\n",
       "    .dataframe thead th {\n",
       "        text-align: left;\n",
       "    }\n",
       "\n",
       "    .dataframe tbody tr th {\n",
       "        vertical-align: top;\n",
       "    }\n",
       "</style>\n",
       "<table border=\"1\" class=\"dataframe\">\n",
       "  <thead>\n",
       "    <tr style=\"text-align: right;\">\n",
       "      <th></th>\n",
       "      <th>Name</th>\n",
       "      <th>DateTime</th>\n",
       "      <th>OutcomeType</th>\n",
       "      <th>AnimalType</th>\n",
       "      <th>SexuponOutcome</th>\n",
       "      <th>AgeuponOutcome</th>\n",
       "      <th>Breed</th>\n",
       "      <th>Color</th>\n",
       "      <th>Age_Months</th>\n",
       "      <th>Sterile_Ind</th>\n",
       "      <th>Sex</th>\n",
       "      <th>Named</th>\n",
       "      <th>color</th>\n",
       "    </tr>\n",
       "  </thead>\n",
       "  <tbody>\n",
       "    <tr>\n",
       "      <th>0</th>\n",
       "      <td>Hambone</td>\n",
       "      <td>2014-02-12 18:22:00</td>\n",
       "      <td>Return_to_owner</td>\n",
       "      <td>Dog</td>\n",
       "      <td>Neutered Male</td>\n",
       "      <td>1 year</td>\n",
       "      <td>Shetland Sheepdog Mix</td>\n",
       "      <td>Brown/White</td>\n",
       "      <td>12.00</td>\n",
       "      <td>Sterile</td>\n",
       "      <td>male</td>\n",
       "      <td>With_name</td>\n",
       "      <td>Mixed</td>\n",
       "    </tr>\n",
       "    <tr>\n",
       "      <th>1</th>\n",
       "      <td>Emily</td>\n",
       "      <td>2013-10-13 12:44:00</td>\n",
       "      <td>Euthanasia</td>\n",
       "      <td>Cat</td>\n",
       "      <td>Spayed Female</td>\n",
       "      <td>1 year</td>\n",
       "      <td>Domestic Shorthair Mix</td>\n",
       "      <td>Cream Tabby</td>\n",
       "      <td>12.00</td>\n",
       "      <td>Sterile</td>\n",
       "      <td>female</td>\n",
       "      <td>With_name</td>\n",
       "      <td>Cream</td>\n",
       "    </tr>\n",
       "    <tr>\n",
       "      <th>2</th>\n",
       "      <td>Pearce</td>\n",
       "      <td>2015-01-31 12:28:00</td>\n",
       "      <td>Adoption</td>\n",
       "      <td>Dog</td>\n",
       "      <td>Neutered Male</td>\n",
       "      <td>2 years</td>\n",
       "      <td>Pit Bull Mix</td>\n",
       "      <td>Blue/White</td>\n",
       "      <td>24.00</td>\n",
       "      <td>Sterile</td>\n",
       "      <td>male</td>\n",
       "      <td>With_name</td>\n",
       "      <td>Mixed</td>\n",
       "    </tr>\n",
       "    <tr>\n",
       "      <th>3</th>\n",
       "      <td>NaN</td>\n",
       "      <td>2014-07-11 19:09:00</td>\n",
       "      <td>Transfer</td>\n",
       "      <td>Cat</td>\n",
       "      <td>Intact Male</td>\n",
       "      <td>3 weeks</td>\n",
       "      <td>Domestic Shorthair Mix</td>\n",
       "      <td>Blue Cream</td>\n",
       "      <td>0.75</td>\n",
       "      <td>Intact</td>\n",
       "      <td>male</td>\n",
       "      <td>Without_name</td>\n",
       "      <td>Blue</td>\n",
       "    </tr>\n",
       "    <tr>\n",
       "      <th>4</th>\n",
       "      <td>NaN</td>\n",
       "      <td>2013-11-15 12:52:00</td>\n",
       "      <td>Transfer</td>\n",
       "      <td>Dog</td>\n",
       "      <td>Neutered Male</td>\n",
       "      <td>2 years</td>\n",
       "      <td>Lhasa Apso/Miniature Poodle</td>\n",
       "      <td>Tan</td>\n",
       "      <td>24.00</td>\n",
       "      <td>Sterile</td>\n",
       "      <td>male</td>\n",
       "      <td>Without_name</td>\n",
       "      <td>Tan</td>\n",
       "    </tr>\n",
       "  </tbody>\n",
       "</table>\n",
       "</div>"
      ],
      "text/plain": [
       "      Name             DateTime      OutcomeType AnimalType SexuponOutcome  \\\n",
       "0  Hambone  2014-02-12 18:22:00  Return_to_owner        Dog  Neutered Male   \n",
       "1    Emily  2013-10-13 12:44:00       Euthanasia        Cat  Spayed Female   \n",
       "2   Pearce  2015-01-31 12:28:00         Adoption        Dog  Neutered Male   \n",
       "3      NaN  2014-07-11 19:09:00         Transfer        Cat    Intact Male   \n",
       "4      NaN  2013-11-15 12:52:00         Transfer        Dog  Neutered Male   \n",
       "\n",
       "  AgeuponOutcome                        Breed        Color  Age_Months  \\\n",
       "0         1 year        Shetland Sheepdog Mix  Brown/White       12.00   \n",
       "1         1 year       Domestic Shorthair Mix  Cream Tabby       12.00   \n",
       "2        2 years                 Pit Bull Mix   Blue/White       24.00   \n",
       "3        3 weeks       Domestic Shorthair Mix   Blue Cream        0.75   \n",
       "4        2 years  Lhasa Apso/Miniature Poodle          Tan       24.00   \n",
       "\n",
       "  Sterile_Ind     Sex         Named  color  \n",
       "0     Sterile    male     With_name  Mixed  \n",
       "1     Sterile  female     With_name  Cream  \n",
       "2     Sterile    male     With_name  Mixed  \n",
       "3      Intact    male  Without_name   Blue  \n",
       "4     Sterile    male  Without_name    Tan  "
      ]
     },
     "execution_count": 173,
     "metadata": {},
     "output_type": "execute_result"
    }
   ],
   "source": [
    "data_train.head()"
   ]
  },
  {
   "cell_type": "code",
   "execution_count": 174,
   "metadata": {},
   "outputs": [
    {
     "data": {
      "text/plain": [
       "Mixed     6253\n",
       "Brown     1106\n",
       "Black     1038\n",
       "Other      639\n",
       "Blue       477\n",
       "White      402\n",
       "Orange     353\n",
       "Tan        282\n",
       "Tortie     240\n",
       "Calico     193\n",
       "Cream      182\n",
       "Red        152\n",
       "Torbie     139\n",
       "Name: color, dtype: int64"
      ]
     },
     "execution_count": 174,
     "metadata": {},
     "output_type": "execute_result"
    }
   ],
   "source": [
    "data_test.loc[data_test['color'].isin((data_test['color'].value_counts()[data_test['color'].value_counts() < 100]).index),\n",
    "               'color'] = 'Other'\n",
    "data_test['color'].value_counts()"
   ]
  },
  {
   "cell_type": "code",
   "execution_count": 175,
   "metadata": {},
   "outputs": [
    {
     "data": {
      "text/html": [
       "<div>\n",
       "<style>\n",
       "    .dataframe thead tr:only-child th {\n",
       "        text-align: right;\n",
       "    }\n",
       "\n",
       "    .dataframe thead th {\n",
       "        text-align: left;\n",
       "    }\n",
       "\n",
       "    .dataframe tbody tr th {\n",
       "        vertical-align: top;\n",
       "    }\n",
       "</style>\n",
       "<table border=\"1\" class=\"dataframe\">\n",
       "  <thead>\n",
       "    <tr style=\"text-align: right;\">\n",
       "      <th></th>\n",
       "      <th>Name</th>\n",
       "      <th>DateTime</th>\n",
       "      <th>AnimalType</th>\n",
       "      <th>SexuponOutcome</th>\n",
       "      <th>AgeuponOutcome</th>\n",
       "      <th>Breed</th>\n",
       "      <th>Color</th>\n",
       "      <th>Age_Months</th>\n",
       "      <th>Sterile_Ind</th>\n",
       "      <th>Sex</th>\n",
       "      <th>Named</th>\n",
       "      <th>color</th>\n",
       "    </tr>\n",
       "  </thead>\n",
       "  <tbody>\n",
       "    <tr>\n",
       "      <th>0</th>\n",
       "      <td>Summer</td>\n",
       "      <td>2015-10-12 12:15:00</td>\n",
       "      <td>Dog</td>\n",
       "      <td>Intact Female</td>\n",
       "      <td>10 months</td>\n",
       "      <td>Labrador Retriever Mix</td>\n",
       "      <td>Red/White</td>\n",
       "      <td>10.0</td>\n",
       "      <td>Intact</td>\n",
       "      <td>female</td>\n",
       "      <td>With_name</td>\n",
       "      <td>Mixed</td>\n",
       "    </tr>\n",
       "    <tr>\n",
       "      <th>1</th>\n",
       "      <td>Cheyenne</td>\n",
       "      <td>2014-07-26 17:59:00</td>\n",
       "      <td>Dog</td>\n",
       "      <td>Spayed Female</td>\n",
       "      <td>2 years</td>\n",
       "      <td>German Shepherd/Siberian Husky</td>\n",
       "      <td>Black/Tan</td>\n",
       "      <td>24.0</td>\n",
       "      <td>Sterile</td>\n",
       "      <td>female</td>\n",
       "      <td>With_name</td>\n",
       "      <td>Mixed</td>\n",
       "    </tr>\n",
       "    <tr>\n",
       "      <th>2</th>\n",
       "      <td>Gus</td>\n",
       "      <td>2016-01-13 12:20:00</td>\n",
       "      <td>Cat</td>\n",
       "      <td>Neutered Male</td>\n",
       "      <td>1 year</td>\n",
       "      <td>Domestic Shorthair Mix</td>\n",
       "      <td>Brown Tabby</td>\n",
       "      <td>12.0</td>\n",
       "      <td>Sterile</td>\n",
       "      <td>male</td>\n",
       "      <td>With_name</td>\n",
       "      <td>Brown</td>\n",
       "    </tr>\n",
       "    <tr>\n",
       "      <th>3</th>\n",
       "      <td>Pongo</td>\n",
       "      <td>2013-12-28 18:12:00</td>\n",
       "      <td>Dog</td>\n",
       "      <td>Intact Male</td>\n",
       "      <td>4 months</td>\n",
       "      <td>Collie Smooth Mix</td>\n",
       "      <td>Tricolor</td>\n",
       "      <td>4.0</td>\n",
       "      <td>Intact</td>\n",
       "      <td>male</td>\n",
       "      <td>With_name</td>\n",
       "      <td>Mixed</td>\n",
       "    </tr>\n",
       "    <tr>\n",
       "      <th>4</th>\n",
       "      <td>Skooter</td>\n",
       "      <td>2015-09-24 17:59:00</td>\n",
       "      <td>Dog</td>\n",
       "      <td>Neutered Male</td>\n",
       "      <td>2 years</td>\n",
       "      <td>Miniature Poodle Mix</td>\n",
       "      <td>White</td>\n",
       "      <td>24.0</td>\n",
       "      <td>Sterile</td>\n",
       "      <td>male</td>\n",
       "      <td>With_name</td>\n",
       "      <td>White</td>\n",
       "    </tr>\n",
       "  </tbody>\n",
       "</table>\n",
       "</div>"
      ],
      "text/plain": [
       "       Name             DateTime AnimalType SexuponOutcome AgeuponOutcome  \\\n",
       "0    Summer  2015-10-12 12:15:00        Dog  Intact Female      10 months   \n",
       "1  Cheyenne  2014-07-26 17:59:00        Dog  Spayed Female        2 years   \n",
       "2       Gus  2016-01-13 12:20:00        Cat  Neutered Male         1 year   \n",
       "3     Pongo  2013-12-28 18:12:00        Dog    Intact Male       4 months   \n",
       "4   Skooter  2015-09-24 17:59:00        Dog  Neutered Male        2 years   \n",
       "\n",
       "                            Breed        Color  Age_Months Sterile_Ind  \\\n",
       "0          Labrador Retriever Mix    Red/White        10.0      Intact   \n",
       "1  German Shepherd/Siberian Husky    Black/Tan        24.0     Sterile   \n",
       "2          Domestic Shorthair Mix  Brown Tabby        12.0     Sterile   \n",
       "3               Collie Smooth Mix     Tricolor         4.0      Intact   \n",
       "4            Miniature Poodle Mix        White        24.0     Sterile   \n",
       "\n",
       "      Sex      Named  color  \n",
       "0  female  With_name  Mixed  \n",
       "1  female  With_name  Mixed  \n",
       "2    male  With_name  Brown  \n",
       "3    male  With_name  Mixed  \n",
       "4    male  With_name  White  "
      ]
     },
     "execution_count": 175,
     "metadata": {},
     "output_type": "execute_result"
    }
   ],
   "source": [
    "data_test.head()"
   ]
  },
  {
   "cell_type": "markdown",
   "metadata": {},
   "source": [
    "## 'Breed'\n",
    "\n",
    "Siguiendo un proceso similar al empleado con las variables previas, agruparemos las diferentes razas entre puras y mixtas, considerando que en caso contrario tendríamos una gran cantidad de categorías:"
   ]
  },
  {
   "cell_type": "code",
   "execution_count": 176,
   "metadata": {},
   "outputs": [
    {
     "data": {
      "text/plain": [
       "Domestic Shorthair Mix                           8810\n",
       "Pit Bull Mix                                     1906\n",
       "Chihuahua Shorthair Mix                          1766\n",
       "Labrador Retriever Mix                           1363\n",
       "Domestic Medium Hair Mix                          839\n",
       "German Shepherd Mix                               575\n",
       "Domestic Longhair Mix                             520\n",
       "Siamese Mix                                       389\n",
       "Australian Cattle Dog Mix                         367\n",
       "Dachshund Mix                                     318\n",
       "Boxer Mix                                         245\n",
       "Miniature Poodle Mix                              233\n",
       "Border Collie Mix                                 229\n",
       "Australian Shepherd Mix                           163\n",
       "Rat Terrier Mix                                   157\n",
       "Catahoula Mix                                     157\n",
       "Jack Russell Terrier Mix                          146\n",
       "Yorkshire Terrier Mix                             143\n",
       "Domestic Shorthair                                143\n",
       "Chihuahua Longhair Mix                            142\n",
       "Siberian Husky Mix                                138\n",
       "Miniature Schnauzer Mix                           136\n",
       "Beagle Mix                                        124\n",
       "Rottweiler Mix                                    113\n",
       "American Bulldog Mix                              109\n",
       "Cairn Terrier Mix                                 102\n",
       "Shih Tzu Mix                                      100\n",
       "Chihuahua Shorthair/Dachshund                      98\n",
       "Australian Kelpie Mix                              95\n",
       "Staffordshire Mix                                  94\n",
       "                                                 ... \n",
       "Dachshund/Dachshund                                 1\n",
       "Border Terrier/West Highland                        1\n",
       "Pit Bull/Border Collie                              1\n",
       "Chihuahua Longhair/Pug                              1\n",
       "Shetland Sheepdog/Dachshund Longhair                1\n",
       "Jack Russell Terrier/Welsh Terrier                  1\n",
       "Border Collie/Doberman Pinsch                       1\n",
       "Rottweiler/Basset Hound                             1\n",
       "Newfoundland/Queensland Heeler                      1\n",
       "Collie Rough/Pembroke Welsh Corgi                   1\n",
       "Shetland Sheepdog/Pomeranian                        1\n",
       "Pointer/Rhod Ridgeback                              1\n",
       "Staffordshire/Labrador Retriever                    1\n",
       "Bluetick Hound                                      1\n",
       "English Bulldog/American Bulldog                    1\n",
       "Border Collie/Canaan Dog                            1\n",
       "Australian Cattle Dog/Belgian Malinois              1\n",
       "Labrador Retriever/Standard Schnauzer               1\n",
       "Carolina Dog                                        1\n",
       "Miniature Schnauzer/Jack Russell Terrier            1\n",
       "Dutch Shepherd/Anatol Shepherd                      1\n",
       "American Staffordshire Terrier/French Bulldog       1\n",
       "Border Collie/Pointer                               1\n",
       "Wire Hair Fox Terrier/German Shepherd               1\n",
       "English Pointer                                     1\n",
       "Havanese                                            1\n",
       "Pembroke Welsh Corgi/German Shepherd                1\n",
       "Boxer/Mastiff                                       1\n",
       "Shih Tzu/Affenpinscher                              1\n",
       "Collie Rough/Pointer                                1\n",
       "Name: Breed, Length: 1380, dtype: int64"
      ]
     },
     "execution_count": 176,
     "metadata": {},
     "output_type": "execute_result"
    }
   ],
   "source": [
    "data_train['Breed'].value_counts()"
   ]
  },
  {
   "cell_type": "code",
   "execution_count": 177,
   "metadata": {},
   "outputs": [
    {
     "data": {
      "text/plain": [
       "Domestic Shorthair Mix                            3777\n",
       "Pit Bull Mix                                       870\n",
       "Chihuahua Shorthair Mix                            732\n",
       "Labrador Retriever Mix                             586\n",
       "Domestic Medium Hair Mix                           378\n",
       "German Shepherd Mix                                255\n",
       "Domestic Longhair Mix                              233\n",
       "Siamese Mix                                        173\n",
       "Australian Cattle Dog Mix                          146\n",
       "Dachshund Mix                                      119\n",
       "Miniature Poodle Mix                               103\n",
       "Border Collie Mix                                   95\n",
       "Australian Shepherd Mix                             93\n",
       "Boxer Mix                                           85\n",
       "Yorkshire Terrier Mix                               70\n",
       "Rat Terrier Mix                                     69\n",
       "Miniature Schnauzer Mix                             67\n",
       "Catahoula Mix                                       59\n",
       "Jack Russell Terrier Mix                            57\n",
       "Chihuahua Shorthair/Dachshund                       53\n",
       "Shih Tzu Mix                                        52\n",
       "American Bulldog Mix                                52\n",
       "Domestic Shorthair                                  51\n",
       "Great Pyrenees Mix                                  51\n",
       "Rottweiler Mix                                      49\n",
       "Siberian Husky Mix                                  49\n",
       "Cairn Terrier Mix                                   48\n",
       "Beagle Mix                                          48\n",
       "Chihuahua Longhair Mix                              44\n",
       "Australian Kelpie Mix                               43\n",
       "                                                  ... \n",
       "Miniature Schnauzer/Border Collie                    1\n",
       "Pomeranian/Shetland Sheepdog                         1\n",
       "Dutch Shepherd/Labrador Retriever                    1\n",
       "Catahoula/Boxer                                      1\n",
       "Bulldog/Australian Cattle Dog                        1\n",
       "Chihuahua Shorthair/Papillon                         1\n",
       "Miniature Poodle/Maltese                             1\n",
       "Norfolk Terrier/Bruss Griffon                        1\n",
       "Akita                                                1\n",
       "Greyhound/Airedale Terrier                           1\n",
       "Akita/Border Collie                                  1\n",
       "Vizsla/German Shepherd                               1\n",
       "Soft Coated Wheaten Terrier/Labrador Retriever       1\n",
       "Italian Greyhound/Cavalier Span                      1\n",
       "Labrador Retriever/Jack Russell Terrier              1\n",
       "English Pointer/Labrador Retriever                   1\n",
       "Chinese Sharpei/American Staffordshire Terrier       1\n",
       "Belgian Malinois/German Shepherd                     1\n",
       "Pointer/Australian Kelpie                            1\n",
       "Beagle/Boxer                                         1\n",
       "Whippet/Treeing Cur                                  1\n",
       "Australian Cattle Dog/German Shorthair Pointer       1\n",
       "Smooth Fox Terrier/Rat Terrier                       1\n",
       "Redbone Hound/Boxer                                  1\n",
       "Great Pyrenees/Alaskan Husky                         1\n",
       "German Shepherd/Basenji                              1\n",
       "Treeing Walker Coonhound/Labrador Retriever          1\n",
       "Devon Rex                                            1\n",
       "Boston Terrier/Pointer                               1\n",
       "Labrador Retriever/Alaskan Malamute                  1\n",
       "Name: Breed, Length: 913, dtype: int64"
      ]
     },
     "execution_count": 177,
     "metadata": {},
     "output_type": "execute_result"
    }
   ],
   "source": [
    "data_test['Breed'].value_counts()"
   ]
  },
  {
   "cell_type": "markdown",
   "metadata": {},
   "source": [
    "Nuevamente acudimos a una función para crear dichas categorías, identificado aquellas razas que contienen la palabra \"Mix\" de las que no:"
   ]
  },
  {
   "cell_type": "code",
   "execution_count": 178,
   "metadata": {},
   "outputs": [
    {
     "data": {
      "text/html": [
       "<div>\n",
       "<style>\n",
       "    .dataframe thead tr:only-child th {\n",
       "        text-align: right;\n",
       "    }\n",
       "\n",
       "    .dataframe thead th {\n",
       "        text-align: left;\n",
       "    }\n",
       "\n",
       "    .dataframe tbody tr th {\n",
       "        vertical-align: top;\n",
       "    }\n",
       "</style>\n",
       "<table border=\"1\" class=\"dataframe\">\n",
       "  <thead>\n",
       "    <tr style=\"text-align: right;\">\n",
       "      <th></th>\n",
       "      <th>Name</th>\n",
       "      <th>DateTime</th>\n",
       "      <th>OutcomeType</th>\n",
       "      <th>AnimalType</th>\n",
       "      <th>SexuponOutcome</th>\n",
       "      <th>AgeuponOutcome</th>\n",
       "      <th>Breed</th>\n",
       "      <th>Color</th>\n",
       "      <th>Age_Months</th>\n",
       "      <th>Sterile_Ind</th>\n",
       "      <th>Sex</th>\n",
       "      <th>Named</th>\n",
       "      <th>color</th>\n",
       "      <th>breed</th>\n",
       "    </tr>\n",
       "  </thead>\n",
       "  <tbody>\n",
       "    <tr>\n",
       "      <th>0</th>\n",
       "      <td>Hambone</td>\n",
       "      <td>2014-02-12 18:22:00</td>\n",
       "      <td>Return_to_owner</td>\n",
       "      <td>Dog</td>\n",
       "      <td>Neutered Male</td>\n",
       "      <td>1 year</td>\n",
       "      <td>Shetland Sheepdog Mix</td>\n",
       "      <td>Brown/White</td>\n",
       "      <td>12.00</td>\n",
       "      <td>Sterile</td>\n",
       "      <td>male</td>\n",
       "      <td>With_name</td>\n",
       "      <td>Mixed</td>\n",
       "      <td>Mixed</td>\n",
       "    </tr>\n",
       "    <tr>\n",
       "      <th>1</th>\n",
       "      <td>Emily</td>\n",
       "      <td>2013-10-13 12:44:00</td>\n",
       "      <td>Euthanasia</td>\n",
       "      <td>Cat</td>\n",
       "      <td>Spayed Female</td>\n",
       "      <td>1 year</td>\n",
       "      <td>Domestic Shorthair Mix</td>\n",
       "      <td>Cream Tabby</td>\n",
       "      <td>12.00</td>\n",
       "      <td>Sterile</td>\n",
       "      <td>female</td>\n",
       "      <td>With_name</td>\n",
       "      <td>Cream</td>\n",
       "      <td>Mixed</td>\n",
       "    </tr>\n",
       "    <tr>\n",
       "      <th>2</th>\n",
       "      <td>Pearce</td>\n",
       "      <td>2015-01-31 12:28:00</td>\n",
       "      <td>Adoption</td>\n",
       "      <td>Dog</td>\n",
       "      <td>Neutered Male</td>\n",
       "      <td>2 years</td>\n",
       "      <td>Pit Bull Mix</td>\n",
       "      <td>Blue/White</td>\n",
       "      <td>24.00</td>\n",
       "      <td>Sterile</td>\n",
       "      <td>male</td>\n",
       "      <td>With_name</td>\n",
       "      <td>Mixed</td>\n",
       "      <td>Mixed</td>\n",
       "    </tr>\n",
       "    <tr>\n",
       "      <th>3</th>\n",
       "      <td>NaN</td>\n",
       "      <td>2014-07-11 19:09:00</td>\n",
       "      <td>Transfer</td>\n",
       "      <td>Cat</td>\n",
       "      <td>Intact Male</td>\n",
       "      <td>3 weeks</td>\n",
       "      <td>Domestic Shorthair Mix</td>\n",
       "      <td>Blue Cream</td>\n",
       "      <td>0.75</td>\n",
       "      <td>Intact</td>\n",
       "      <td>male</td>\n",
       "      <td>Without_name</td>\n",
       "      <td>Blue</td>\n",
       "      <td>Mixed</td>\n",
       "    </tr>\n",
       "    <tr>\n",
       "      <th>4</th>\n",
       "      <td>NaN</td>\n",
       "      <td>2013-11-15 12:52:00</td>\n",
       "      <td>Transfer</td>\n",
       "      <td>Dog</td>\n",
       "      <td>Neutered Male</td>\n",
       "      <td>2 years</td>\n",
       "      <td>Lhasa Apso/Miniature Poodle</td>\n",
       "      <td>Tan</td>\n",
       "      <td>24.00</td>\n",
       "      <td>Sterile</td>\n",
       "      <td>male</td>\n",
       "      <td>Without_name</td>\n",
       "      <td>Tan</td>\n",
       "      <td>Pure</td>\n",
       "    </tr>\n",
       "  </tbody>\n",
       "</table>\n",
       "</div>"
      ],
      "text/plain": [
       "      Name             DateTime      OutcomeType AnimalType SexuponOutcome  \\\n",
       "0  Hambone  2014-02-12 18:22:00  Return_to_owner        Dog  Neutered Male   \n",
       "1    Emily  2013-10-13 12:44:00       Euthanasia        Cat  Spayed Female   \n",
       "2   Pearce  2015-01-31 12:28:00         Adoption        Dog  Neutered Male   \n",
       "3      NaN  2014-07-11 19:09:00         Transfer        Cat    Intact Male   \n",
       "4      NaN  2013-11-15 12:52:00         Transfer        Dog  Neutered Male   \n",
       "\n",
       "  AgeuponOutcome                        Breed        Color  Age_Months  \\\n",
       "0         1 year        Shetland Sheepdog Mix  Brown/White       12.00   \n",
       "1         1 year       Domestic Shorthair Mix  Cream Tabby       12.00   \n",
       "2        2 years                 Pit Bull Mix   Blue/White       24.00   \n",
       "3        3 weeks       Domestic Shorthair Mix   Blue Cream        0.75   \n",
       "4        2 years  Lhasa Apso/Miniature Poodle          Tan       24.00   \n",
       "\n",
       "  Sterile_Ind     Sex         Named  color  breed  \n",
       "0     Sterile    male     With_name  Mixed  Mixed  \n",
       "1     Sterile  female     With_name  Cream  Mixed  \n",
       "2     Sterile    male     With_name  Mixed  Mixed  \n",
       "3      Intact    male  Without_name   Blue  Mixed  \n",
       "4     Sterile    male  Without_name    Tan   Pure  "
      ]
     },
     "execution_count": 178,
     "metadata": {},
     "output_type": "execute_result"
    }
   ],
   "source": [
    "def breed(x):\n",
    "    x = str(x)\n",
    "    if x.find('Mix') >= 0: return 'Mixed'\n",
    "    return 'Pure'\n",
    "\n",
    "data_train['breed'] = data_train.Breed.apply(breed)\n",
    "data_test['breed'] = data_test.Breed.apply(breed)\n",
    "data_train.head()"
   ]
  },
  {
   "cell_type": "code",
   "execution_count": 179,
   "metadata": {
    "scrolled": true
   },
   "outputs": [
    {
     "data": {
      "text/html": [
       "<div>\n",
       "<style>\n",
       "    .dataframe thead tr:only-child th {\n",
       "        text-align: right;\n",
       "    }\n",
       "\n",
       "    .dataframe thead th {\n",
       "        text-align: left;\n",
       "    }\n",
       "\n",
       "    .dataframe tbody tr th {\n",
       "        vertical-align: top;\n",
       "    }\n",
       "</style>\n",
       "<table border=\"1\" class=\"dataframe\">\n",
       "  <thead>\n",
       "    <tr style=\"text-align: right;\">\n",
       "      <th></th>\n",
       "      <th>Name</th>\n",
       "      <th>DateTime</th>\n",
       "      <th>AnimalType</th>\n",
       "      <th>SexuponOutcome</th>\n",
       "      <th>AgeuponOutcome</th>\n",
       "      <th>Breed</th>\n",
       "      <th>Color</th>\n",
       "      <th>Age_Months</th>\n",
       "      <th>Sterile_Ind</th>\n",
       "      <th>Sex</th>\n",
       "      <th>Named</th>\n",
       "      <th>color</th>\n",
       "      <th>breed</th>\n",
       "    </tr>\n",
       "  </thead>\n",
       "  <tbody>\n",
       "    <tr>\n",
       "      <th>0</th>\n",
       "      <td>Summer</td>\n",
       "      <td>2015-10-12 12:15:00</td>\n",
       "      <td>Dog</td>\n",
       "      <td>Intact Female</td>\n",
       "      <td>10 months</td>\n",
       "      <td>Labrador Retriever Mix</td>\n",
       "      <td>Red/White</td>\n",
       "      <td>10.0</td>\n",
       "      <td>Intact</td>\n",
       "      <td>female</td>\n",
       "      <td>With_name</td>\n",
       "      <td>Mixed</td>\n",
       "      <td>Mixed</td>\n",
       "    </tr>\n",
       "    <tr>\n",
       "      <th>1</th>\n",
       "      <td>Cheyenne</td>\n",
       "      <td>2014-07-26 17:59:00</td>\n",
       "      <td>Dog</td>\n",
       "      <td>Spayed Female</td>\n",
       "      <td>2 years</td>\n",
       "      <td>German Shepherd/Siberian Husky</td>\n",
       "      <td>Black/Tan</td>\n",
       "      <td>24.0</td>\n",
       "      <td>Sterile</td>\n",
       "      <td>female</td>\n",
       "      <td>With_name</td>\n",
       "      <td>Mixed</td>\n",
       "      <td>Pure</td>\n",
       "    </tr>\n",
       "    <tr>\n",
       "      <th>2</th>\n",
       "      <td>Gus</td>\n",
       "      <td>2016-01-13 12:20:00</td>\n",
       "      <td>Cat</td>\n",
       "      <td>Neutered Male</td>\n",
       "      <td>1 year</td>\n",
       "      <td>Domestic Shorthair Mix</td>\n",
       "      <td>Brown Tabby</td>\n",
       "      <td>12.0</td>\n",
       "      <td>Sterile</td>\n",
       "      <td>male</td>\n",
       "      <td>With_name</td>\n",
       "      <td>Brown</td>\n",
       "      <td>Mixed</td>\n",
       "    </tr>\n",
       "    <tr>\n",
       "      <th>3</th>\n",
       "      <td>Pongo</td>\n",
       "      <td>2013-12-28 18:12:00</td>\n",
       "      <td>Dog</td>\n",
       "      <td>Intact Male</td>\n",
       "      <td>4 months</td>\n",
       "      <td>Collie Smooth Mix</td>\n",
       "      <td>Tricolor</td>\n",
       "      <td>4.0</td>\n",
       "      <td>Intact</td>\n",
       "      <td>male</td>\n",
       "      <td>With_name</td>\n",
       "      <td>Mixed</td>\n",
       "      <td>Mixed</td>\n",
       "    </tr>\n",
       "    <tr>\n",
       "      <th>4</th>\n",
       "      <td>Skooter</td>\n",
       "      <td>2015-09-24 17:59:00</td>\n",
       "      <td>Dog</td>\n",
       "      <td>Neutered Male</td>\n",
       "      <td>2 years</td>\n",
       "      <td>Miniature Poodle Mix</td>\n",
       "      <td>White</td>\n",
       "      <td>24.0</td>\n",
       "      <td>Sterile</td>\n",
       "      <td>male</td>\n",
       "      <td>With_name</td>\n",
       "      <td>White</td>\n",
       "      <td>Mixed</td>\n",
       "    </tr>\n",
       "  </tbody>\n",
       "</table>\n",
       "</div>"
      ],
      "text/plain": [
       "       Name             DateTime AnimalType SexuponOutcome AgeuponOutcome  \\\n",
       "0    Summer  2015-10-12 12:15:00        Dog  Intact Female      10 months   \n",
       "1  Cheyenne  2014-07-26 17:59:00        Dog  Spayed Female        2 years   \n",
       "2       Gus  2016-01-13 12:20:00        Cat  Neutered Male         1 year   \n",
       "3     Pongo  2013-12-28 18:12:00        Dog    Intact Male       4 months   \n",
       "4   Skooter  2015-09-24 17:59:00        Dog  Neutered Male        2 years   \n",
       "\n",
       "                            Breed        Color  Age_Months Sterile_Ind  \\\n",
       "0          Labrador Retriever Mix    Red/White        10.0      Intact   \n",
       "1  German Shepherd/Siberian Husky    Black/Tan        24.0     Sterile   \n",
       "2          Domestic Shorthair Mix  Brown Tabby        12.0     Sterile   \n",
       "3               Collie Smooth Mix     Tricolor         4.0      Intact   \n",
       "4            Miniature Poodle Mix        White        24.0     Sterile   \n",
       "\n",
       "      Sex      Named  color  breed  \n",
       "0  female  With_name  Mixed  Mixed  \n",
       "1  female  With_name  Mixed   Pure  \n",
       "2    male  With_name  Brown  Mixed  \n",
       "3    male  With_name  Mixed  Mixed  \n",
       "4    male  With_name  White  Mixed  "
      ]
     },
     "execution_count": 179,
     "metadata": {},
     "output_type": "execute_result"
    }
   ],
   "source": [
    "data_test.head()"
   ]
  },
  {
   "cell_type": "markdown",
   "metadata": {},
   "source": [
    "# ANÁLISIS EXPLORATORIO\n",
    "\n",
    "A continuación, por medio de diferentes gráficas analizaremos las relaciones entre las diferentes variables. Se observa que el 40.3% de las mascotas que llegan al refugio han sido adoptadas, el 35.3% transferidas, el 18% han regresado con sus dueños, el 5.8% han sido sacrificados y el 0.7% han fallecido."
   ]
  },
  {
   "cell_type": "code",
   "execution_count": 180,
   "metadata": {},
   "outputs": [
    {
     "data": {
      "text/plain": [
       "Adoption           10769\n",
       "Transfer            9422\n",
       "Return_to_owner     4786\n",
       "Euthanasia          1555\n",
       "Died                 197\n",
       "Name: OutcomeType, dtype: int64"
      ]
     },
     "execution_count": 180,
     "metadata": {},
     "output_type": "execute_result"
    }
   ],
   "source": [
    "data_train[\"OutcomeType\"].unique()\n",
    "pd.value_counts(data_train['OutcomeType'])"
   ]
  },
  {
   "cell_type": "markdown",
   "metadata": {},
   "source": [
    "Se grafica cada uno de los diferentes tipos de Outcome o salidas que pueden tener los animalitos"
   ]
  },
  {
   "cell_type": "code",
   "execution_count": 181,
   "metadata": {
    "scrolled": true
   },
   "outputs": [
    {
     "data": {
      "image/png": "[encoded data removed]",
      "text/plain": [
       "<matplotlib.figure.Figure at 0x226c0e52c50>"
      ]
     },
     "metadata": {},
     "output_type": "display_data"
    }
   ],
   "source": [
    "plot=data_train['OutcomeType'].value_counts().plot(kind='bar', title='OutcomeType')"
   ]
  },
  {
   "cell_type": "code",
   "execution_count": 182,
   "metadata": {},
   "outputs": [
    {
     "data": {
      "text/plain": [
       "<matplotlib.axes._subplots.AxesSubplot at 0x226c0e4db00>"
      ]
     },
     "execution_count": 182,
     "metadata": {},
     "output_type": "execute_result"
    },
    {
     "data": {
      "image/png": "[encoded data removed]",
      "text/plain": [
       "<matplotlib.figure.Figure at 0x226c0e16ef0>"
      ]
     },
     "metadata": {},
     "output_type": "display_data"
    }
   ],
   "source": [
    "plt.figure(figsize=(10,5))\n",
    "sns.countplot(x=\"OutcomeType\",data=data_train)"
   ]
  },
  {
   "cell_type": "markdown",
   "metadata": {},
   "source": [
    "La proporción entre perros y gatos son:"
   ]
  },
  {
   "cell_type": "code",
   "execution_count": 183,
   "metadata": {},
   "outputs": [
    {
     "data": {
      "text/plain": [
       "<matplotlib.axes._subplots.AxesSubplot at 0x226c0e38198>"
      ]
     },
     "execution_count": 183,
     "metadata": {},
     "output_type": "execute_result"
    },
    {
     "data": {
      "image/png": "[encoded data removed]",
      "text/plain": [
       "<matplotlib.figure.Figure at 0x226c13ea198>"
      ]
     },
     "metadata": {},
     "output_type": "display_data"
    }
   ],
   "source": [
    "sns.countplot(data_train.AnimalType)"
   ]
  },
  {
   "cell_type": "markdown",
   "metadata": {},
   "source": [
    "Las posibles salidas de acuerdo con la base de train, que podrían tener los animalitos de acuerdo con si son perros o gatos son:"
   ]
  },
  {
   "cell_type": "code",
   "execution_count": 184,
   "metadata": {},
   "outputs": [
    {
     "data": {
      "text/plain": [
       "<matplotlib.axes._subplots.AxesSubplot at 0x226c0decf98>"
      ]
     },
     "execution_count": 184,
     "metadata": {},
     "output_type": "execute_result"
    },
    {
     "data": {
      "image/png": "[encoded data removed]",
      "text/plain": [
       "<matplotlib.figure.Figure at 0x226c0dd7c88>"
      ]
     },
     "metadata": {},
     "output_type": "display_data"
    }
   ],
   "source": [
    "plt.figure(figsize=(10,5))\n",
    "sns.countplot(x=\"AnimalType\",hue=\"OutcomeType\",data=data_train)"
   ]
  },
  {
   "cell_type": "markdown",
   "metadata": {},
   "source": [
    "De acuerdo con esto, es más probable que si el animalito llega a un refugio porque se ha perdido retorne con su dueño si es perro. Por otro lado, las personas prefieren adoptar perros en lugar de gatos.\n",
    "\n",
    "Se visualiza a continuación la proporción de perros y gatos de acuerdo con su fertilidad"
   ]
  },
  {
   "cell_type": "code",
   "execution_count": 185,
   "metadata": {},
   "outputs": [
    {
     "data": {
      "text/plain": [
       "Neutered Male    9779\n",
       "Spayed Female    8820\n",
       "Intact Male      3525\n",
       "Intact Female    3511\n",
       "Unknown          1093\n",
       "Name: SexuponOutcome, dtype: int64"
      ]
     },
     "execution_count": 185,
     "metadata": {},
     "output_type": "execute_result"
    }
   ],
   "source": [
    "pd.value_counts(data_train['SexuponOutcome'])"
   ]
  },
  {
   "cell_type": "code",
   "execution_count": 186,
   "metadata": {
    "scrolled": true
   },
   "outputs": [
    {
     "data": {
      "text/plain": [
       "<matplotlib.axes._subplots.AxesSubplot at 0x226c128add8>"
      ]
     },
     "execution_count": 186,
     "metadata": {},
     "output_type": "execute_result"
    },
    {
     "data": {
      "image/png": "[encoded data removed]",
      "text/plain": [
       "<matplotlib.figure.Figure at 0x226c122c278>"
      ]
     },
     "metadata": {},
     "output_type": "display_data"
    }
   ],
   "source": [
    "plt.figure(figsize=(10,5))\n",
    "sns.countplot(data_train.SexuponOutcome)\n",
    "sns.countplot(x=\"SexuponOutcome\",hue=\"AnimalType\",data=data_train)"
   ]
  },
  {
   "cell_type": "markdown",
   "metadata": {},
   "source": [
    "De los machos castrados la mayoría son perros, sin embargo de las hembras esterilizadas la mayoría son gatas. Es mayor la proporción de animalitos castrados, sin embargo es necesario que ese valor sea mayor en los perritos que son hembras.\n",
    "\n",
    "Hay una mayor proporción de machos que de hembras entre los animalitos que llegan a refugios. Hay una pequeña proporción de animalitos a los que no se les conoce o registra el sexo."
   ]
  },
  {
   "cell_type": "code",
   "execution_count": 187,
   "metadata": {},
   "outputs": [
    {
     "data": {
      "text/plain": [
       "<matplotlib.axes._subplots.AxesSubplot at 0x226c0e2b908>"
      ]
     },
     "execution_count": 187,
     "metadata": {},
     "output_type": "execute_result"
    },
    {
     "data": {
      "image/png": "[encoded data removed]",
      "text/plain": [
       "<matplotlib.figure.Figure at 0x226c1444da0>"
      ]
     },
     "metadata": {},
     "output_type": "display_data"
    }
   ],
   "source": [
    "plt.figure(figsize=(10,5))\n",
    "sns.countplot(x=\"Sex\",data=data_train)"
   ]
  },
  {
   "cell_type": "markdown",
   "metadata": {},
   "source": [
    "Se visualiza la proporción entre machos y hembras dependiendo de si son perros o gatos."
   ]
  },
  {
   "cell_type": "code",
   "execution_count": 188,
   "metadata": {},
   "outputs": [
    {
     "data": {
      "text/plain": [
       "<matplotlib.axes._subplots.AxesSubplot at 0x226c14b5198>"
      ]
     },
     "execution_count": 188,
     "metadata": {},
     "output_type": "execute_result"
    },
    {
     "data": {
      "image/png": "[encoded data removed]",
      "text/plain": [
       "<matplotlib.figure.Figure at 0x226c14b5748>"
      ]
     },
     "metadata": {},
     "output_type": "display_data"
    }
   ],
   "source": [
    "plt.figure(figsize=(10,5))\n",
    "sns.countplot(x=\"Sex\",hue=\"AnimalType\",data=data_train)"
   ]
  },
  {
   "cell_type": "markdown",
   "metadata": {},
   "source": [
    "Parece que los machos son igualmente adoptados que las hembras, sin embargo, es más probable que un macho regrese nuevamente con su dueño si ha llegado al refugio."
   ]
  },
  {
   "cell_type": "code",
   "execution_count": 189,
   "metadata": {
    "scrolled": true
   },
   "outputs": [
    {
     "data": {
      "text/plain": [
       "<matplotlib.axes._subplots.AxesSubplot at 0x226c145fa58>"
      ]
     },
     "execution_count": 189,
     "metadata": {},
     "output_type": "execute_result"
    },
    {
     "data": {
      "image/png": "[encoded data removed]",
      "text/plain": [
       "<matplotlib.figure.Figure at 0x2268bfdcf60>"
      ]
     },
     "metadata": {},
     "output_type": "display_data"
    }
   ],
   "source": [
    "plt.figure(figsize=(10,5))\n",
    "sns.countplot(x=\"Sex\",hue=\"OutcomeType\",data=data_train)"
   ]
  },
  {
   "cell_type": "markdown",
   "metadata": {},
   "source": [
    "La mayoría de los animalitos tienen su pelaje con más de un color (Mixed). Son mas frecuentes los animalitos de pelo negro y café vs otros colores"
   ]
  },
  {
   "cell_type": "code",
   "execution_count": 190,
   "metadata": {
    "scrolled": true
   },
   "outputs": [
    {
     "data": {
      "text/plain": [
       "<matplotlib.axes._subplots.AxesSubplot at 0x226c143c5c0>"
      ]
     },
     "execution_count": 190,
     "metadata": {},
     "output_type": "execute_result"
    },
    {
     "data": {
      "image/png": "[encoded data removed]",
      "text/plain": [
       "<matplotlib.figure.Figure at 0x226c1513400>"
      ]
     },
     "metadata": {},
     "output_type": "display_data"
    }
   ],
   "source": [
    "plt.figure(figsize=(20,8))\n",
    "sns.countplot(x=\"color\",hue=\"OutcomeType\",data=data_train)"
   ]
  },
  {
   "cell_type": "markdown",
   "metadata": {},
   "source": [
    "Hay mas hembritas con pelaje de color café que negro. Hay una gran proporción de animalitos machos con pelajede varios colores."
   ]
  },
  {
   "cell_type": "code",
   "execution_count": 191,
   "metadata": {},
   "outputs": [
    {
     "data": {
      "text/plain": [
       "<matplotlib.axes._subplots.AxesSubplot at 0x2268c00db70>"
      ]
     },
     "execution_count": 191,
     "metadata": {},
     "output_type": "execute_result"
    },
    {
     "data": {
      "image/png": "[encoded data removed]",
      "text/plain": [
       "<matplotlib.figure.Figure at 0x226bfba2860>"
      ]
     },
     "metadata": {},
     "output_type": "display_data"
    }
   ],
   "source": [
    "plt.figure(figsize=(20,8))\n",
    "sns.countplot(x=\"color\",hue=\"Sex\",data=data_train)"
   ]
  },
  {
   "cell_type": "markdown",
   "metadata": {},
   "source": [
    "Alrededor de 5000 perritos son de raza pura. La mayoría son criollos o mixtos."
   ]
  },
  {
   "cell_type": "code",
   "execution_count": 192,
   "metadata": {
    "scrolled": true
   },
   "outputs": [
    {
     "data": {
      "text/plain": [
       "<matplotlib.axes._subplots.AxesSubplot at 0x226c1246470>"
      ]
     },
     "execution_count": 192,
     "metadata": {},
     "output_type": "execute_result"
    },
    {
     "data": {
      "image/png": "[encoded data removed]",
      "text/plain": [
       "<matplotlib.figure.Figure at 0x226bfba2b00>"
      ]
     },
     "metadata": {},
     "output_type": "display_data"
    }
   ],
   "source": [
    "plt.figure(figsize=(6,5))\n",
    "sns.countplot(x=\"breed\",data=data_train)"
   ]
  },
  {
   "cell_type": "markdown",
   "metadata": {},
   "source": [
    "Se visualiza que los animalitos que son de raza pura son menos sacrificados y mueren en menor cantidades que los que son criollos. Adicionalmente, los animalitos criollos tienen menos probabilidad de regresar con sus dueños que los de raza pura.\n",
    "\n",
    "Con esto se podría pensar que se prefieren en general los animalitos de raza pura aunque en cantidades son muchos menos que los criollos"
   ]
  },
  {
   "cell_type": "code",
   "execution_count": 193,
   "metadata": {},
   "outputs": [
    {
     "data": {
      "text/plain": [
       "<matplotlib.axes._subplots.AxesSubplot at 0x226bfcb5fd0>"
      ]
     },
     "execution_count": 193,
     "metadata": {},
     "output_type": "execute_result"
    },
    {
     "data": {
      "image/png": "[encoded data removed]",
      "text/plain": [
       "<matplotlib.figure.Figure at 0x226bffc64a8>"
      ]
     },
     "metadata": {},
     "output_type": "display_data"
    }
   ],
   "source": [
    "plt.figure(figsize=(10,6))\n",
    "sns.countplot(x=\"breed\",hue=\"OutcomeType\",data=data_train)"
   ]
  },
  {
   "cell_type": "markdown",
   "metadata": {},
   "source": [
    "Los animalitos más jóvenes son los que mas son adoptados y transferidos a otros refugios o dueños. \n",
    "\n",
    "Entre los animalitos mayores o viejitos se encuentran algunos que sacrifican. \n",
    "\n",
    "Si los animalitos se pierden, su dueño desea que el animalito retorne con el a su hogar con mayor frecuencia en los casos donde el animalito es joven.\n",
    "\n",
    "Los animalitos muy jóvenes son los que menos probabilidad de vivir tienen y mueren con mayor frecuencia.\n",
    "\n",
    "Se identifican algunos valores outliers en todos los estados."
   ]
  },
  {
   "cell_type": "code",
   "execution_count": 194,
   "metadata": {
    "scrolled": true
   },
   "outputs": [
    {
     "data": {
      "image/png": "[encoded data removed]",
      "text/plain": [
       "<matplotlib.figure.Figure at 0x226c00049b0>"
      ]
     },
     "metadata": {},
     "output_type": "display_data"
    }
   ],
   "source": [
    "sns.set()\n",
    "plt.figure(figsize=(8,5))\n",
    "sns.boxplot(x=\"OutcomeType\", y=\"Age_Months\", data=data_train)\n",
    "plt.show()"
   ]
  },
  {
   "cell_type": "markdown",
   "metadata": {},
   "source": [
    "El sexo del animalito parece no incidir o impactar en la edad para que se presente alguna de las posibles salidas."
   ]
  },
  {
   "cell_type": "code",
   "execution_count": 195,
   "metadata": {
    "scrolled": true
   },
   "outputs": [
    {
     "data": {
      "image/png": "[encoded data removed]",
      "text/plain": [
       "<matplotlib.figure.Figure at 0x226bfbc1da0>"
      ]
     },
     "metadata": {},
     "output_type": "display_data"
    }
   ],
   "source": [
    "sns.set()\n",
    "plt.figure(figsize=(12,7))\n",
    "sns.boxplot(x=\"OutcomeType\", y=\"Age_Months\", hue=\"Sex\", data=data_train)\n",
    "plt.show()"
   ]
  },
  {
   "cell_type": "markdown",
   "metadata": {},
   "source": [
    "Se ordena la variable \"DataTime\" y se grafica para identificar estacionariedad y estacionalidad o alguna tendencia"
   ]
  },
  {
   "cell_type": "code",
   "execution_count": 196,
   "metadata": {},
   "outputs": [
    {
     "data": {
      "text/plain": [
       "Int64Index([ 5000,  2404, 21130,  8965,  4092, 13518, 19815, 23646, 16692,\n",
       "            20553,\n",
       "            ...\n",
       "             5113, 20022,  2498, 19094, 12984, 24638, 26551,  1511, 17818,\n",
       "            16217],\n",
       "           dtype='int64', length=26729)"
      ]
     },
     "execution_count": 196,
     "metadata": {},
     "output_type": "execute_result"
    },
    {
     "data": {
      "image/png": "[encoded data removed]",
      "text/plain": [
       "<matplotlib.figure.Figure at 0x226c003ab38>"
      ]
     },
     "metadata": {},
     "output_type": "display_data"
    }
   ],
   "source": [
    "# Ordenar por fecha la base\n",
    "data_train = data_train.sort_values(['DateTime'])\n",
    "data_train.tail()\n",
    "data_train[\"DateTime\"] = pd.to_datetime(data_train[\"DateTime\"]).dt.date\n",
    "plt.figure(figsize=(20,6))\n",
    "data_train[\"OutcomeType\"].groupby(data_train[\"DateTime\"]).count().plot(kind=\"line\")\n",
    "data_train[\"DateTime\"].index"
   ]
  },
  {
   "cell_type": "markdown",
   "metadata": {},
   "source": [
    "La variable no es estacionaria, parece existir alguna tendencia al incremento de salidas hacia los meses de mayo a agosto y una posterior disminución hacia fin de año.\n",
    "\n",
    "Se separa el mes y año de las variable \"DataTime\""
   ]
  },
  {
   "cell_type": "code",
   "execution_count": 197,
   "metadata": {
    "collapsed": true
   },
   "outputs": [],
   "source": [
    "time_train = pd.to_datetime(data_train[\"DateTime\"])\n",
    "time_test  = pd.to_datetime(data_test[\"DateTime\"])\n",
    "\n",
    "data_train[\"Year\"] = time_train.dt.year\n",
    "data_test[\"Year\"] = time_test.dt.year\n",
    "\n",
    "data_train[\"Month\"] = time_train.dt.month\n",
    "data_test[\"Month\"] = time_test.dt.month"
   ]
  },
  {
   "cell_type": "code",
   "execution_count": 198,
   "metadata": {},
   "outputs": [
    {
     "data": {
      "text/html": [
       "<div>\n",
       "<style>\n",
       "    .dataframe thead tr:only-child th {\n",
       "        text-align: right;\n",
       "    }\n",
       "\n",
       "    .dataframe thead th {\n",
       "        text-align: left;\n",
       "    }\n",
       "\n",
       "    .dataframe tbody tr th {\n",
       "        vertical-align: top;\n",
       "    }\n",
       "</style>\n",
       "<table border=\"1\" class=\"dataframe\">\n",
       "  <thead>\n",
       "    <tr style=\"text-align: right;\">\n",
       "      <th></th>\n",
       "      <th>Name</th>\n",
       "      <th>DateTime</th>\n",
       "      <th>OutcomeType</th>\n",
       "      <th>AnimalType</th>\n",
       "      <th>SexuponOutcome</th>\n",
       "      <th>AgeuponOutcome</th>\n",
       "      <th>Breed</th>\n",
       "      <th>Color</th>\n",
       "      <th>Age_Months</th>\n",
       "      <th>Sterile_Ind</th>\n",
       "      <th>Sex</th>\n",
       "      <th>Named</th>\n",
       "      <th>color</th>\n",
       "      <th>breed</th>\n",
       "      <th>Year</th>\n",
       "      <th>Month</th>\n",
       "    </tr>\n",
       "  </thead>\n",
       "  <tbody>\n",
       "    <tr>\n",
       "      <th>5000</th>\n",
       "      <td>Dudley</td>\n",
       "      <td>2013-10-01</td>\n",
       "      <td>Adoption</td>\n",
       "      <td>Dog</td>\n",
       "      <td>Neutered Male</td>\n",
       "      <td>2 months</td>\n",
       "      <td>Labrador Retriever Mix</td>\n",
       "      <td>Black</td>\n",
       "      <td>2.00</td>\n",
       "      <td>Sterile</td>\n",
       "      <td>male</td>\n",
       "      <td>With_name</td>\n",
       "      <td>Black</td>\n",
       "      <td>Mixed</td>\n",
       "      <td>2013</td>\n",
       "      <td>10</td>\n",
       "    </tr>\n",
       "    <tr>\n",
       "      <th>2404</th>\n",
       "      <td>NaN</td>\n",
       "      <td>2013-10-01</td>\n",
       "      <td>Transfer</td>\n",
       "      <td>Cat</td>\n",
       "      <td>Unknown</td>\n",
       "      <td>1 week</td>\n",
       "      <td>Domestic Shorthair Mix</td>\n",
       "      <td>Orange/White</td>\n",
       "      <td>0.25</td>\n",
       "      <td>Unknown</td>\n",
       "      <td>unknown</td>\n",
       "      <td>Without_name</td>\n",
       "      <td>Mixed</td>\n",
       "      <td>Mixed</td>\n",
       "      <td>2013</td>\n",
       "      <td>10</td>\n",
       "    </tr>\n",
       "    <tr>\n",
       "      <th>21130</th>\n",
       "      <td>NaN</td>\n",
       "      <td>2013-10-01</td>\n",
       "      <td>Transfer</td>\n",
       "      <td>Cat</td>\n",
       "      <td>Unknown</td>\n",
       "      <td>1 week</td>\n",
       "      <td>Domestic Shorthair Mix</td>\n",
       "      <td>Orange/White</td>\n",
       "      <td>0.25</td>\n",
       "      <td>Unknown</td>\n",
       "      <td>unknown</td>\n",
       "      <td>Without_name</td>\n",
       "      <td>Mixed</td>\n",
       "      <td>Mixed</td>\n",
       "      <td>2013</td>\n",
       "      <td>10</td>\n",
       "    </tr>\n",
       "    <tr>\n",
       "      <th>8965</th>\n",
       "      <td>Moby</td>\n",
       "      <td>2013-10-01</td>\n",
       "      <td>Return_to_owner</td>\n",
       "      <td>Dog</td>\n",
       "      <td>Neutered Male</td>\n",
       "      <td>4 years</td>\n",
       "      <td>Bulldog Mix</td>\n",
       "      <td>White</td>\n",
       "      <td>48.00</td>\n",
       "      <td>Sterile</td>\n",
       "      <td>male</td>\n",
       "      <td>With_name</td>\n",
       "      <td>White</td>\n",
       "      <td>Mixed</td>\n",
       "      <td>2013</td>\n",
       "      <td>10</td>\n",
       "    </tr>\n",
       "    <tr>\n",
       "      <th>4092</th>\n",
       "      <td>NaN</td>\n",
       "      <td>2013-10-01</td>\n",
       "      <td>Transfer</td>\n",
       "      <td>Dog</td>\n",
       "      <td>Neutered Male</td>\n",
       "      <td>3 years</td>\n",
       "      <td>Toy Poodle Mix</td>\n",
       "      <td>White</td>\n",
       "      <td>36.00</td>\n",
       "      <td>Sterile</td>\n",
       "      <td>male</td>\n",
       "      <td>Without_name</td>\n",
       "      <td>White</td>\n",
       "      <td>Mixed</td>\n",
       "      <td>2013</td>\n",
       "      <td>10</td>\n",
       "    </tr>\n",
       "  </tbody>\n",
       "</table>\n",
       "</div>"
      ],
      "text/plain": [
       "         Name    DateTime      OutcomeType AnimalType SexuponOutcome  \\\n",
       "5000   Dudley  2013-10-01         Adoption        Dog  Neutered Male   \n",
       "2404      NaN  2013-10-01         Transfer        Cat        Unknown   \n",
       "21130     NaN  2013-10-01         Transfer        Cat        Unknown   \n",
       "8965     Moby  2013-10-01  Return_to_owner        Dog  Neutered Male   \n",
       "4092      NaN  2013-10-01         Transfer        Dog  Neutered Male   \n",
       "\n",
       "      AgeuponOutcome                   Breed         Color  Age_Months  \\\n",
       "5000        2 months  Labrador Retriever Mix         Black        2.00   \n",
       "2404          1 week  Domestic Shorthair Mix  Orange/White        0.25   \n",
       "21130         1 week  Domestic Shorthair Mix  Orange/White        0.25   \n",
       "8965         4 years             Bulldog Mix         White       48.00   \n",
       "4092         3 years          Toy Poodle Mix         White       36.00   \n",
       "\n",
       "      Sterile_Ind      Sex         Named  color  breed  Year  Month  \n",
       "5000      Sterile     male     With_name  Black  Mixed  2013     10  \n",
       "2404      Unknown  unknown  Without_name  Mixed  Mixed  2013     10  \n",
       "21130     Unknown  unknown  Without_name  Mixed  Mixed  2013     10  \n",
       "8965      Sterile     male     With_name  White  Mixed  2013     10  \n",
       "4092      Sterile     male  Without_name  White  Mixed  2013     10  "
      ]
     },
     "execution_count": 198,
     "metadata": {},
     "output_type": "execute_result"
    }
   ],
   "source": [
    "data_train.head()"
   ]
  },
  {
   "cell_type": "markdown",
   "metadata": {},
   "source": [
    "Finalmente, se valida que las variables que van a ser utilizadas tengan valores NA."
   ]
  },
  {
   "cell_type": "code",
   "execution_count": 199,
   "metadata": {},
   "outputs": [
    {
     "data": {
      "text/plain": [
       "Name              7691\n",
       "DateTime             0\n",
       "OutcomeType          0\n",
       "AnimalType           0\n",
       "SexuponOutcome       1\n",
       "AgeuponOutcome      18\n",
       "Breed                0\n",
       "Color                0\n",
       "Age_Months           0\n",
       "Sterile_Ind          0\n",
       "Sex                  0\n",
       "Named                0\n",
       "color                0\n",
       "breed                0\n",
       "Year                 0\n",
       "Month                0\n",
       "dtype: int64"
      ]
     },
     "execution_count": 199,
     "metadata": {},
     "output_type": "execute_result"
    }
   ],
   "source": [
    "data_train.isnull().sum()"
   ]
  },
  {
   "cell_type": "markdown",
   "metadata": {},
   "source": [
    "## APLICACIÓN DE MODELOS DE CLASIFICACIÓN\n"
   ]
  },
  {
   "cell_type": "markdown",
   "metadata": {},
   "source": [
    "Se eliminan las siguientes variables:"
   ]
  },
  {
   "cell_type": "code",
   "execution_count": 200,
   "metadata": {
    "collapsed": true
   },
   "outputs": [],
   "source": [
    "del data_train['Name']\n",
    "del data_train['DateTime']\n",
    "del data_train['SexuponOutcome']\n",
    "del data_train['AgeuponOutcome']\n",
    "del data_train['Breed']\n",
    "del data_train['Color']"
   ]
  },
  {
   "cell_type": "code",
   "execution_count": 201,
   "metadata": {},
   "outputs": [
    {
     "data": {
      "text/html": [
       "<div>\n",
       "<style>\n",
       "    .dataframe thead tr:only-child th {\n",
       "        text-align: right;\n",
       "    }\n",
       "\n",
       "    .dataframe thead th {\n",
       "        text-align: left;\n",
       "    }\n",
       "\n",
       "    .dataframe tbody tr th {\n",
       "        vertical-align: top;\n",
       "    }\n",
       "</style>\n",
       "<table border=\"1\" class=\"dataframe\">\n",
       "  <thead>\n",
       "    <tr style=\"text-align: right;\">\n",
       "      <th></th>\n",
       "      <th>OutcomeType</th>\n",
       "      <th>AnimalType</th>\n",
       "      <th>Age_Months</th>\n",
       "      <th>Sterile_Ind</th>\n",
       "      <th>Sex</th>\n",
       "      <th>Named</th>\n",
       "      <th>color</th>\n",
       "      <th>breed</th>\n",
       "      <th>Year</th>\n",
       "      <th>Month</th>\n",
       "    </tr>\n",
       "  </thead>\n",
       "  <tbody>\n",
       "    <tr>\n",
       "      <th>5000</th>\n",
       "      <td>Adoption</td>\n",
       "      <td>Dog</td>\n",
       "      <td>2.00</td>\n",
       "      <td>Sterile</td>\n",
       "      <td>male</td>\n",
       "      <td>With_name</td>\n",
       "      <td>Black</td>\n",
       "      <td>Mixed</td>\n",
       "      <td>2013</td>\n",
       "      <td>10</td>\n",
       "    </tr>\n",
       "    <tr>\n",
       "      <th>2404</th>\n",
       "      <td>Transfer</td>\n",
       "      <td>Cat</td>\n",
       "      <td>0.25</td>\n",
       "      <td>Unknown</td>\n",
       "      <td>unknown</td>\n",
       "      <td>Without_name</td>\n",
       "      <td>Mixed</td>\n",
       "      <td>Mixed</td>\n",
       "      <td>2013</td>\n",
       "      <td>10</td>\n",
       "    </tr>\n",
       "    <tr>\n",
       "      <th>21130</th>\n",
       "      <td>Transfer</td>\n",
       "      <td>Cat</td>\n",
       "      <td>0.25</td>\n",
       "      <td>Unknown</td>\n",
       "      <td>unknown</td>\n",
       "      <td>Without_name</td>\n",
       "      <td>Mixed</td>\n",
       "      <td>Mixed</td>\n",
       "      <td>2013</td>\n",
       "      <td>10</td>\n",
       "    </tr>\n",
       "    <tr>\n",
       "      <th>8965</th>\n",
       "      <td>Return_to_owner</td>\n",
       "      <td>Dog</td>\n",
       "      <td>48.00</td>\n",
       "      <td>Sterile</td>\n",
       "      <td>male</td>\n",
       "      <td>With_name</td>\n",
       "      <td>White</td>\n",
       "      <td>Mixed</td>\n",
       "      <td>2013</td>\n",
       "      <td>10</td>\n",
       "    </tr>\n",
       "    <tr>\n",
       "      <th>4092</th>\n",
       "      <td>Transfer</td>\n",
       "      <td>Dog</td>\n",
       "      <td>36.00</td>\n",
       "      <td>Sterile</td>\n",
       "      <td>male</td>\n",
       "      <td>Without_name</td>\n",
       "      <td>White</td>\n",
       "      <td>Mixed</td>\n",
       "      <td>2013</td>\n",
       "      <td>10</td>\n",
       "    </tr>\n",
       "    <tr>\n",
       "      <th>13518</th>\n",
       "      <td>Transfer</td>\n",
       "      <td>Dog</td>\n",
       "      <td>24.00</td>\n",
       "      <td>Sterile</td>\n",
       "      <td>female</td>\n",
       "      <td>Without_name</td>\n",
       "      <td>Mixed</td>\n",
       "      <td>Mixed</td>\n",
       "      <td>2013</td>\n",
       "      <td>10</td>\n",
       "    </tr>\n",
       "    <tr>\n",
       "      <th>19815</th>\n",
       "      <td>Return_to_owner</td>\n",
       "      <td>Dog</td>\n",
       "      <td>108.00</td>\n",
       "      <td>Sterile</td>\n",
       "      <td>female</td>\n",
       "      <td>With_name</td>\n",
       "      <td>Black</td>\n",
       "      <td>Mixed</td>\n",
       "      <td>2013</td>\n",
       "      <td>10</td>\n",
       "    </tr>\n",
       "    <tr>\n",
       "      <th>23646</th>\n",
       "      <td>Adoption</td>\n",
       "      <td>Cat</td>\n",
       "      <td>5.00</td>\n",
       "      <td>Sterile</td>\n",
       "      <td>male</td>\n",
       "      <td>With_name</td>\n",
       "      <td>Black</td>\n",
       "      <td>Mixed</td>\n",
       "      <td>2013</td>\n",
       "      <td>10</td>\n",
       "    </tr>\n",
       "    <tr>\n",
       "      <th>16692</th>\n",
       "      <td>Euthanasia</td>\n",
       "      <td>Dog</td>\n",
       "      <td>12.00</td>\n",
       "      <td>Sterile</td>\n",
       "      <td>male</td>\n",
       "      <td>With_name</td>\n",
       "      <td>Mixed</td>\n",
       "      <td>Mixed</td>\n",
       "      <td>2013</td>\n",
       "      <td>10</td>\n",
       "    </tr>\n",
       "    <tr>\n",
       "      <th>20553</th>\n",
       "      <td>Return_to_owner</td>\n",
       "      <td>Dog</td>\n",
       "      <td>36.00</td>\n",
       "      <td>Sterile</td>\n",
       "      <td>male</td>\n",
       "      <td>With_name</td>\n",
       "      <td>Mixed</td>\n",
       "      <td>Mixed</td>\n",
       "      <td>2013</td>\n",
       "      <td>10</td>\n",
       "    </tr>\n",
       "    <tr>\n",
       "      <th>24702</th>\n",
       "      <td>Return_to_owner</td>\n",
       "      <td>Dog</td>\n",
       "      <td>84.00</td>\n",
       "      <td>Sterile</td>\n",
       "      <td>male</td>\n",
       "      <td>With_name</td>\n",
       "      <td>Other</td>\n",
       "      <td>Mixed</td>\n",
       "      <td>2013</td>\n",
       "      <td>10</td>\n",
       "    </tr>\n",
       "    <tr>\n",
       "      <th>5657</th>\n",
       "      <td>Return_to_owner</td>\n",
       "      <td>Dog</td>\n",
       "      <td>12.00</td>\n",
       "      <td>Sterile</td>\n",
       "      <td>female</td>\n",
       "      <td>With_name</td>\n",
       "      <td>Mixed</td>\n",
       "      <td>Mixed</td>\n",
       "      <td>2013</td>\n",
       "      <td>10</td>\n",
       "    </tr>\n",
       "    <tr>\n",
       "      <th>19829</th>\n",
       "      <td>Died</td>\n",
       "      <td>Cat</td>\n",
       "      <td>1.00</td>\n",
       "      <td>Intact</td>\n",
       "      <td>male</td>\n",
       "      <td>Without_name</td>\n",
       "      <td>Mixed</td>\n",
       "      <td>Mixed</td>\n",
       "      <td>2013</td>\n",
       "      <td>10</td>\n",
       "    </tr>\n",
       "    <tr>\n",
       "      <th>8076</th>\n",
       "      <td>Transfer</td>\n",
       "      <td>Cat</td>\n",
       "      <td>0.25</td>\n",
       "      <td>Intact</td>\n",
       "      <td>female</td>\n",
       "      <td>Without_name</td>\n",
       "      <td>Orange</td>\n",
       "      <td>Mixed</td>\n",
       "      <td>2013</td>\n",
       "      <td>10</td>\n",
       "    </tr>\n",
       "    <tr>\n",
       "      <th>15972</th>\n",
       "      <td>Transfer</td>\n",
       "      <td>Cat</td>\n",
       "      <td>0.25</td>\n",
       "      <td>Intact</td>\n",
       "      <td>male</td>\n",
       "      <td>Without_name</td>\n",
       "      <td>Orange</td>\n",
       "      <td>Mixed</td>\n",
       "      <td>2013</td>\n",
       "      <td>10</td>\n",
       "    </tr>\n",
       "    <tr>\n",
       "      <th>14299</th>\n",
       "      <td>Transfer</td>\n",
       "      <td>Cat</td>\n",
       "      <td>0.25</td>\n",
       "      <td>Intact</td>\n",
       "      <td>male</td>\n",
       "      <td>Without_name</td>\n",
       "      <td>Orange</td>\n",
       "      <td>Mixed</td>\n",
       "      <td>2013</td>\n",
       "      <td>10</td>\n",
       "    </tr>\n",
       "    <tr>\n",
       "      <th>17896</th>\n",
       "      <td>Transfer</td>\n",
       "      <td>Cat</td>\n",
       "      <td>0.75</td>\n",
       "      <td>Intact</td>\n",
       "      <td>female</td>\n",
       "      <td>Without_name</td>\n",
       "      <td>Mixed</td>\n",
       "      <td>Mixed</td>\n",
       "      <td>2013</td>\n",
       "      <td>10</td>\n",
       "    </tr>\n",
       "    <tr>\n",
       "      <th>12425</th>\n",
       "      <td>Transfer</td>\n",
       "      <td>Cat</td>\n",
       "      <td>0.75</td>\n",
       "      <td>Intact</td>\n",
       "      <td>female</td>\n",
       "      <td>Without_name</td>\n",
       "      <td>Tortie</td>\n",
       "      <td>Mixed</td>\n",
       "      <td>2013</td>\n",
       "      <td>10</td>\n",
       "    </tr>\n",
       "    <tr>\n",
       "      <th>25230</th>\n",
       "      <td>Euthanasia</td>\n",
       "      <td>Dog</td>\n",
       "      <td>120.00</td>\n",
       "      <td>Sterile</td>\n",
       "      <td>male</td>\n",
       "      <td>Without_name</td>\n",
       "      <td>Mixed</td>\n",
       "      <td>Pure</td>\n",
       "      <td>2013</td>\n",
       "      <td>10</td>\n",
       "    </tr>\n",
       "    <tr>\n",
       "      <th>17909</th>\n",
       "      <td>Transfer</td>\n",
       "      <td>Dog</td>\n",
       "      <td>168.00</td>\n",
       "      <td>Intact</td>\n",
       "      <td>female</td>\n",
       "      <td>Without_name</td>\n",
       "      <td>Mixed</td>\n",
       "      <td>Mixed</td>\n",
       "      <td>2013</td>\n",
       "      <td>10</td>\n",
       "    </tr>\n",
       "    <tr>\n",
       "      <th>17194</th>\n",
       "      <td>Transfer</td>\n",
       "      <td>Dog</td>\n",
       "      <td>24.00</td>\n",
       "      <td>Sterile</td>\n",
       "      <td>male</td>\n",
       "      <td>With_name</td>\n",
       "      <td>Mixed</td>\n",
       "      <td>Mixed</td>\n",
       "      <td>2013</td>\n",
       "      <td>10</td>\n",
       "    </tr>\n",
       "    <tr>\n",
       "      <th>23048</th>\n",
       "      <td>Transfer</td>\n",
       "      <td>Dog</td>\n",
       "      <td>168.00</td>\n",
       "      <td>Intact</td>\n",
       "      <td>male</td>\n",
       "      <td>Without_name</td>\n",
       "      <td>Brown</td>\n",
       "      <td>Mixed</td>\n",
       "      <td>2013</td>\n",
       "      <td>10</td>\n",
       "    </tr>\n",
       "    <tr>\n",
       "      <th>9646</th>\n",
       "      <td>Euthanasia</td>\n",
       "      <td>Dog</td>\n",
       "      <td>36.00</td>\n",
       "      <td>Sterile</td>\n",
       "      <td>male</td>\n",
       "      <td>With_name</td>\n",
       "      <td>Mixed</td>\n",
       "      <td>Mixed</td>\n",
       "      <td>2013</td>\n",
       "      <td>10</td>\n",
       "    </tr>\n",
       "    <tr>\n",
       "      <th>5082</th>\n",
       "      <td>Euthanasia</td>\n",
       "      <td>Dog</td>\n",
       "      <td>24.00</td>\n",
       "      <td>Sterile</td>\n",
       "      <td>female</td>\n",
       "      <td>With_name</td>\n",
       "      <td>Mixed</td>\n",
       "      <td>Mixed</td>\n",
       "      <td>2013</td>\n",
       "      <td>10</td>\n",
       "    </tr>\n",
       "    <tr>\n",
       "      <th>14607</th>\n",
       "      <td>Return_to_owner</td>\n",
       "      <td>Dog</td>\n",
       "      <td>72.00</td>\n",
       "      <td>Sterile</td>\n",
       "      <td>female</td>\n",
       "      <td>With_name</td>\n",
       "      <td>Other</td>\n",
       "      <td>Mixed</td>\n",
       "      <td>2013</td>\n",
       "      <td>10</td>\n",
       "    </tr>\n",
       "    <tr>\n",
       "      <th>10891</th>\n",
       "      <td>Return_to_owner</td>\n",
       "      <td>Cat</td>\n",
       "      <td>3.00</td>\n",
       "      <td>Sterile</td>\n",
       "      <td>male</td>\n",
       "      <td>With_name</td>\n",
       "      <td>Mixed</td>\n",
       "      <td>Mixed</td>\n",
       "      <td>2013</td>\n",
       "      <td>10</td>\n",
       "    </tr>\n",
       "    <tr>\n",
       "      <th>6324</th>\n",
       "      <td>Transfer</td>\n",
       "      <td>Cat</td>\n",
       "      <td>12.00</td>\n",
       "      <td>Intact</td>\n",
       "      <td>female</td>\n",
       "      <td>Without_name</td>\n",
       "      <td>Mixed</td>\n",
       "      <td>Mixed</td>\n",
       "      <td>2013</td>\n",
       "      <td>10</td>\n",
       "    </tr>\n",
       "    <tr>\n",
       "      <th>997</th>\n",
       "      <td>Euthanasia</td>\n",
       "      <td>Cat</td>\n",
       "      <td>4.00</td>\n",
       "      <td>Unknown</td>\n",
       "      <td>unknown</td>\n",
       "      <td>Without_name</td>\n",
       "      <td>Mixed</td>\n",
       "      <td>Mixed</td>\n",
       "      <td>2013</td>\n",
       "      <td>10</td>\n",
       "    </tr>\n",
       "    <tr>\n",
       "      <th>20897</th>\n",
       "      <td>Adoption</td>\n",
       "      <td>Cat</td>\n",
       "      <td>2.00</td>\n",
       "      <td>Sterile</td>\n",
       "      <td>female</td>\n",
       "      <td>With_name</td>\n",
       "      <td>Blue</td>\n",
       "      <td>Mixed</td>\n",
       "      <td>2013</td>\n",
       "      <td>10</td>\n",
       "    </tr>\n",
       "    <tr>\n",
       "      <th>5287</th>\n",
       "      <td>Adoption</td>\n",
       "      <td>Dog</td>\n",
       "      <td>8.00</td>\n",
       "      <td>Sterile</td>\n",
       "      <td>male</td>\n",
       "      <td>Without_name</td>\n",
       "      <td>Brown</td>\n",
       "      <td>Mixed</td>\n",
       "      <td>2013</td>\n",
       "      <td>10</td>\n",
       "    </tr>\n",
       "    <tr>\n",
       "      <th>...</th>\n",
       "      <td>...</td>\n",
       "      <td>...</td>\n",
       "      <td>...</td>\n",
       "      <td>...</td>\n",
       "      <td>...</td>\n",
       "      <td>...</td>\n",
       "      <td>...</td>\n",
       "      <td>...</td>\n",
       "      <td>...</td>\n",
       "      <td>...</td>\n",
       "    </tr>\n",
       "    <tr>\n",
       "      <th>11477</th>\n",
       "      <td>Transfer</td>\n",
       "      <td>Dog</td>\n",
       "      <td>2.00</td>\n",
       "      <td>Sterile</td>\n",
       "      <td>male</td>\n",
       "      <td>With_name</td>\n",
       "      <td>Mixed</td>\n",
       "      <td>Mixed</td>\n",
       "      <td>2016</td>\n",
       "      <td>2</td>\n",
       "    </tr>\n",
       "    <tr>\n",
       "      <th>15310</th>\n",
       "      <td>Return_to_owner</td>\n",
       "      <td>Dog</td>\n",
       "      <td>96.00</td>\n",
       "      <td>Sterile</td>\n",
       "      <td>male</td>\n",
       "      <td>With_name</td>\n",
       "      <td>Mixed</td>\n",
       "      <td>Mixed</td>\n",
       "      <td>2016</td>\n",
       "      <td>2</td>\n",
       "    </tr>\n",
       "    <tr>\n",
       "      <th>22222</th>\n",
       "      <td>Return_to_owner</td>\n",
       "      <td>Dog</td>\n",
       "      <td>24.00</td>\n",
       "      <td>Sterile</td>\n",
       "      <td>female</td>\n",
       "      <td>With_name</td>\n",
       "      <td>Mixed</td>\n",
       "      <td>Mixed</td>\n",
       "      <td>2016</td>\n",
       "      <td>2</td>\n",
       "    </tr>\n",
       "    <tr>\n",
       "      <th>6355</th>\n",
       "      <td>Return_to_owner</td>\n",
       "      <td>Dog</td>\n",
       "      <td>36.00</td>\n",
       "      <td>Sterile</td>\n",
       "      <td>male</td>\n",
       "      <td>With_name</td>\n",
       "      <td>Mixed</td>\n",
       "      <td>Mixed</td>\n",
       "      <td>2016</td>\n",
       "      <td>2</td>\n",
       "    </tr>\n",
       "    <tr>\n",
       "      <th>25440</th>\n",
       "      <td>Adoption</td>\n",
       "      <td>Dog</td>\n",
       "      <td>24.00</td>\n",
       "      <td>Sterile</td>\n",
       "      <td>female</td>\n",
       "      <td>With_name</td>\n",
       "      <td>Black</td>\n",
       "      <td>Mixed</td>\n",
       "      <td>2016</td>\n",
       "      <td>2</td>\n",
       "    </tr>\n",
       "    <tr>\n",
       "      <th>18768</th>\n",
       "      <td>Adoption</td>\n",
       "      <td>Cat</td>\n",
       "      <td>48.00</td>\n",
       "      <td>Sterile</td>\n",
       "      <td>female</td>\n",
       "      <td>With_name</td>\n",
       "      <td>Tortie</td>\n",
       "      <td>Mixed</td>\n",
       "      <td>2016</td>\n",
       "      <td>2</td>\n",
       "    </tr>\n",
       "    <tr>\n",
       "      <th>17022</th>\n",
       "      <td>Adoption</td>\n",
       "      <td>Dog</td>\n",
       "      <td>24.00</td>\n",
       "      <td>Sterile</td>\n",
       "      <td>female</td>\n",
       "      <td>With_name</td>\n",
       "      <td>Brown</td>\n",
       "      <td>Mixed</td>\n",
       "      <td>2016</td>\n",
       "      <td>2</td>\n",
       "    </tr>\n",
       "    <tr>\n",
       "      <th>3215</th>\n",
       "      <td>Adoption</td>\n",
       "      <td>Dog</td>\n",
       "      <td>8.00</td>\n",
       "      <td>Sterile</td>\n",
       "      <td>female</td>\n",
       "      <td>With_name</td>\n",
       "      <td>Black</td>\n",
       "      <td>Mixed</td>\n",
       "      <td>2016</td>\n",
       "      <td>2</td>\n",
       "    </tr>\n",
       "    <tr>\n",
       "      <th>1259</th>\n",
       "      <td>Adoption</td>\n",
       "      <td>Cat</td>\n",
       "      <td>96.00</td>\n",
       "      <td>Sterile</td>\n",
       "      <td>female</td>\n",
       "      <td>With_name</td>\n",
       "      <td>Calico</td>\n",
       "      <td>Mixed</td>\n",
       "      <td>2016</td>\n",
       "      <td>2</td>\n",
       "    </tr>\n",
       "    <tr>\n",
       "      <th>1020</th>\n",
       "      <td>Adoption</td>\n",
       "      <td>Dog</td>\n",
       "      <td>24.00</td>\n",
       "      <td>Sterile</td>\n",
       "      <td>male</td>\n",
       "      <td>With_name</td>\n",
       "      <td>Mixed</td>\n",
       "      <td>Mixed</td>\n",
       "      <td>2016</td>\n",
       "      <td>2</td>\n",
       "    </tr>\n",
       "    <tr>\n",
       "      <th>1984</th>\n",
       "      <td>Return_to_owner</td>\n",
       "      <td>Dog</td>\n",
       "      <td>12.00</td>\n",
       "      <td>Sterile</td>\n",
       "      <td>male</td>\n",
       "      <td>With_name</td>\n",
       "      <td>Mixed</td>\n",
       "      <td>Pure</td>\n",
       "      <td>2016</td>\n",
       "      <td>2</td>\n",
       "    </tr>\n",
       "    <tr>\n",
       "      <th>14699</th>\n",
       "      <td>Adoption</td>\n",
       "      <td>Cat</td>\n",
       "      <td>10.00</td>\n",
       "      <td>Sterile</td>\n",
       "      <td>male</td>\n",
       "      <td>With_name</td>\n",
       "      <td>Mixed</td>\n",
       "      <td>Mixed</td>\n",
       "      <td>2016</td>\n",
       "      <td>2</td>\n",
       "    </tr>\n",
       "    <tr>\n",
       "      <th>6249</th>\n",
       "      <td>Adoption</td>\n",
       "      <td>Cat</td>\n",
       "      <td>6.00</td>\n",
       "      <td>Sterile</td>\n",
       "      <td>female</td>\n",
       "      <td>With_name</td>\n",
       "      <td>Tortie</td>\n",
       "      <td>Mixed</td>\n",
       "      <td>2016</td>\n",
       "      <td>2</td>\n",
       "    </tr>\n",
       "    <tr>\n",
       "      <th>17497</th>\n",
       "      <td>Adoption</td>\n",
       "      <td>Cat</td>\n",
       "      <td>12.00</td>\n",
       "      <td>Sterile</td>\n",
       "      <td>female</td>\n",
       "      <td>With_name</td>\n",
       "      <td>Black</td>\n",
       "      <td>Mixed</td>\n",
       "      <td>2016</td>\n",
       "      <td>2</td>\n",
       "    </tr>\n",
       "    <tr>\n",
       "      <th>6319</th>\n",
       "      <td>Transfer</td>\n",
       "      <td>Cat</td>\n",
       "      <td>12.00</td>\n",
       "      <td>Sterile</td>\n",
       "      <td>female</td>\n",
       "      <td>With_name</td>\n",
       "      <td>Calico</td>\n",
       "      <td>Mixed</td>\n",
       "      <td>2016</td>\n",
       "      <td>2</td>\n",
       "    </tr>\n",
       "    <tr>\n",
       "      <th>24394</th>\n",
       "      <td>Return_to_owner</td>\n",
       "      <td>Dog</td>\n",
       "      <td>36.00</td>\n",
       "      <td>Sterile</td>\n",
       "      <td>male</td>\n",
       "      <td>With_name</td>\n",
       "      <td>Mixed</td>\n",
       "      <td>Pure</td>\n",
       "      <td>2016</td>\n",
       "      <td>2</td>\n",
       "    </tr>\n",
       "    <tr>\n",
       "      <th>8646</th>\n",
       "      <td>Return_to_owner</td>\n",
       "      <td>Dog</td>\n",
       "      <td>48.00</td>\n",
       "      <td>Sterile</td>\n",
       "      <td>male</td>\n",
       "      <td>With_name</td>\n",
       "      <td>Mixed</td>\n",
       "      <td>Mixed</td>\n",
       "      <td>2016</td>\n",
       "      <td>2</td>\n",
       "    </tr>\n",
       "    <tr>\n",
       "      <th>18222</th>\n",
       "      <td>Transfer</td>\n",
       "      <td>Dog</td>\n",
       "      <td>144.00</td>\n",
       "      <td>Sterile</td>\n",
       "      <td>male</td>\n",
       "      <td>With_name</td>\n",
       "      <td>Black</td>\n",
       "      <td>Mixed</td>\n",
       "      <td>2016</td>\n",
       "      <td>2</td>\n",
       "    </tr>\n",
       "    <tr>\n",
       "      <th>13459</th>\n",
       "      <td>Return_to_owner</td>\n",
       "      <td>Dog</td>\n",
       "      <td>12.00</td>\n",
       "      <td>Sterile</td>\n",
       "      <td>male</td>\n",
       "      <td>With_name</td>\n",
       "      <td>Mixed</td>\n",
       "      <td>Mixed</td>\n",
       "      <td>2016</td>\n",
       "      <td>2</td>\n",
       "    </tr>\n",
       "    <tr>\n",
       "      <th>2441</th>\n",
       "      <td>Adoption</td>\n",
       "      <td>Cat</td>\n",
       "      <td>24.00</td>\n",
       "      <td>Sterile</td>\n",
       "      <td>male</td>\n",
       "      <td>With_name</td>\n",
       "      <td>Mixed</td>\n",
       "      <td>Mixed</td>\n",
       "      <td>2016</td>\n",
       "      <td>2</td>\n",
       "    </tr>\n",
       "    <tr>\n",
       "      <th>5113</th>\n",
       "      <td>Adoption</td>\n",
       "      <td>Dog</td>\n",
       "      <td>7.00</td>\n",
       "      <td>Sterile</td>\n",
       "      <td>female</td>\n",
       "      <td>With_name</td>\n",
       "      <td>Mixed</td>\n",
       "      <td>Mixed</td>\n",
       "      <td>2016</td>\n",
       "      <td>2</td>\n",
       "    </tr>\n",
       "    <tr>\n",
       "      <th>20022</th>\n",
       "      <td>Adoption</td>\n",
       "      <td>Dog</td>\n",
       "      <td>4.00</td>\n",
       "      <td>Sterile</td>\n",
       "      <td>female</td>\n",
       "      <td>With_name</td>\n",
       "      <td>Mixed</td>\n",
       "      <td>Mixed</td>\n",
       "      <td>2016</td>\n",
       "      <td>2</td>\n",
       "    </tr>\n",
       "    <tr>\n",
       "      <th>2498</th>\n",
       "      <td>Adoption</td>\n",
       "      <td>Dog</td>\n",
       "      <td>84.00</td>\n",
       "      <td>Sterile</td>\n",
       "      <td>female</td>\n",
       "      <td>With_name</td>\n",
       "      <td>Brown</td>\n",
       "      <td>Mixed</td>\n",
       "      <td>2016</td>\n",
       "      <td>2</td>\n",
       "    </tr>\n",
       "    <tr>\n",
       "      <th>19094</th>\n",
       "      <td>Return_to_owner</td>\n",
       "      <td>Dog</td>\n",
       "      <td>120.00</td>\n",
       "      <td>Sterile</td>\n",
       "      <td>male</td>\n",
       "      <td>With_name</td>\n",
       "      <td>Mixed</td>\n",
       "      <td>Pure</td>\n",
       "      <td>2016</td>\n",
       "      <td>2</td>\n",
       "    </tr>\n",
       "    <tr>\n",
       "      <th>12984</th>\n",
       "      <td>Adoption</td>\n",
       "      <td>Dog</td>\n",
       "      <td>24.00</td>\n",
       "      <td>Sterile</td>\n",
       "      <td>male</td>\n",
       "      <td>With_name</td>\n",
       "      <td>Mixed</td>\n",
       "      <td>Mixed</td>\n",
       "      <td>2016</td>\n",
       "      <td>2</td>\n",
       "    </tr>\n",
       "    <tr>\n",
       "      <th>24638</th>\n",
       "      <td>Adoption</td>\n",
       "      <td>Cat</td>\n",
       "      <td>84.00</td>\n",
       "      <td>Sterile</td>\n",
       "      <td>female</td>\n",
       "      <td>With_name</td>\n",
       "      <td>Torbie</td>\n",
       "      <td>Mixed</td>\n",
       "      <td>2016</td>\n",
       "      <td>2</td>\n",
       "    </tr>\n",
       "    <tr>\n",
       "      <th>26551</th>\n",
       "      <td>Transfer</td>\n",
       "      <td>Cat</td>\n",
       "      <td>0.00</td>\n",
       "      <td>Intact</td>\n",
       "      <td>female</td>\n",
       "      <td>Without_name</td>\n",
       "      <td>Black</td>\n",
       "      <td>Mixed</td>\n",
       "      <td>2016</td>\n",
       "      <td>2</td>\n",
       "    </tr>\n",
       "    <tr>\n",
       "      <th>1511</th>\n",
       "      <td>Adoption</td>\n",
       "      <td>Dog</td>\n",
       "      <td>96.00</td>\n",
       "      <td>Sterile</td>\n",
       "      <td>male</td>\n",
       "      <td>With_name</td>\n",
       "      <td>Mixed</td>\n",
       "      <td>Mixed</td>\n",
       "      <td>2016</td>\n",
       "      <td>2</td>\n",
       "    </tr>\n",
       "    <tr>\n",
       "      <th>17818</th>\n",
       "      <td>Transfer</td>\n",
       "      <td>Cat</td>\n",
       "      <td>12.00</td>\n",
       "      <td>Unknown</td>\n",
       "      <td>unknown</td>\n",
       "      <td>Without_name</td>\n",
       "      <td>Black</td>\n",
       "      <td>Mixed</td>\n",
       "      <td>2016</td>\n",
       "      <td>2</td>\n",
       "    </tr>\n",
       "    <tr>\n",
       "      <th>16217</th>\n",
       "      <td>Adoption</td>\n",
       "      <td>Dog</td>\n",
       "      <td>72.00</td>\n",
       "      <td>Sterile</td>\n",
       "      <td>male</td>\n",
       "      <td>With_name</td>\n",
       "      <td>White</td>\n",
       "      <td>Pure</td>\n",
       "      <td>2016</td>\n",
       "      <td>2</td>\n",
       "    </tr>\n",
       "  </tbody>\n",
       "</table>\n",
       "<p>26729 rows × 10 columns</p>\n",
       "</div>"
      ],
      "text/plain": [
       "           OutcomeType AnimalType  Age_Months Sterile_Ind      Sex  \\\n",
       "5000          Adoption        Dog        2.00     Sterile     male   \n",
       "2404          Transfer        Cat        0.25     Unknown  unknown   \n",
       "21130         Transfer        Cat        0.25     Unknown  unknown   \n",
       "8965   Return_to_owner        Dog       48.00     Sterile     male   \n",
       "4092          Transfer        Dog       36.00     Sterile     male   \n",
       "13518         Transfer        Dog       24.00     Sterile   female   \n",
       "19815  Return_to_owner        Dog      108.00     Sterile   female   \n",
       "23646         Adoption        Cat        5.00     Sterile     male   \n",
       "16692       Euthanasia        Dog       12.00     Sterile     male   \n",
       "20553  Return_to_owner        Dog       36.00     Sterile     male   \n",
       "24702  Return_to_owner        Dog       84.00     Sterile     male   \n",
       "5657   Return_to_owner        Dog       12.00     Sterile   female   \n",
       "19829             Died        Cat        1.00      Intact     male   \n",
       "8076          Transfer        Cat        0.25      Intact   female   \n",
       "15972         Transfer        Cat        0.25      Intact     male   \n",
       "14299         Transfer        Cat        0.25      Intact     male   \n",
       "17896         Transfer        Cat        0.75      Intact   female   \n",
       "12425         Transfer        Cat        0.75      Intact   female   \n",
       "25230       Euthanasia        Dog      120.00     Sterile     male   \n",
       "17909         Transfer        Dog      168.00      Intact   female   \n",
       "17194         Transfer        Dog       24.00     Sterile     male   \n",
       "23048         Transfer        Dog      168.00      Intact     male   \n",
       "9646        Euthanasia        Dog       36.00     Sterile     male   \n",
       "5082        Euthanasia        Dog       24.00     Sterile   female   \n",
       "14607  Return_to_owner        Dog       72.00     Sterile   female   \n",
       "10891  Return_to_owner        Cat        3.00     Sterile     male   \n",
       "6324          Transfer        Cat       12.00      Intact   female   \n",
       "997         Euthanasia        Cat        4.00     Unknown  unknown   \n",
       "20897         Adoption        Cat        2.00     Sterile   female   \n",
       "5287          Adoption        Dog        8.00     Sterile     male   \n",
       "...                ...        ...         ...         ...      ...   \n",
       "11477         Transfer        Dog        2.00     Sterile     male   \n",
       "15310  Return_to_owner        Dog       96.00     Sterile     male   \n",
       "22222  Return_to_owner        Dog       24.00     Sterile   female   \n",
       "6355   Return_to_owner        Dog       36.00     Sterile     male   \n",
       "25440         Adoption        Dog       24.00     Sterile   female   \n",
       "18768         Adoption        Cat       48.00     Sterile   female   \n",
       "17022         Adoption        Dog       24.00     Sterile   female   \n",
       "3215          Adoption        Dog        8.00     Sterile   female   \n",
       "1259          Adoption        Cat       96.00     Sterile   female   \n",
       "1020          Adoption        Dog       24.00     Sterile     male   \n",
       "1984   Return_to_owner        Dog       12.00     Sterile     male   \n",
       "14699         Adoption        Cat       10.00     Sterile     male   \n",
       "6249          Adoption        Cat        6.00     Sterile   female   \n",
       "17497         Adoption        Cat       12.00     Sterile   female   \n",
       "6319          Transfer        Cat       12.00     Sterile   female   \n",
       "24394  Return_to_owner        Dog       36.00     Sterile     male   \n",
       "8646   Return_to_owner        Dog       48.00     Sterile     male   \n",
       "18222         Transfer        Dog      144.00     Sterile     male   \n",
       "13459  Return_to_owner        Dog       12.00     Sterile     male   \n",
       "2441          Adoption        Cat       24.00     Sterile     male   \n",
       "5113          Adoption        Dog        7.00     Sterile   female   \n",
       "20022         Adoption        Dog        4.00     Sterile   female   \n",
       "2498          Adoption        Dog       84.00     Sterile   female   \n",
       "19094  Return_to_owner        Dog      120.00     Sterile     male   \n",
       "12984         Adoption        Dog       24.00     Sterile     male   \n",
       "24638         Adoption        Cat       84.00     Sterile   female   \n",
       "26551         Transfer        Cat        0.00      Intact   female   \n",
       "1511          Adoption        Dog       96.00     Sterile     male   \n",
       "17818         Transfer        Cat       12.00     Unknown  unknown   \n",
       "16217         Adoption        Dog       72.00     Sterile     male   \n",
       "\n",
       "              Named   color  breed  Year  Month  \n",
       "5000      With_name   Black  Mixed  2013     10  \n",
       "2404   Without_name   Mixed  Mixed  2013     10  \n",
       "21130  Without_name   Mixed  Mixed  2013     10  \n",
       "8965      With_name   White  Mixed  2013     10  \n",
       "4092   Without_name   White  Mixed  2013     10  \n",
       "13518  Without_name   Mixed  Mixed  2013     10  \n",
       "19815     With_name   Black  Mixed  2013     10  \n",
       "23646     With_name   Black  Mixed  2013     10  \n",
       "16692     With_name   Mixed  Mixed  2013     10  \n",
       "20553     With_name   Mixed  Mixed  2013     10  \n",
       "24702     With_name   Other  Mixed  2013     10  \n",
       "5657      With_name   Mixed  Mixed  2013     10  \n",
       "19829  Without_name   Mixed  Mixed  2013     10  \n",
       "8076   Without_name  Orange  Mixed  2013     10  \n",
       "15972  Without_name  Orange  Mixed  2013     10  \n",
       "14299  Without_name  Orange  Mixed  2013     10  \n",
       "17896  Without_name   Mixed  Mixed  2013     10  \n",
       "12425  Without_name  Tortie  Mixed  2013     10  \n",
       "25230  Without_name   Mixed   Pure  2013     10  \n",
       "17909  Without_name   Mixed  Mixed  2013     10  \n",
       "17194     With_name   Mixed  Mixed  2013     10  \n",
       "23048  Without_name   Brown  Mixed  2013     10  \n",
       "9646      With_name   Mixed  Mixed  2013     10  \n",
       "5082      With_name   Mixed  Mixed  2013     10  \n",
       "14607     With_name   Other  Mixed  2013     10  \n",
       "10891     With_name   Mixed  Mixed  2013     10  \n",
       "6324   Without_name   Mixed  Mixed  2013     10  \n",
       "997    Without_name   Mixed  Mixed  2013     10  \n",
       "20897     With_name    Blue  Mixed  2013     10  \n",
       "5287   Without_name   Brown  Mixed  2013     10  \n",
       "...             ...     ...    ...   ...    ...  \n",
       "11477     With_name   Mixed  Mixed  2016      2  \n",
       "15310     With_name   Mixed  Mixed  2016      2  \n",
       "22222     With_name   Mixed  Mixed  2016      2  \n",
       "6355      With_name   Mixed  Mixed  2016      2  \n",
       "25440     With_name   Black  Mixed  2016      2  \n",
       "18768     With_name  Tortie  Mixed  2016      2  \n",
       "17022     With_name   Brown  Mixed  2016      2  \n",
       "3215      With_name   Black  Mixed  2016      2  \n",
       "1259      With_name  Calico  Mixed  2016      2  \n",
       "1020      With_name   Mixed  Mixed  2016      2  \n",
       "1984      With_name   Mixed   Pure  2016      2  \n",
       "14699     With_name   Mixed  Mixed  2016      2  \n",
       "6249      With_name  Tortie  Mixed  2016      2  \n",
       "17497     With_name   Black  Mixed  2016      2  \n",
       "6319      With_name  Calico  Mixed  2016      2  \n",
       "24394     With_name   Mixed   Pure  2016      2  \n",
       "8646      With_name   Mixed  Mixed  2016      2  \n",
       "18222     With_name   Black  Mixed  2016      2  \n",
       "13459     With_name   Mixed  Mixed  2016      2  \n",
       "2441      With_name   Mixed  Mixed  2016      2  \n",
       "5113      With_name   Mixed  Mixed  2016      2  \n",
       "20022     With_name   Mixed  Mixed  2016      2  \n",
       "2498      With_name   Brown  Mixed  2016      2  \n",
       "19094     With_name   Mixed   Pure  2016      2  \n",
       "12984     With_name   Mixed  Mixed  2016      2  \n",
       "24638     With_name  Torbie  Mixed  2016      2  \n",
       "26551  Without_name   Black  Mixed  2016      2  \n",
       "1511      With_name   Mixed  Mixed  2016      2  \n",
       "17818  Without_name   Black  Mixed  2016      2  \n",
       "16217     With_name   White   Pure  2016      2  \n",
       "\n",
       "[26729 rows x 10 columns]"
      ]
     },
     "execution_count": 201,
     "metadata": {},
     "output_type": "execute_result"
    }
   ],
   "source": [
    "data_train"
   ]
  },
  {
   "cell_type": "code",
   "execution_count": 202,
   "metadata": {},
   "outputs": [
    {
     "data": {
      "text/html": [
       "<div>\n",
       "<style>\n",
       "    .dataframe thead tr:only-child th {\n",
       "        text-align: right;\n",
       "    }\n",
       "\n",
       "    .dataframe thead th {\n",
       "        text-align: left;\n",
       "    }\n",
       "\n",
       "    .dataframe tbody tr th {\n",
       "        vertical-align: top;\n",
       "    }\n",
       "</style>\n",
       "<table border=\"1\" class=\"dataframe\">\n",
       "  <thead>\n",
       "    <tr style=\"text-align: right;\">\n",
       "      <th></th>\n",
       "      <th>AnimalType</th>\n",
       "      <th>Age_Months</th>\n",
       "      <th>Sterile_Ind</th>\n",
       "      <th>Sex</th>\n",
       "      <th>Named</th>\n",
       "      <th>color</th>\n",
       "      <th>breed</th>\n",
       "      <th>Year</th>\n",
       "      <th>Month</th>\n",
       "    </tr>\n",
       "  </thead>\n",
       "  <tbody>\n",
       "    <tr>\n",
       "      <th>0</th>\n",
       "      <td>Dog</td>\n",
       "      <td>10.00</td>\n",
       "      <td>Intact</td>\n",
       "      <td>female</td>\n",
       "      <td>With_name</td>\n",
       "      <td>Mixed</td>\n",
       "      <td>Mixed</td>\n",
       "      <td>2015</td>\n",
       "      <td>10</td>\n",
       "    </tr>\n",
       "    <tr>\n",
       "      <th>1</th>\n",
       "      <td>Dog</td>\n",
       "      <td>24.00</td>\n",
       "      <td>Sterile</td>\n",
       "      <td>female</td>\n",
       "      <td>With_name</td>\n",
       "      <td>Mixed</td>\n",
       "      <td>Pure</td>\n",
       "      <td>2014</td>\n",
       "      <td>7</td>\n",
       "    </tr>\n",
       "    <tr>\n",
       "      <th>2</th>\n",
       "      <td>Cat</td>\n",
       "      <td>12.00</td>\n",
       "      <td>Sterile</td>\n",
       "      <td>male</td>\n",
       "      <td>With_name</td>\n",
       "      <td>Brown</td>\n",
       "      <td>Mixed</td>\n",
       "      <td>2016</td>\n",
       "      <td>1</td>\n",
       "    </tr>\n",
       "    <tr>\n",
       "      <th>3</th>\n",
       "      <td>Dog</td>\n",
       "      <td>4.00</td>\n",
       "      <td>Intact</td>\n",
       "      <td>male</td>\n",
       "      <td>With_name</td>\n",
       "      <td>Mixed</td>\n",
       "      <td>Mixed</td>\n",
       "      <td>2013</td>\n",
       "      <td>12</td>\n",
       "    </tr>\n",
       "    <tr>\n",
       "      <th>4</th>\n",
       "      <td>Dog</td>\n",
       "      <td>24.00</td>\n",
       "      <td>Sterile</td>\n",
       "      <td>male</td>\n",
       "      <td>With_name</td>\n",
       "      <td>White</td>\n",
       "      <td>Mixed</td>\n",
       "      <td>2015</td>\n",
       "      <td>9</td>\n",
       "    </tr>\n",
       "    <tr>\n",
       "      <th>5</th>\n",
       "      <td>Dog</td>\n",
       "      <td>36.00</td>\n",
       "      <td>Sterile</td>\n",
       "      <td>male</td>\n",
       "      <td>With_name</td>\n",
       "      <td>Mixed</td>\n",
       "      <td>Mixed</td>\n",
       "      <td>2015</td>\n",
       "      <td>6</td>\n",
       "    </tr>\n",
       "    <tr>\n",
       "      <th>6</th>\n",
       "      <td>Cat</td>\n",
       "      <td>156.00</td>\n",
       "      <td>Sterile</td>\n",
       "      <td>male</td>\n",
       "      <td>With_name</td>\n",
       "      <td>Mixed</td>\n",
       "      <td>Mixed</td>\n",
       "      <td>2014</td>\n",
       "      <td>3</td>\n",
       "    </tr>\n",
       "    <tr>\n",
       "      <th>7</th>\n",
       "      <td>Cat</td>\n",
       "      <td>6.00</td>\n",
       "      <td>Sterile</td>\n",
       "      <td>female</td>\n",
       "      <td>With_name</td>\n",
       "      <td>Brown</td>\n",
       "      <td>Mixed</td>\n",
       "      <td>2014</td>\n",
       "      <td>6</td>\n",
       "    </tr>\n",
       "    <tr>\n",
       "      <th>8</th>\n",
       "      <td>Dog</td>\n",
       "      <td>3.00</td>\n",
       "      <td>Sterile</td>\n",
       "      <td>female</td>\n",
       "      <td>With_name</td>\n",
       "      <td>Mixed</td>\n",
       "      <td>Pure</td>\n",
       "      <td>2014</td>\n",
       "      <td>11</td>\n",
       "    </tr>\n",
       "    <tr>\n",
       "      <th>9</th>\n",
       "      <td>Dog</td>\n",
       "      <td>12.00</td>\n",
       "      <td>Sterile</td>\n",
       "      <td>female</td>\n",
       "      <td>With_name</td>\n",
       "      <td>Mixed</td>\n",
       "      <td>Mixed</td>\n",
       "      <td>2014</td>\n",
       "      <td>4</td>\n",
       "    </tr>\n",
       "    <tr>\n",
       "      <th>10</th>\n",
       "      <td>Dog</td>\n",
       "      <td>5.00</td>\n",
       "      <td>Sterile</td>\n",
       "      <td>female</td>\n",
       "      <td>With_name</td>\n",
       "      <td>Mixed</td>\n",
       "      <td>Mixed</td>\n",
       "      <td>2014</td>\n",
       "      <td>1</td>\n",
       "    </tr>\n",
       "    <tr>\n",
       "      <th>11</th>\n",
       "      <td>Dog</td>\n",
       "      <td>24.00</td>\n",
       "      <td>Intact</td>\n",
       "      <td>female</td>\n",
       "      <td>With_name</td>\n",
       "      <td>Mixed</td>\n",
       "      <td>Mixed</td>\n",
       "      <td>2014</td>\n",
       "      <td>9</td>\n",
       "    </tr>\n",
       "    <tr>\n",
       "      <th>12</th>\n",
       "      <td>Dog</td>\n",
       "      <td>6.00</td>\n",
       "      <td>Sterile</td>\n",
       "      <td>female</td>\n",
       "      <td>With_name</td>\n",
       "      <td>Brown</td>\n",
       "      <td>Mixed</td>\n",
       "      <td>2015</td>\n",
       "      <td>1</td>\n",
       "    </tr>\n",
       "    <tr>\n",
       "      <th>13</th>\n",
       "      <td>Dog</td>\n",
       "      <td>24.00</td>\n",
       "      <td>Sterile</td>\n",
       "      <td>male</td>\n",
       "      <td>Without_name</td>\n",
       "      <td>White</td>\n",
       "      <td>Mixed</td>\n",
       "      <td>2015</td>\n",
       "      <td>9</td>\n",
       "    </tr>\n",
       "    <tr>\n",
       "      <th>14</th>\n",
       "      <td>Dog</td>\n",
       "      <td>12.00</td>\n",
       "      <td>Sterile</td>\n",
       "      <td>male</td>\n",
       "      <td>With_name</td>\n",
       "      <td>Mixed</td>\n",
       "      <td>Pure</td>\n",
       "      <td>2014</td>\n",
       "      <td>7</td>\n",
       "    </tr>\n",
       "    <tr>\n",
       "      <th>15</th>\n",
       "      <td>Dog</td>\n",
       "      <td>4.00</td>\n",
       "      <td>Sterile</td>\n",
       "      <td>female</td>\n",
       "      <td>With_name</td>\n",
       "      <td>White</td>\n",
       "      <td>Pure</td>\n",
       "      <td>2014</td>\n",
       "      <td>3</td>\n",
       "    </tr>\n",
       "    <tr>\n",
       "      <th>16</th>\n",
       "      <td>Dog</td>\n",
       "      <td>60.00</td>\n",
       "      <td>Sterile</td>\n",
       "      <td>male</td>\n",
       "      <td>With_name</td>\n",
       "      <td>Mixed</td>\n",
       "      <td>Mixed</td>\n",
       "      <td>2015</td>\n",
       "      <td>5</td>\n",
       "    </tr>\n",
       "    <tr>\n",
       "      <th>17</th>\n",
       "      <td>Dog</td>\n",
       "      <td>36.00</td>\n",
       "      <td>Sterile</td>\n",
       "      <td>male</td>\n",
       "      <td>With_name</td>\n",
       "      <td>Mixed</td>\n",
       "      <td>Pure</td>\n",
       "      <td>2016</td>\n",
       "      <td>1</td>\n",
       "    </tr>\n",
       "    <tr>\n",
       "      <th>18</th>\n",
       "      <td>Cat</td>\n",
       "      <td>36.00</td>\n",
       "      <td>Sterile</td>\n",
       "      <td>female</td>\n",
       "      <td>With_name</td>\n",
       "      <td>Torbie</td>\n",
       "      <td>Mixed</td>\n",
       "      <td>2014</td>\n",
       "      <td>6</td>\n",
       "    </tr>\n",
       "    <tr>\n",
       "      <th>19</th>\n",
       "      <td>Cat</td>\n",
       "      <td>48.00</td>\n",
       "      <td>Intact</td>\n",
       "      <td>female</td>\n",
       "      <td>Without_name</td>\n",
       "      <td>Torbie</td>\n",
       "      <td>Mixed</td>\n",
       "      <td>2014</td>\n",
       "      <td>2</td>\n",
       "    </tr>\n",
       "    <tr>\n",
       "      <th>20</th>\n",
       "      <td>Cat</td>\n",
       "      <td>24.00</td>\n",
       "      <td>Sterile</td>\n",
       "      <td>female</td>\n",
       "      <td>With_name</td>\n",
       "      <td>Black</td>\n",
       "      <td>Mixed</td>\n",
       "      <td>2014</td>\n",
       "      <td>11</td>\n",
       "    </tr>\n",
       "    <tr>\n",
       "      <th>21</th>\n",
       "      <td>Cat</td>\n",
       "      <td>0.75</td>\n",
       "      <td>Unknown</td>\n",
       "      <td>unknown</td>\n",
       "      <td>Without_name</td>\n",
       "      <td>Black</td>\n",
       "      <td>Mixed</td>\n",
       "      <td>2015</td>\n",
       "      <td>5</td>\n",
       "    </tr>\n",
       "    <tr>\n",
       "      <th>22</th>\n",
       "      <td>Dog</td>\n",
       "      <td>12.00</td>\n",
       "      <td>Sterile</td>\n",
       "      <td>male</td>\n",
       "      <td>With_name</td>\n",
       "      <td>Mixed</td>\n",
       "      <td>Mixed</td>\n",
       "      <td>2014</td>\n",
       "      <td>6</td>\n",
       "    </tr>\n",
       "    <tr>\n",
       "      <th>23</th>\n",
       "      <td>Cat</td>\n",
       "      <td>0.25</td>\n",
       "      <td>Intact</td>\n",
       "      <td>female</td>\n",
       "      <td>Without_name</td>\n",
       "      <td>Tortie</td>\n",
       "      <td>Mixed</td>\n",
       "      <td>2014</td>\n",
       "      <td>7</td>\n",
       "    </tr>\n",
       "    <tr>\n",
       "      <th>24</th>\n",
       "      <td>Dog</td>\n",
       "      <td>12.00</td>\n",
       "      <td>Sterile</td>\n",
       "      <td>female</td>\n",
       "      <td>With_name</td>\n",
       "      <td>Tan</td>\n",
       "      <td>Pure</td>\n",
       "      <td>2013</td>\n",
       "      <td>10</td>\n",
       "    </tr>\n",
       "    <tr>\n",
       "      <th>25</th>\n",
       "      <td>Cat</td>\n",
       "      <td>12.00</td>\n",
       "      <td>Sterile</td>\n",
       "      <td>male</td>\n",
       "      <td>Without_name</td>\n",
       "      <td>Brown</td>\n",
       "      <td>Mixed</td>\n",
       "      <td>2014</td>\n",
       "      <td>12</td>\n",
       "    </tr>\n",
       "    <tr>\n",
       "      <th>26</th>\n",
       "      <td>Cat</td>\n",
       "      <td>2.00</td>\n",
       "      <td>Sterile</td>\n",
       "      <td>female</td>\n",
       "      <td>With_name</td>\n",
       "      <td>Black</td>\n",
       "      <td>Mixed</td>\n",
       "      <td>2015</td>\n",
       "      <td>7</td>\n",
       "    </tr>\n",
       "    <tr>\n",
       "      <th>27</th>\n",
       "      <td>Dog</td>\n",
       "      <td>2.00</td>\n",
       "      <td>Intact</td>\n",
       "      <td>male</td>\n",
       "      <td>Without_name</td>\n",
       "      <td>Brown</td>\n",
       "      <td>Mixed</td>\n",
       "      <td>2015</td>\n",
       "      <td>3</td>\n",
       "    </tr>\n",
       "    <tr>\n",
       "      <th>28</th>\n",
       "      <td>Dog</td>\n",
       "      <td>36.00</td>\n",
       "      <td>Sterile</td>\n",
       "      <td>male</td>\n",
       "      <td>With_name</td>\n",
       "      <td>Mixed</td>\n",
       "      <td>Mixed</td>\n",
       "      <td>2014</td>\n",
       "      <td>10</td>\n",
       "    </tr>\n",
       "    <tr>\n",
       "      <th>29</th>\n",
       "      <td>Dog</td>\n",
       "      <td>24.00</td>\n",
       "      <td>Sterile</td>\n",
       "      <td>male</td>\n",
       "      <td>With_name</td>\n",
       "      <td>Black</td>\n",
       "      <td>Mixed</td>\n",
       "      <td>2014</td>\n",
       "      <td>5</td>\n",
       "    </tr>\n",
       "    <tr>\n",
       "      <th>...</th>\n",
       "      <td>...</td>\n",
       "      <td>...</td>\n",
       "      <td>...</td>\n",
       "      <td>...</td>\n",
       "      <td>...</td>\n",
       "      <td>...</td>\n",
       "      <td>...</td>\n",
       "      <td>...</td>\n",
       "      <td>...</td>\n",
       "    </tr>\n",
       "    <tr>\n",
       "      <th>11426</th>\n",
       "      <td>Dog</td>\n",
       "      <td>60.00</td>\n",
       "      <td>Sterile</td>\n",
       "      <td>male</td>\n",
       "      <td>With_name</td>\n",
       "      <td>Mixed</td>\n",
       "      <td>Mixed</td>\n",
       "      <td>2013</td>\n",
       "      <td>12</td>\n",
       "    </tr>\n",
       "    <tr>\n",
       "      <th>11427</th>\n",
       "      <td>Dog</td>\n",
       "      <td>2.00</td>\n",
       "      <td>Intact</td>\n",
       "      <td>female</td>\n",
       "      <td>With_name</td>\n",
       "      <td>Brown</td>\n",
       "      <td>Mixed</td>\n",
       "      <td>2013</td>\n",
       "      <td>12</td>\n",
       "    </tr>\n",
       "    <tr>\n",
       "      <th>11428</th>\n",
       "      <td>Dog</td>\n",
       "      <td>36.00</td>\n",
       "      <td>Sterile</td>\n",
       "      <td>male</td>\n",
       "      <td>With_name</td>\n",
       "      <td>Mixed</td>\n",
       "      <td>Pure</td>\n",
       "      <td>2013</td>\n",
       "      <td>11</td>\n",
       "    </tr>\n",
       "    <tr>\n",
       "      <th>11429</th>\n",
       "      <td>Dog</td>\n",
       "      <td>24.00</td>\n",
       "      <td>Sterile</td>\n",
       "      <td>female</td>\n",
       "      <td>With_name</td>\n",
       "      <td>Other</td>\n",
       "      <td>Mixed</td>\n",
       "      <td>2014</td>\n",
       "      <td>2</td>\n",
       "    </tr>\n",
       "    <tr>\n",
       "      <th>11430</th>\n",
       "      <td>Cat</td>\n",
       "      <td>2.00</td>\n",
       "      <td>Sterile</td>\n",
       "      <td>female</td>\n",
       "      <td>Without_name</td>\n",
       "      <td>Blue</td>\n",
       "      <td>Mixed</td>\n",
       "      <td>2014</td>\n",
       "      <td>12</td>\n",
       "    </tr>\n",
       "    <tr>\n",
       "      <th>11431</th>\n",
       "      <td>Cat</td>\n",
       "      <td>24.00</td>\n",
       "      <td>Intact</td>\n",
       "      <td>male</td>\n",
       "      <td>Without_name</td>\n",
       "      <td>Mixed</td>\n",
       "      <td>Mixed</td>\n",
       "      <td>2015</td>\n",
       "      <td>6</td>\n",
       "    </tr>\n",
       "    <tr>\n",
       "      <th>11432</th>\n",
       "      <td>Dog</td>\n",
       "      <td>60.00</td>\n",
       "      <td>Sterile</td>\n",
       "      <td>female</td>\n",
       "      <td>With_name</td>\n",
       "      <td>White</td>\n",
       "      <td>Pure</td>\n",
       "      <td>2014</td>\n",
       "      <td>3</td>\n",
       "    </tr>\n",
       "    <tr>\n",
       "      <th>11433</th>\n",
       "      <td>Cat</td>\n",
       "      <td>2.00</td>\n",
       "      <td>Intact</td>\n",
       "      <td>female</td>\n",
       "      <td>With_name</td>\n",
       "      <td>Mixed</td>\n",
       "      <td>Mixed</td>\n",
       "      <td>2015</td>\n",
       "      <td>8</td>\n",
       "    </tr>\n",
       "    <tr>\n",
       "      <th>11434</th>\n",
       "      <td>Dog</td>\n",
       "      <td>72.00</td>\n",
       "      <td>Sterile</td>\n",
       "      <td>female</td>\n",
       "      <td>With_name</td>\n",
       "      <td>Mixed</td>\n",
       "      <td>Pure</td>\n",
       "      <td>2015</td>\n",
       "      <td>9</td>\n",
       "    </tr>\n",
       "    <tr>\n",
       "      <th>11435</th>\n",
       "      <td>Cat</td>\n",
       "      <td>0.75</td>\n",
       "      <td>Intact</td>\n",
       "      <td>male</td>\n",
       "      <td>Without_name</td>\n",
       "      <td>Brown</td>\n",
       "      <td>Mixed</td>\n",
       "      <td>2015</td>\n",
       "      <td>8</td>\n",
       "    </tr>\n",
       "    <tr>\n",
       "      <th>11436</th>\n",
       "      <td>Cat</td>\n",
       "      <td>5.00</td>\n",
       "      <td>Sterile</td>\n",
       "      <td>male</td>\n",
       "      <td>Without_name</td>\n",
       "      <td>Mixed</td>\n",
       "      <td>Mixed</td>\n",
       "      <td>2014</td>\n",
       "      <td>3</td>\n",
       "    </tr>\n",
       "    <tr>\n",
       "      <th>11437</th>\n",
       "      <td>Dog</td>\n",
       "      <td>6.00</td>\n",
       "      <td>Intact</td>\n",
       "      <td>female</td>\n",
       "      <td>With_name</td>\n",
       "      <td>Mixed</td>\n",
       "      <td>Pure</td>\n",
       "      <td>2014</td>\n",
       "      <td>1</td>\n",
       "    </tr>\n",
       "    <tr>\n",
       "      <th>11438</th>\n",
       "      <td>Dog</td>\n",
       "      <td>1.00</td>\n",
       "      <td>Sterile</td>\n",
       "      <td>male</td>\n",
       "      <td>Without_name</td>\n",
       "      <td>Other</td>\n",
       "      <td>Mixed</td>\n",
       "      <td>2015</td>\n",
       "      <td>5</td>\n",
       "    </tr>\n",
       "    <tr>\n",
       "      <th>11439</th>\n",
       "      <td>Dog</td>\n",
       "      <td>24.00</td>\n",
       "      <td>Sterile</td>\n",
       "      <td>female</td>\n",
       "      <td>With_name</td>\n",
       "      <td>Mixed</td>\n",
       "      <td>Mixed</td>\n",
       "      <td>2014</td>\n",
       "      <td>5</td>\n",
       "    </tr>\n",
       "    <tr>\n",
       "      <th>11440</th>\n",
       "      <td>Cat</td>\n",
       "      <td>0.25</td>\n",
       "      <td>Unknown</td>\n",
       "      <td>unknown</td>\n",
       "      <td>Without_name</td>\n",
       "      <td>Brown</td>\n",
       "      <td>Mixed</td>\n",
       "      <td>2015</td>\n",
       "      <td>10</td>\n",
       "    </tr>\n",
       "    <tr>\n",
       "      <th>11441</th>\n",
       "      <td>Dog</td>\n",
       "      <td>48.00</td>\n",
       "      <td>Sterile</td>\n",
       "      <td>male</td>\n",
       "      <td>With_name</td>\n",
       "      <td>Mixed</td>\n",
       "      <td>Mixed</td>\n",
       "      <td>2015</td>\n",
       "      <td>1</td>\n",
       "    </tr>\n",
       "    <tr>\n",
       "      <th>11442</th>\n",
       "      <td>Dog</td>\n",
       "      <td>24.00</td>\n",
       "      <td>Sterile</td>\n",
       "      <td>male</td>\n",
       "      <td>With_name</td>\n",
       "      <td>Mixed</td>\n",
       "      <td>Mixed</td>\n",
       "      <td>2015</td>\n",
       "      <td>11</td>\n",
       "    </tr>\n",
       "    <tr>\n",
       "      <th>11443</th>\n",
       "      <td>Cat</td>\n",
       "      <td>6.00</td>\n",
       "      <td>Sterile</td>\n",
       "      <td>female</td>\n",
       "      <td>With_name</td>\n",
       "      <td>Torbie</td>\n",
       "      <td>Mixed</td>\n",
       "      <td>2014</td>\n",
       "      <td>10</td>\n",
       "    </tr>\n",
       "    <tr>\n",
       "      <th>11444</th>\n",
       "      <td>Cat</td>\n",
       "      <td>24.00</td>\n",
       "      <td>Intact</td>\n",
       "      <td>female</td>\n",
       "      <td>Without_name</td>\n",
       "      <td>Calico</td>\n",
       "      <td>Mixed</td>\n",
       "      <td>2014</td>\n",
       "      <td>6</td>\n",
       "    </tr>\n",
       "    <tr>\n",
       "      <th>11445</th>\n",
       "      <td>Cat</td>\n",
       "      <td>0.50</td>\n",
       "      <td>Intact</td>\n",
       "      <td>male</td>\n",
       "      <td>Without_name</td>\n",
       "      <td>White</td>\n",
       "      <td>Mixed</td>\n",
       "      <td>2015</td>\n",
       "      <td>4</td>\n",
       "    </tr>\n",
       "    <tr>\n",
       "      <th>11446</th>\n",
       "      <td>Cat</td>\n",
       "      <td>2.00</td>\n",
       "      <td>Sterile</td>\n",
       "      <td>male</td>\n",
       "      <td>Without_name</td>\n",
       "      <td>Black</td>\n",
       "      <td>Mixed</td>\n",
       "      <td>2015</td>\n",
       "      <td>7</td>\n",
       "    </tr>\n",
       "    <tr>\n",
       "      <th>11447</th>\n",
       "      <td>Dog</td>\n",
       "      <td>12.00</td>\n",
       "      <td>Sterile</td>\n",
       "      <td>female</td>\n",
       "      <td>With_name</td>\n",
       "      <td>Mixed</td>\n",
       "      <td>Mixed</td>\n",
       "      <td>2014</td>\n",
       "      <td>10</td>\n",
       "    </tr>\n",
       "    <tr>\n",
       "      <th>11448</th>\n",
       "      <td>Dog</td>\n",
       "      <td>2.00</td>\n",
       "      <td>Sterile</td>\n",
       "      <td>female</td>\n",
       "      <td>Without_name</td>\n",
       "      <td>Brown</td>\n",
       "      <td>Mixed</td>\n",
       "      <td>2014</td>\n",
       "      <td>8</td>\n",
       "    </tr>\n",
       "    <tr>\n",
       "      <th>11449</th>\n",
       "      <td>Dog</td>\n",
       "      <td>6.00</td>\n",
       "      <td>Sterile</td>\n",
       "      <td>female</td>\n",
       "      <td>With_name</td>\n",
       "      <td>Mixed</td>\n",
       "      <td>Mixed</td>\n",
       "      <td>2015</td>\n",
       "      <td>7</td>\n",
       "    </tr>\n",
       "    <tr>\n",
       "      <th>11450</th>\n",
       "      <td>Dog</td>\n",
       "      <td>10.00</td>\n",
       "      <td>Sterile</td>\n",
       "      <td>male</td>\n",
       "      <td>With_name</td>\n",
       "      <td>Mixed</td>\n",
       "      <td>Mixed</td>\n",
       "      <td>2015</td>\n",
       "      <td>11</td>\n",
       "    </tr>\n",
       "    <tr>\n",
       "      <th>11451</th>\n",
       "      <td>Cat</td>\n",
       "      <td>2.00</td>\n",
       "      <td>Sterile</td>\n",
       "      <td>male</td>\n",
       "      <td>Without_name</td>\n",
       "      <td>Black</td>\n",
       "      <td>Mixed</td>\n",
       "      <td>2014</td>\n",
       "      <td>7</td>\n",
       "    </tr>\n",
       "    <tr>\n",
       "      <th>11452</th>\n",
       "      <td>Cat</td>\n",
       "      <td>0.50</td>\n",
       "      <td>Intact</td>\n",
       "      <td>female</td>\n",
       "      <td>Without_name</td>\n",
       "      <td>Blue</td>\n",
       "      <td>Mixed</td>\n",
       "      <td>2014</td>\n",
       "      <td>10</td>\n",
       "    </tr>\n",
       "    <tr>\n",
       "      <th>11453</th>\n",
       "      <td>Cat</td>\n",
       "      <td>12.00</td>\n",
       "      <td>Intact</td>\n",
       "      <td>female</td>\n",
       "      <td>Without_name</td>\n",
       "      <td>Calico</td>\n",
       "      <td>Mixed</td>\n",
       "      <td>2014</td>\n",
       "      <td>9</td>\n",
       "    </tr>\n",
       "    <tr>\n",
       "      <th>11454</th>\n",
       "      <td>Dog</td>\n",
       "      <td>72.00</td>\n",
       "      <td>Sterile</td>\n",
       "      <td>male</td>\n",
       "      <td>With_name</td>\n",
       "      <td>Mixed</td>\n",
       "      <td>Mixed</td>\n",
       "      <td>2015</td>\n",
       "      <td>9</td>\n",
       "    </tr>\n",
       "    <tr>\n",
       "      <th>11455</th>\n",
       "      <td>Dog</td>\n",
       "      <td>48.00</td>\n",
       "      <td>Intact</td>\n",
       "      <td>male</td>\n",
       "      <td>With_name</td>\n",
       "      <td>Cream</td>\n",
       "      <td>Pure</td>\n",
       "      <td>2014</td>\n",
       "      <td>7</td>\n",
       "    </tr>\n",
       "  </tbody>\n",
       "</table>\n",
       "<p>11456 rows × 9 columns</p>\n",
       "</div>"
      ],
      "text/plain": [
       "      AnimalType  Age_Months Sterile_Ind      Sex         Named   color  \\\n",
       "0            Dog       10.00      Intact   female     With_name   Mixed   \n",
       "1            Dog       24.00     Sterile   female     With_name   Mixed   \n",
       "2            Cat       12.00     Sterile     male     With_name   Brown   \n",
       "3            Dog        4.00      Intact     male     With_name   Mixed   \n",
       "4            Dog       24.00     Sterile     male     With_name   White   \n",
       "5            Dog       36.00     Sterile     male     With_name   Mixed   \n",
       "6            Cat      156.00     Sterile     male     With_name   Mixed   \n",
       "7            Cat        6.00     Sterile   female     With_name   Brown   \n",
       "8            Dog        3.00     Sterile   female     With_name   Mixed   \n",
       "9            Dog       12.00     Sterile   female     With_name   Mixed   \n",
       "10           Dog        5.00     Sterile   female     With_name   Mixed   \n",
       "11           Dog       24.00      Intact   female     With_name   Mixed   \n",
       "12           Dog        6.00     Sterile   female     With_name   Brown   \n",
       "13           Dog       24.00     Sterile     male  Without_name   White   \n",
       "14           Dog       12.00     Sterile     male     With_name   Mixed   \n",
       "15           Dog        4.00     Sterile   female     With_name   White   \n",
       "16           Dog       60.00     Sterile     male     With_name   Mixed   \n",
       "17           Dog       36.00     Sterile     male     With_name   Mixed   \n",
       "18           Cat       36.00     Sterile   female     With_name  Torbie   \n",
       "19           Cat       48.00      Intact   female  Without_name  Torbie   \n",
       "20           Cat       24.00     Sterile   female     With_name   Black   \n",
       "21           Cat        0.75     Unknown  unknown  Without_name   Black   \n",
       "22           Dog       12.00     Sterile     male     With_name   Mixed   \n",
       "23           Cat        0.25      Intact   female  Without_name  Tortie   \n",
       "24           Dog       12.00     Sterile   female     With_name     Tan   \n",
       "25           Cat       12.00     Sterile     male  Without_name   Brown   \n",
       "26           Cat        2.00     Sterile   female     With_name   Black   \n",
       "27           Dog        2.00      Intact     male  Without_name   Brown   \n",
       "28           Dog       36.00     Sterile     male     With_name   Mixed   \n",
       "29           Dog       24.00     Sterile     male     With_name   Black   \n",
       "...          ...         ...         ...      ...           ...     ...   \n",
       "11426        Dog       60.00     Sterile     male     With_name   Mixed   \n",
       "11427        Dog        2.00      Intact   female     With_name   Brown   \n",
       "11428        Dog       36.00     Sterile     male     With_name   Mixed   \n",
       "11429        Dog       24.00     Sterile   female     With_name   Other   \n",
       "11430        Cat        2.00     Sterile   female  Without_name    Blue   \n",
       "11431        Cat       24.00      Intact     male  Without_name   Mixed   \n",
       "11432        Dog       60.00     Sterile   female     With_name   White   \n",
       "11433        Cat        2.00      Intact   female     With_name   Mixed   \n",
       "11434        Dog       72.00     Sterile   female     With_name   Mixed   \n",
       "11435        Cat        0.75      Intact     male  Without_name   Brown   \n",
       "11436        Cat        5.00     Sterile     male  Without_name   Mixed   \n",
       "11437        Dog        6.00      Intact   female     With_name   Mixed   \n",
       "11438        Dog        1.00     Sterile     male  Without_name   Other   \n",
       "11439        Dog       24.00     Sterile   female     With_name   Mixed   \n",
       "11440        Cat        0.25     Unknown  unknown  Without_name   Brown   \n",
       "11441        Dog       48.00     Sterile     male     With_name   Mixed   \n",
       "11442        Dog       24.00     Sterile     male     With_name   Mixed   \n",
       "11443        Cat        6.00     Sterile   female     With_name  Torbie   \n",
       "11444        Cat       24.00      Intact   female  Without_name  Calico   \n",
       "11445        Cat        0.50      Intact     male  Without_name   White   \n",
       "11446        Cat        2.00     Sterile     male  Without_name   Black   \n",
       "11447        Dog       12.00     Sterile   female     With_name   Mixed   \n",
       "11448        Dog        2.00     Sterile   female  Without_name   Brown   \n",
       "11449        Dog        6.00     Sterile   female     With_name   Mixed   \n",
       "11450        Dog       10.00     Sterile     male     With_name   Mixed   \n",
       "11451        Cat        2.00     Sterile     male  Without_name   Black   \n",
       "11452        Cat        0.50      Intact   female  Without_name    Blue   \n",
       "11453        Cat       12.00      Intact   female  Without_name  Calico   \n",
       "11454        Dog       72.00     Sterile     male     With_name   Mixed   \n",
       "11455        Dog       48.00      Intact     male     With_name   Cream   \n",
       "\n",
       "       breed  Year  Month  \n",
       "0      Mixed  2015     10  \n",
       "1       Pure  2014      7  \n",
       "2      Mixed  2016      1  \n",
       "3      Mixed  2013     12  \n",
       "4      Mixed  2015      9  \n",
       "5      Mixed  2015      6  \n",
       "6      Mixed  2014      3  \n",
       "7      Mixed  2014      6  \n",
       "8       Pure  2014     11  \n",
       "9      Mixed  2014      4  \n",
       "10     Mixed  2014      1  \n",
       "11     Mixed  2014      9  \n",
       "12     Mixed  2015      1  \n",
       "13     Mixed  2015      9  \n",
       "14      Pure  2014      7  \n",
       "15      Pure  2014      3  \n",
       "16     Mixed  2015      5  \n",
       "17      Pure  2016      1  \n",
       "18     Mixed  2014      6  \n",
       "19     Mixed  2014      2  \n",
       "20     Mixed  2014     11  \n",
       "21     Mixed  2015      5  \n",
       "22     Mixed  2014      6  \n",
       "23     Mixed  2014      7  \n",
       "24      Pure  2013     10  \n",
       "25     Mixed  2014     12  \n",
       "26     Mixed  2015      7  \n",
       "27     Mixed  2015      3  \n",
       "28     Mixed  2014     10  \n",
       "29     Mixed  2014      5  \n",
       "...      ...   ...    ...  \n",
       "11426  Mixed  2013     12  \n",
       "11427  Mixed  2013     12  \n",
       "11428   Pure  2013     11  \n",
       "11429  Mixed  2014      2  \n",
       "11430  Mixed  2014     12  \n",
       "11431  Mixed  2015      6  \n",
       "11432   Pure  2014      3  \n",
       "11433  Mixed  2015      8  \n",
       "11434   Pure  2015      9  \n",
       "11435  Mixed  2015      8  \n",
       "11436  Mixed  2014      3  \n",
       "11437   Pure  2014      1  \n",
       "11438  Mixed  2015      5  \n",
       "11439  Mixed  2014      5  \n",
       "11440  Mixed  2015     10  \n",
       "11441  Mixed  2015      1  \n",
       "11442  Mixed  2015     11  \n",
       "11443  Mixed  2014     10  \n",
       "11444  Mixed  2014      6  \n",
       "11445  Mixed  2015      4  \n",
       "11446  Mixed  2015      7  \n",
       "11447  Mixed  2014     10  \n",
       "11448  Mixed  2014      8  \n",
       "11449  Mixed  2015      7  \n",
       "11450  Mixed  2015     11  \n",
       "11451  Mixed  2014      7  \n",
       "11452  Mixed  2014     10  \n",
       "11453  Mixed  2014      9  \n",
       "11454  Mixed  2015      9  \n",
       "11455   Pure  2014      7  \n",
       "\n",
       "[11456 rows x 9 columns]"
      ]
     },
     "execution_count": 202,
     "metadata": {},
     "output_type": "execute_result"
    }
   ],
   "source": [
    "del data_test['Name']\n",
    "del data_test['DateTime']\n",
    "del data_test['SexuponOutcome']\n",
    "del data_test['AgeuponOutcome']\n",
    "del data_test['Breed']\n",
    "del data_test['Color']\n",
    "data_test"
   ]
  },
  {
   "cell_type": "markdown",
   "metadata": {},
   "source": [
    "Se transforman a categóricas las siguientes variables:"
   ]
  },
  {
   "cell_type": "code",
   "execution_count": 203,
   "metadata": {},
   "outputs": [
    {
     "data": {
      "text/html": [
       "<div>\n",
       "<style>\n",
       "    .dataframe thead tr:only-child th {\n",
       "        text-align: right;\n",
       "    }\n",
       "\n",
       "    .dataframe thead th {\n",
       "        text-align: left;\n",
       "    }\n",
       "\n",
       "    .dataframe tbody tr th {\n",
       "        vertical-align: top;\n",
       "    }\n",
       "</style>\n",
       "<table border=\"1\" class=\"dataframe\">\n",
       "  <thead>\n",
       "    <tr style=\"text-align: right;\">\n",
       "      <th></th>\n",
       "      <th>OutcomeType</th>\n",
       "      <th>AnimalType</th>\n",
       "      <th>Age_Months</th>\n",
       "      <th>Sterile_Ind</th>\n",
       "      <th>Sex</th>\n",
       "      <th>Named</th>\n",
       "      <th>color</th>\n",
       "      <th>breed</th>\n",
       "      <th>Year</th>\n",
       "      <th>Month</th>\n",
       "    </tr>\n",
       "  </thead>\n",
       "  <tbody>\n",
       "    <tr>\n",
       "      <th>5000</th>\n",
       "      <td>0</td>\n",
       "      <td>0</td>\n",
       "      <td>2.00</td>\n",
       "      <td>0</td>\n",
       "      <td>0</td>\n",
       "      <td>0</td>\n",
       "      <td>0</td>\n",
       "      <td>0</td>\n",
       "      <td>0</td>\n",
       "      <td>0</td>\n",
       "    </tr>\n",
       "    <tr>\n",
       "      <th>2404</th>\n",
       "      <td>1</td>\n",
       "      <td>1</td>\n",
       "      <td>0.25</td>\n",
       "      <td>1</td>\n",
       "      <td>1</td>\n",
       "      <td>1</td>\n",
       "      <td>1</td>\n",
       "      <td>0</td>\n",
       "      <td>0</td>\n",
       "      <td>0</td>\n",
       "    </tr>\n",
       "    <tr>\n",
       "      <th>21130</th>\n",
       "      <td>1</td>\n",
       "      <td>1</td>\n",
       "      <td>0.25</td>\n",
       "      <td>1</td>\n",
       "      <td>1</td>\n",
       "      <td>1</td>\n",
       "      <td>1</td>\n",
       "      <td>0</td>\n",
       "      <td>0</td>\n",
       "      <td>0</td>\n",
       "    </tr>\n",
       "    <tr>\n",
       "      <th>8965</th>\n",
       "      <td>2</td>\n",
       "      <td>0</td>\n",
       "      <td>48.00</td>\n",
       "      <td>0</td>\n",
       "      <td>0</td>\n",
       "      <td>0</td>\n",
       "      <td>2</td>\n",
       "      <td>0</td>\n",
       "      <td>0</td>\n",
       "      <td>0</td>\n",
       "    </tr>\n",
       "    <tr>\n",
       "      <th>4092</th>\n",
       "      <td>1</td>\n",
       "      <td>0</td>\n",
       "      <td>36.00</td>\n",
       "      <td>0</td>\n",
       "      <td>0</td>\n",
       "      <td>1</td>\n",
       "      <td>2</td>\n",
       "      <td>0</td>\n",
       "      <td>0</td>\n",
       "      <td>0</td>\n",
       "    </tr>\n",
       "  </tbody>\n",
       "</table>\n",
       "</div>"
      ],
      "text/plain": [
       "       OutcomeType  AnimalType  Age_Months  Sterile_Ind  Sex  Named  color  \\\n",
       "5000             0           0        2.00            0    0      0      0   \n",
       "2404             1           1        0.25            1    1      1      1   \n",
       "21130            1           1        0.25            1    1      1      1   \n",
       "8965             2           0       48.00            0    0      0      2   \n",
       "4092             1           0       36.00            0    0      1      2   \n",
       "\n",
       "       breed  Year  Month  \n",
       "5000       0     0      0  \n",
       "2404       0     0      0  \n",
       "21130      0     0      0  \n",
       "8965       0     0      0  \n",
       "4092       0     0      0  "
      ]
     },
     "execution_count": 203,
     "metadata": {},
     "output_type": "execute_result"
    }
   ],
   "source": [
    "data_train['OutcomeType'] = pd.factorize(data_train.OutcomeType)[0]\n",
    "data_train['AnimalType'] = pd.factorize(data_train.AnimalType)[0]\n",
    "data_train['Sterile_Ind'] = pd.factorize(data_train.Sterile_Ind)[0]\n",
    "data_train['Sex'] = pd.factorize(data_train.Sex)[0]\n",
    "data_train['Named'] = pd.factorize(data_train.Named)[0]\n",
    "data_train['color'] = pd.factorize(data_train.color)[0]\n",
    "data_train['breed'] = pd.factorize(data_train.breed)[0]\n",
    "data_train['Year'] = pd.factorize(data_train.Year)[0]\n",
    "data_train['Month'] = pd.factorize(data_train.Month)[0]\n",
    "\n",
    "data_train.head()"
   ]
  },
  {
   "cell_type": "markdown",
   "metadata": {},
   "source": [
    "Se transforman a categóricas las siguientes variables:"
   ]
  },
  {
   "cell_type": "markdown",
   "metadata": {},
   "source": [
    "## PARTICIÓN DE LOS DATOS EN TRAIN Y TEST\n",
    "\n",
    "Para poder realizar la validación de los modelos se particiona la muestra de train en: una nueva muestra de train y test(de validación). \n",
    "Esto dado que en la muestra de test no tenemos la variable respuesta para probar el desempeño de los modelos."
   ]
  },
  {
   "cell_type": "code",
   "execution_count": 204,
   "metadata": {},
   "outputs": [
    {
     "name": "stdout",
     "output_type": "stream",
     "text": [
      "(26729, 9)\n",
      "(26729,)\n",
      "(6683, 9)\n",
      "(6683,)\n"
     ]
    }
   ],
   "source": [
    "#definición de X y Y\n",
    "feature_cols = ['AnimalType','Age_Months','Sterile_Ind','Sex','Named','color','breed','Year','Month']\n",
    "X = data_train[feature_cols]\n",
    "y= data_train.OutcomeType\n",
    "\n",
    "#Partición de una muestra de validación del train para poder probar los modelos\n",
    "X_train, X_test, y_train, y_test = train_test_split(X, y, random_state=1)\n",
    "\n",
    "print(X.shape)\n",
    "print(y.shape)\n",
    "print(X_test.shape)\n",
    "print(y_test.shape)"
   ]
  },
  {
   "cell_type": "markdown",
   "metadata": {},
   "source": [
    "Las clases quedan clasificadas así:\n",
    "0 - Adopción\n",
    "1 - Transfer\n",
    "2 - Return_to_owner\n",
    "3 - Euthanasia\n",
    "4 - Died"
   ]
  },
  {
   "cell_type": "code",
   "execution_count": 205,
   "metadata": {
    "scrolled": true
   },
   "outputs": [
    {
     "data": {
      "text/plain": [
       "0    2750\n",
       "1    2305\n",
       "2    1197\n",
       "3     387\n",
       "4      44\n",
       "Name: OutcomeType, dtype: int64"
      ]
     },
     "execution_count": 205,
     "metadata": {},
     "output_type": "execute_result"
    }
   ],
   "source": [
    "y_test.value_counts()"
   ]
  },
  {
   "cell_type": "markdown",
   "metadata": {},
   "source": [
    "## BALANCEO DE LAS CLASES\n",
    "\n",
    "Procedemos a idenfiticar el posible desbalanceo de clases"
   ]
  },
  {
   "cell_type": "markdown",
   "metadata": {},
   "source": [
    "# NOTA: Se debe instalar desde anaconda prompt pip install imblearn"
   ]
  },
  {
   "cell_type": "code",
   "execution_count": 206,
   "metadata": {
    "scrolled": true
   },
   "outputs": [
    {
     "data": {
      "text/plain": [
       "0    8019\n",
       "1    7117\n",
       "2    3589\n",
       "3    1168\n",
       "4     153\n",
       "Name: OutcomeType, dtype: int64"
      ]
     },
     "execution_count": 206,
     "metadata": {},
     "output_type": "execute_result"
    }
   ],
   "source": [
    "y_train.value_counts()"
   ]
  },
  {
   "cell_type": "markdown",
   "metadata": {},
   "source": [
    "Se evidencia que existe un deslbalanceo de clases especialmente notorio para la clase 4, por lo cual decidimos optar por realizar Oversampling"
   ]
  },
  {
   "cell_type": "code",
   "execution_count": 207,
   "metadata": {
    "collapsed": true
   },
   "outputs": [],
   "source": [
    "from imblearn.over_sampling import RandomOverSampler"
   ]
  },
  {
   "cell_type": "code",
   "execution_count": 208,
   "metadata": {
    "collapsed": true
   },
   "outputs": [],
   "source": [
    "ros = RandomOverSampler(random_state=0)\n",
    "X_train_o, y_train_o = ros.fit_sample(X_train, y_train)"
   ]
  },
  {
   "cell_type": "markdown",
   "metadata": {},
   "source": [
    "Ahora los datos balanceados son X_train_o , y_train_o"
   ]
  },
  {
   "cell_type": "code",
   "execution_count": 209,
   "metadata": {
    "scrolled": true
   },
   "outputs": [
    {
     "name": "stdout",
     "output_type": "stream",
     "text": [
      "New Rows Class 0  8019\n",
      "New Rows Class 1  8019\n",
      "New Rows Class 2  8019\n",
      "New Rows Class 3  8019\n",
      "New Rows Class 4  8019\n"
     ]
    }
   ],
   "source": [
    "print('New Rows Class 0 ',(y_train_o==0).sum())\n",
    "print('New Rows Class 1 ',(y_train_o==1).sum())\n",
    "print('New Rows Class 2 ',(y_train_o==2).sum())\n",
    "print('New Rows Class 3 ',(y_train_o==3).sum())\n",
    "print('New Rows Class 4 ',(y_train_o==4).sum())"
   ]
  },
  {
   "cell_type": "markdown",
   "metadata": {},
   "source": [
    "## 1.RANDOM FOREST\n",
    "\n",
    "Calibraremos el modelo encontrando el número de árboles (n-estimators) y tomando el parámetro m como la raíz del total de variables predictoras. Tenemos nueve, por lo que usaremos m = 3.\n"
   ]
  },
  {
   "cell_type": "markdown",
   "metadata": {},
   "source": [
    "## Random Forest con datos sin balancear\n",
    "\n",
    "### Tuning n_estimators"
   ]
  },
  {
   "cell_type": "code",
   "execution_count": 68,
   "metadata": {
    "scrolled": true
   },
   "outputs": [
    {
     "data": {
      "text/plain": [
       "RandomForestClassifier(bootstrap=True, class_weight=None, criterion='gini',\n",
       "            max_depth=None, max_features='auto', max_leaf_nodes=None,\n",
       "            min_impurity_decrease=0.0, min_impurity_split=None,\n",
       "            min_samples_leaf=1, min_samples_split=2,\n",
       "            min_weight_fraction_leaf=0.0, n_estimators=10, n_jobs=1,\n",
       "            oob_score=False, random_state=None, verbose=0,\n",
       "            warm_start=False)"
      ]
     },
     "execution_count": 68,
     "metadata": {},
     "output_type": "execute_result"
    }
   ],
   "source": [
    "from sklearn.ensemble import RandomForestClassifier\n",
    "from sklearn.model_selection import cross_val_score\n",
    "r_forest = RandomForestClassifier()\n",
    "r_forest"
   ]
  },
  {
   "cell_type": "code",
   "execution_count": 69,
   "metadata": {
    "collapsed": true
   },
   "outputs": [],
   "source": [
    "from sklearn.metrics import accuracy_score\n",
    "\n",
    "# list of values to try for n_estimators\n",
    "estimator_range = range(10, 100, 10)\n",
    "\n",
    "#list to store the accuracy for each value of n_estimators\n",
    "acc_scores = []\n",
    "\n",
    "for estimator in estimator_range:\n",
    "    rfreg = RandomForestClassifier(n_estimators=estimator, random_state=1, n_jobs=-1, max_features=3)\n",
    "    rfreg.fit(X_train, y_train)\n",
    "    acc_scores.append(accuracy_score(y_test, rfreg.predict(X_test)))\n"
   ]
  },
  {
   "cell_type": "markdown",
   "metadata": {},
   "source": [
    "Los valores de accuracy obtenidos son"
   ]
  },
  {
   "cell_type": "code",
   "execution_count": 70,
   "metadata": {},
   "outputs": [
    {
     "data": {
      "text/plain": [
       "[0.59718689211431997,\n",
       " 0.59658835852162206,\n",
       " 0.59988029328146042,\n",
       " 0.599730659883286,\n",
       " 0.60002992667963484,\n",
       " 0.6021247942540775,\n",
       " 0.60466856202304353,\n",
       " 0.60347149483764773,\n",
       " 0.60182552745772855]"
      ]
     },
     "execution_count": 70,
     "metadata": {},
     "output_type": "execute_result"
    }
   ],
   "source": [
    "acc_scores"
   ]
  },
  {
   "cell_type": "code",
   "execution_count": 71,
   "metadata": {},
   "outputs": [
    {
     "data": {
      "text/plain": [
       "Text(0,0.5,'Accuracy (bigger is better)')"
      ]
     },
     "execution_count": 71,
     "metadata": {},
     "output_type": "execute_result"
    },
    {
     "data": {
      "image/png": "[encoded data removed]",
      "text/plain": [
       "<matplotlib.figure.Figure at 0x2268e8dbfd0>"
      ]
     },
     "metadata": {},
     "output_type": "display_data"
    }
   ],
   "source": [
    "# plot n_estimators (x-axis) versus accuracy (y-axis)\n",
    "plt.plot(estimator_range, acc_scores)\n",
    "plt.xlabel('n_estimators')\n",
    "plt.ylabel('Accuracy (bigger is better)')"
   ]
  },
  {
   "cell_type": "markdown",
   "metadata": {},
   "source": [
    "El número de árboles que maximiza el accuracy es 70"
   ]
  },
  {
   "cell_type": "code",
   "execution_count": 72,
   "metadata": {},
   "outputs": [
    {
     "data": {
      "text/plain": [
       "RandomForestClassifier(bootstrap=True, class_weight=None, criterion='gini',\n",
       "            max_depth=None, max_features='auto', max_leaf_nodes=None,\n",
       "            min_impurity_decrease=0.0, min_impurity_split=None,\n",
       "            min_samples_leaf=1, min_samples_split=2,\n",
       "            min_weight_fraction_leaf=0.0, n_estimators=70, n_jobs=1,\n",
       "            oob_score=False, random_state=None, verbose=0,\n",
       "            warm_start=False)"
      ]
     },
     "execution_count": 72,
     "metadata": {},
     "output_type": "execute_result"
    }
   ],
   "source": [
    "r_forest = RandomForestClassifier(n_estimators=70)\n",
    "r_forest.fit(X_train, y_train)"
   ]
  },
  {
   "cell_type": "markdown",
   "metadata": {},
   "source": [
    "Se observa que las variables que más impactan en la salida de las mascotas son la edad, si son estériles o no y el color."
   ]
  },
  {
   "cell_type": "code",
   "execution_count": 73,
   "metadata": {
    "scrolled": true
   },
   "outputs": [
    {
     "data": {
      "text/html": [
       "<div>\n",
       "<style>\n",
       "    .dataframe thead tr:only-child th {\n",
       "        text-align: right;\n",
       "    }\n",
       "\n",
       "    .dataframe thead th {\n",
       "        text-align: left;\n",
       "    }\n",
       "\n",
       "    .dataframe tbody tr th {\n",
       "        vertical-align: top;\n",
       "    }\n",
       "</style>\n",
       "<table border=\"1\" class=\"dataframe\">\n",
       "  <thead>\n",
       "    <tr style=\"text-align: right;\">\n",
       "      <th></th>\n",
       "      <th>feature</th>\n",
       "      <th>importance</th>\n",
       "    </tr>\n",
       "  </thead>\n",
       "  <tbody>\n",
       "    <tr>\n",
       "      <th>6</th>\n",
       "      <td>breed</td>\n",
       "      <td>0.021367</td>\n",
       "    </tr>\n",
       "    <tr>\n",
       "      <th>3</th>\n",
       "      <td>Sex</td>\n",
       "      <td>0.027917</td>\n",
       "    </tr>\n",
       "    <tr>\n",
       "      <th>0</th>\n",
       "      <td>AnimalType</td>\n",
       "      <td>0.034437</td>\n",
       "    </tr>\n",
       "    <tr>\n",
       "      <th>4</th>\n",
       "      <td>Named</td>\n",
       "      <td>0.056245</td>\n",
       "    </tr>\n",
       "    <tr>\n",
       "      <th>7</th>\n",
       "      <td>Year</td>\n",
       "      <td>0.060266</td>\n",
       "    </tr>\n",
       "    <tr>\n",
       "      <th>5</th>\n",
       "      <td>color</td>\n",
       "      <td>0.135943</td>\n",
       "    </tr>\n",
       "    <tr>\n",
       "      <th>2</th>\n",
       "      <td>Sterile_Ind</td>\n",
       "      <td>0.174748</td>\n",
       "    </tr>\n",
       "    <tr>\n",
       "      <th>8</th>\n",
       "      <td>Month</td>\n",
       "      <td>0.185087</td>\n",
       "    </tr>\n",
       "    <tr>\n",
       "      <th>1</th>\n",
       "      <td>Age_Months</td>\n",
       "      <td>0.303991</td>\n",
       "    </tr>\n",
       "  </tbody>\n",
       "</table>\n",
       "</div>"
      ],
      "text/plain": [
       "       feature  importance\n",
       "6        breed    0.021367\n",
       "3          Sex    0.027917\n",
       "0   AnimalType    0.034437\n",
       "4        Named    0.056245\n",
       "7         Year    0.060266\n",
       "5        color    0.135943\n",
       "2  Sterile_Ind    0.174748\n",
       "8        Month    0.185087\n",
       "1   Age_Months    0.303991"
      ]
     },
     "execution_count": 73,
     "metadata": {},
     "output_type": "execute_result"
    }
   ],
   "source": [
    "feature_cols = X_train.columns\n",
    "pd.DataFrame({'feature':feature_cols, 'importance':r_forest.feature_importances_}).sort_values('importance')\n"
   ]
  },
  {
   "cell_type": "markdown",
   "metadata": {},
   "source": [
    "Se realiza la predicción:"
   ]
  },
  {
   "cell_type": "code",
   "execution_count": 74,
   "metadata": {
    "collapsed": true,
    "scrolled": true
   },
   "outputs": [],
   "source": [
    "y_pred_rf=r_forest.predict(X_test)\n"
   ]
  },
  {
   "cell_type": "markdown",
   "metadata": {},
   "source": [
    "La matriz de confusión obtenida y el reporte de clasificación es:"
   ]
  },
  {
   "cell_type": "code",
   "execution_count": 75,
   "metadata": {},
   "outputs": [
    {
     "name": "stdout",
     "output_type": "stream",
     "text": [
      " \n",
      " Test - Confusion matrix : \n",
      "  [[2037  323  365   21    4]\n",
      " [ 544 1437  222   93    9]\n",
      " [ 492  198  473   34    0]\n",
      " [  48  187   83   67    2]\n",
      " [   4   31    4    2    3]]\n",
      " \n",
      " Test - classification report : \n",
      "               precision    recall  f1-score   support\n",
      "\n",
      "          0       0.65      0.74      0.69      2750\n",
      "          1       0.66      0.62      0.64      2305\n",
      "          2       0.41      0.40      0.40      1197\n",
      "          3       0.31      0.17      0.22       387\n",
      "          4       0.17      0.07      0.10        44\n",
      "\n",
      "avg / total       0.59      0.60      0.59      6683\n",
      "\n"
     ]
    }
   ],
   "source": [
    "print (\" \\n Test - Confusion matrix : \\n \", metrics.confusion_matrix(y_test, y_pred_rf))\n",
    "print (\" \\n Test - classification report : \\n \", metrics.classification_report(y_test, y_pred_rf))"
   ]
  },
  {
   "cell_type": "markdown",
   "metadata": {},
   "source": [
    "Hay una mayor precisión en la clasificación de la clase transferencia con relación a las demás."
   ]
  },
  {
   "cell_type": "code",
   "execution_count": 77,
   "metadata": {},
   "outputs": [
    {
     "data": {
      "text/plain": [
       "0    2750\n",
       "1    2305\n",
       "2    1197\n",
       "3     387\n",
       "4      44\n",
       "Name: OutcomeType, dtype: int64"
      ]
     },
     "execution_count": 77,
     "metadata": {},
     "output_type": "execute_result"
    }
   ],
   "source": [
    "y_test.value_counts()"
   ]
  },
  {
   "cell_type": "markdown",
   "metadata": {},
   "source": [
    "## Random Forest con datos balanceados\n",
    "\n",
    "### Tuning n_estimators"
   ]
  },
  {
   "cell_type": "code",
   "execution_count": 78,
   "metadata": {
    "scrolled": true
   },
   "outputs": [
    {
     "data": {
      "text/plain": [
       "RandomForestClassifier(bootstrap=True, class_weight=None, criterion='gini',\n",
       "            max_depth=None, max_features='auto', max_leaf_nodes=None,\n",
       "            min_impurity_decrease=0.0, min_impurity_split=None,\n",
       "            min_samples_leaf=1, min_samples_split=2,\n",
       "            min_weight_fraction_leaf=0.0, n_estimators=10, n_jobs=1,\n",
       "            oob_score=False, random_state=None, verbose=0,\n",
       "            warm_start=False)"
      ]
     },
     "execution_count": 78,
     "metadata": {},
     "output_type": "execute_result"
    }
   ],
   "source": [
    "from sklearn.ensemble import RandomForestClassifier\n",
    "from sklearn.model_selection import cross_val_score\n",
    "r_forest_b = RandomForestClassifier()\n",
    "r_forest_b"
   ]
  },
  {
   "cell_type": "code",
   "execution_count": 79,
   "metadata": {
    "collapsed": true
   },
   "outputs": [],
   "source": [
    "# list of values to try for n_estimators\n",
    "estimator_range = range(10, 100, 10)\n",
    "\n",
    "# list to store the accuracy for each value of n_estimators\n",
    "acc_scores_b = []\n",
    "\n",
    "for estimator in estimator_range:\n",
    "    rfreg = RandomForestClassifier(n_estimators=estimator, random_state=1, n_jobs=-1, max_features=3)\n",
    "    rfreg.fit(X_train_o, y_train_o)\n",
    "    acc_scores_b.append(accuracy_score(y_test, rfreg.predict(X_test)))\n"
   ]
  },
  {
   "cell_type": "code",
   "execution_count": 80,
   "metadata": {},
   "outputs": [
    {
     "data": {
      "text/plain": [
       "[0.55768367499625915,\n",
       " 0.56262157713601679,\n",
       " 0.56172377674696994,\n",
       " 0.56172377674696994,\n",
       " 0.56307047733054016,\n",
       " 0.56606314529402968,\n",
       " 0.56546461170133178,\n",
       " 0.56666167888672747,\n",
       " 0.56471644471045934]"
      ]
     },
     "execution_count": 80,
     "metadata": {},
     "output_type": "execute_result"
    }
   ],
   "source": [
    "acc_scores_b"
   ]
  },
  {
   "cell_type": "code",
   "execution_count": 81,
   "metadata": {},
   "outputs": [
    {
     "data": {
      "text/plain": [
       "Text(0,0.5,'Accuracy (bigger is better)')"
      ]
     },
     "execution_count": 81,
     "metadata": {},
     "output_type": "execute_result"
    },
    {
     "data": {
      "image/png": "[encoded data removed]",
      "text/plain": [
       "<matplotlib.figure.Figure at 0x2268e954048>"
      ]
     },
     "metadata": {},
     "output_type": "display_data"
    }
   ],
   "source": [
    "# plot n_estimators (x-axis) versus accuracy (y-axis)\n",
    "plt.plot(estimator_range, acc_scores_b)\n",
    "plt.xlabel('n_estimators')\n",
    "plt.ylabel('Accuracy (bigger is better)')"
   ]
  },
  {
   "cell_type": "markdown",
   "metadata": {},
   "source": [
    "El número de árboles que maximiza el accuracy es 80 con los datos balanceados"
   ]
  },
  {
   "cell_type": "code",
   "execution_count": 116,
   "metadata": {},
   "outputs": [
    {
     "data": {
      "text/plain": [
       "RandomForestClassifier(bootstrap=True, class_weight=None, criterion='gini',\n",
       "            max_depth=None, max_features=3, max_leaf_nodes=None,\n",
       "            min_impurity_decrease=0.0, min_impurity_split=None,\n",
       "            min_samples_leaf=1, min_samples_split=2,\n",
       "            min_weight_fraction_leaf=0.0, n_estimators=80, n_jobs=1,\n",
       "            oob_score=False, random_state=None, verbose=0,\n",
       "            warm_start=False)"
      ]
     },
     "execution_count": 116,
     "metadata": {},
     "output_type": "execute_result"
    }
   ],
   "source": [
    "r_forest_b = RandomForestClassifier(n_estimators=80, max_features=3)\n",
    "r_forest_b.fit(X_train_o, y_train_o)"
   ]
  },
  {
   "cell_type": "code",
   "execution_count": 117,
   "metadata": {
    "scrolled": true
   },
   "outputs": [
    {
     "data": {
      "text/plain": [
       "array([1, 1, 0, ..., 0, 1, 0], dtype=int64)"
      ]
     },
     "execution_count": 117,
     "metadata": {},
     "output_type": "execute_result"
    }
   ],
   "source": [
    "r_forest_b.predict(X_test)"
   ]
  },
  {
   "cell_type": "code",
   "execution_count": 118,
   "metadata": {
    "collapsed": true,
    "scrolled": true
   },
   "outputs": [],
   "source": [
    "y_pred_rf=r_forest.predict(X_test)\n"
   ]
  },
  {
   "cell_type": "code",
   "execution_count": 119,
   "metadata": {},
   "outputs": [
    {
     "name": "stdout",
     "output_type": "stream",
     "text": [
      " \n",
      " Test - Confusion matrix : \n",
      "  [[1133   48  120    0    0]\n",
      " [ 152  484   63    4    0]\n",
      " [ 160   34  393    0    0]\n",
      " [   3   13   11   41    0]\n",
      " [   2    2    1    1    7]]\n",
      " \n",
      " Test - classification report : \n",
      "               precision    recall  f1-score   support\n",
      "\n",
      "          0       0.78      0.87      0.82      1301\n",
      "          1       0.83      0.69      0.75       703\n",
      "          2       0.67      0.67      0.67       587\n",
      "          3       0.89      0.60      0.72        68\n",
      "          4       1.00      0.54      0.70        13\n",
      "\n",
      "avg / total       0.77      0.77      0.77      2672\n",
      "\n"
     ]
    }
   ],
   "source": [
    "print (\" \\n Test - Confusion matrix : \\n \", metrics.confusion_matrix(y_test, y_pred_rf))\n",
    "print (\" \\n Test - classification report : \\n \", metrics.classification_report(y_test, y_pred_rf))"
   ]
  },
  {
   "cell_type": "markdown",
   "metadata": {
    "collapsed": true
   },
   "source": [
    "Aunque el AUC disminuye un poco, se obtiene mayor precisión en la clasificación de las 4 clases de salida de los animalitos.\n",
    "Hay un buen balance en el modelo entre precisión y sensitividad."
   ]
  },
  {
   "cell_type": "markdown",
   "metadata": {},
   "source": [
    "## 2. KNN"
   ]
  },
  {
   "cell_type": "markdown",
   "metadata": {},
   "source": [
    "Se usa este clasificador implementando el voto de los k-vecinos más cercanos"
   ]
  },
  {
   "cell_type": "markdown",
   "metadata": {},
   "source": [
    "## KNN sin datos balanceados"
   ]
  },
  {
   "cell_type": "code",
   "execution_count": 210,
   "metadata": {},
   "outputs": [
    {
     "data": {
      "text/plain": [
       "KNeighborsClassifier(algorithm='auto', leaf_size=30, metric='minkowski',\n",
       "           metric_params=None, n_jobs=1, n_neighbors=5, p=2,\n",
       "           weights='uniform')"
      ]
     },
     "execution_count": 210,
     "metadata": {},
     "output_type": "execute_result"
    }
   ],
   "source": [
    "from sklearn.neighbors import KNeighborsClassifier\n",
    "neigh = KNeighborsClassifier(n_neighbors=5, p=2, metric='minkowski')\n",
    "neigh.fit(X_train, y_train)"
   ]
  },
  {
   "cell_type": "markdown",
   "metadata": {},
   "source": [
    "Se hace la predicción de las clases"
   ]
  },
  {
   "cell_type": "code",
   "execution_count": 211,
   "metadata": {},
   "outputs": [
    {
     "data": {
      "text/plain": [
       "array([1, 2, 2, ..., 1, 1, 0], dtype=int64)"
      ]
     },
     "execution_count": 211,
     "metadata": {},
     "output_type": "execute_result"
    }
   ],
   "source": [
    "y_pred = neigh.predict(X_test)\n",
    "y_pred"
   ]
  },
  {
   "cell_type": "markdown",
   "metadata": {},
   "source": [
    "Las medidas de desempeño son:"
   ]
  },
  {
   "cell_type": "code",
   "execution_count": 212,
   "metadata": {
    "scrolled": false
   },
   "outputs": [
    {
     "name": "stdout",
     "output_type": "stream",
     "text": [
      "Train - Accuracy: \n",
      "  0.596588358522\n"
     ]
    }
   ],
   "source": [
    "print (\"Train - Accuracy: \\n \", metrics.accuracy_score(y_test, neigh.predict(X_test)))"
   ]
  },
  {
   "cell_type": "markdown",
   "metadata": {},
   "source": [
    "Se identifica entre que valores varía el accuracy obtenido si se varían los valores de k vecinos entre 2 y 10:"
   ]
  },
  {
   "cell_type": "code",
   "execution_count": 213,
   "metadata": {},
   "outputs": [
    {
     "name": "stdout",
     "output_type": "stream",
     "text": [
      "[0.58476732006583865]\n",
      "[0.58476732006583865, 0.583270986084094]\n",
      "[0.58476732006583865, 0.583270986084094, 0.59419422415083045]\n",
      "[0.58476732006583865, 0.583270986084094, 0.59419422415083045, 0.59658835852162206]\n",
      "[0.58476732006583865, 0.583270986084094, 0.59419422415083045, 0.59658835852162206, 0.60496782881939248]\n",
      "[0.58476732006583865, 0.583270986084094, 0.59419422415083045, 0.59658835852162206, 0.60496782881939248, 0.60571599581026481]\n",
      "[0.58476732006583865, 0.583270986084094, 0.59419422415083045, 0.59658835852162206, 0.60496782881939248, 0.60571599581026481, 0.61140206494089477]\n",
      "[0.58476732006583865, 0.583270986084094, 0.59419422415083045, 0.59658835852162206, 0.60496782881939248, 0.60571599581026481, 0.61140206494089477, 0.61274876552446511]\n"
     ]
    },
    {
     "data": {
      "text/plain": [
       "Text(0,0.5,'Testing Accuracy')"
      ]
     },
     "execution_count": 213,
     "metadata": {},
     "output_type": "execute_result"
    },
    {
     "data": {
      "image/png": "[encoded data removed]",
      "text/plain": [
       "<matplotlib.figure.Figure at 0x226c183bac8>"
      ]
     },
     "metadata": {},
     "output_type": "display_data"
    }
   ],
   "source": [
    "k_range = range(2, 10)\n",
    "scores = []\n",
    "for k in k_range:\n",
    "    kneigh = KNeighborsClassifier(n_neighbors=k)\n",
    "    kneigh.fit(X_train, y_train)\n",
    "    y_pred1 = kneigh.predict(X_test)\n",
    "    scores.append(metrics.accuracy_score(y_test, y_pred1))\n",
    "    print(scores)\n",
    "plt.plot(k_range, scores)\n",
    "plt.xlabel('Value of K for KNN')\n",
    "plt.ylabel('Testing Accuracy')\n"
   ]
  },
  {
   "cell_type": "markdown",
   "metadata": {},
   "source": [
    "De acuerdo con esto, se otiene un mayor accuracy con knn= 9.\n",
    "\n",
    "Se obtienen los valores del accuracy con knn= 9, aplicando k-folds, así:"
   ]
  },
  {
   "cell_type": "code",
   "execution_count": 214,
   "metadata": {
    "collapsed": true
   },
   "outputs": [],
   "source": [
    "res=[]\n",
    "for i in range(100):\n",
    "    # train/test split\n",
    "    X_train, X_test, y_train, y_test = train_test_split(X, y, random_state=3*i)\n",
    "    kneigh = KNeighborsClassifier(n_neighbors=8)\n",
    "    kneigh.fit(X_train, y_train)\n",
    "    y_pred2 = kneigh.predict(X_test)\n",
    "    res.append(metrics.accuracy_score(y_test, y_pred2))"
   ]
  },
  {
   "cell_type": "code",
   "execution_count": 215,
   "metadata": {
    "scrolled": true
   },
   "outputs": [
    {
     "data": {
      "text/plain": [
       "<matplotlib.axes._subplots.AxesSubplot at 0x226c16207f0>"
      ]
     },
     "execution_count": 215,
     "metadata": {},
     "output_type": "execute_result"
    },
    {
     "data": {
      "image/png": "[encoded data removed]",
      "text/plain": [
       "<matplotlib.figure.Figure at 0x226c00aa0b8>"
      ]
     },
     "metadata": {},
     "output_type": "display_data"
    }
   ],
   "source": [
    "pd.Series(res).plot()"
   ]
  },
  {
   "cell_type": "markdown",
   "metadata": {},
   "source": [
    "De igual forma si se aplicara cross-validation los valores mínimo y máximo del accuracy serían similares."
   ]
  },
  {
   "cell_type": "code",
   "execution_count": 216,
   "metadata": {},
   "outputs": [
    {
     "data": {
      "text/plain": [
       "count    10.000000\n",
       "mean      0.599671\n",
       "std       0.006621\n",
       "min       0.586620\n",
       "25%       0.595532\n",
       "50%       0.600500\n",
       "75%       0.604339\n",
       "max       0.608088\n",
       "dtype: float64"
      ]
     },
     "execution_count": 216,
     "metadata": {},
     "output_type": "execute_result"
    }
   ],
   "source": [
    "from sklearn.cross_validation import cross_val_score\n",
    "knn = KNeighborsClassifier(n_neighbors=8)\n",
    "\n",
    "results = cross_val_score(knn, X_train, y_train, cv=10, scoring='accuracy')\n",
    "pd.Series(results).describe()"
   ]
  },
  {
   "cell_type": "markdown",
   "metadata": {},
   "source": [
    "Para knn=9, la matriz de confusión es:"
   ]
  },
  {
   "cell_type": "code",
   "execution_count": 217,
   "metadata": {},
   "outputs": [
    {
     "name": "stdout",
     "output_type": "stream",
     "text": [
      " \n",
      " Test - Confusion matrix : \n",
      "  [[2138  234  303    8    0]\n",
      " [ 690 1444  207   18    0]\n",
      " [ 567  205  403   21    0]\n",
      " [  91  205   91   14    0]\n",
      " [   3   38    2    1    0]]\n",
      " \n",
      " Test - classification report : \n",
      "               precision    recall  f1-score   support\n",
      "\n",
      "          0       0.61      0.80      0.69      2683\n",
      "          1       0.68      0.61      0.64      2359\n",
      "          2       0.40      0.34      0.37      1196\n",
      "          3       0.23      0.03      0.06       401\n",
      "          4       0.00      0.00      0.00        44\n",
      "\n",
      "avg / total       0.57      0.60      0.57      6683\n",
      "\n"
     ]
    },
    {
     "name": "stderr",
     "output_type": "stream",
     "text": [
      "C:\\Users\\marce\\Anaconda3\\lib\\site-packages\\sklearn\\metrics\\classification.py:1135: UndefinedMetricWarning: Precision and F-score are ill-defined and being set to 0.0 in labels with no predicted samples.\n",
      "  'precision', 'predicted', average, warn_for)\n"
     ]
    }
   ],
   "source": [
    "print (\" \\n Test - Confusion matrix : \\n \", metrics.confusion_matrix(y_test, y_pred2))\n",
    "print (\" \\n Test - classification report : \\n \", metrics.classification_report(y_test, y_pred2))"
   ]
  },
  {
   "cell_type": "markdown",
   "metadata": {},
   "source": [
    "Las probabilidades obtenidas para cada una de las salidas posibles son:"
   ]
  },
  {
   "cell_type": "code",
   "execution_count": 218,
   "metadata": {},
   "outputs": [
    {
     "data": {
      "text/html": [
       "<div>\n",
       "<style>\n",
       "    .dataframe thead tr:only-child th {\n",
       "        text-align: right;\n",
       "    }\n",
       "\n",
       "    .dataframe thead th {\n",
       "        text-align: left;\n",
       "    }\n",
       "\n",
       "    .dataframe tbody tr th {\n",
       "        vertical-align: top;\n",
       "    }\n",
       "</style>\n",
       "<table border=\"1\" class=\"dataframe\">\n",
       "  <thead>\n",
       "    <tr style=\"text-align: right;\">\n",
       "      <th></th>\n",
       "      <th>Return_to_owner</th>\n",
       "      <th>Euthanasia</th>\n",
       "      <th>Adoption</th>\n",
       "      <th>Transfer</th>\n",
       "      <th>Died</th>\n",
       "    </tr>\n",
       "  </thead>\n",
       "  <tbody>\n",
       "    <tr>\n",
       "      <th>0</th>\n",
       "      <td>0.875</td>\n",
       "      <td>0.125</td>\n",
       "      <td>0.000</td>\n",
       "      <td>0.000</td>\n",
       "      <td>0.0</td>\n",
       "    </tr>\n",
       "    <tr>\n",
       "      <th>1</th>\n",
       "      <td>0.375</td>\n",
       "      <td>0.250</td>\n",
       "      <td>0.375</td>\n",
       "      <td>0.000</td>\n",
       "      <td>0.0</td>\n",
       "    </tr>\n",
       "    <tr>\n",
       "      <th>2</th>\n",
       "      <td>0.625</td>\n",
       "      <td>0.125</td>\n",
       "      <td>0.250</td>\n",
       "      <td>0.000</td>\n",
       "      <td>0.0</td>\n",
       "    </tr>\n",
       "    <tr>\n",
       "      <th>3</th>\n",
       "      <td>0.375</td>\n",
       "      <td>0.125</td>\n",
       "      <td>0.500</td>\n",
       "      <td>0.000</td>\n",
       "      <td>0.0</td>\n",
       "    </tr>\n",
       "    <tr>\n",
       "      <th>4</th>\n",
       "      <td>0.250</td>\n",
       "      <td>0.375</td>\n",
       "      <td>0.375</td>\n",
       "      <td>0.000</td>\n",
       "      <td>0.0</td>\n",
       "    </tr>\n",
       "    <tr>\n",
       "      <th>5</th>\n",
       "      <td>0.625</td>\n",
       "      <td>0.250</td>\n",
       "      <td>0.125</td>\n",
       "      <td>0.000</td>\n",
       "      <td>0.0</td>\n",
       "    </tr>\n",
       "    <tr>\n",
       "      <th>6</th>\n",
       "      <td>0.625</td>\n",
       "      <td>0.375</td>\n",
       "      <td>0.000</td>\n",
       "      <td>0.000</td>\n",
       "      <td>0.0</td>\n",
       "    </tr>\n",
       "    <tr>\n",
       "      <th>7</th>\n",
       "      <td>0.125</td>\n",
       "      <td>0.375</td>\n",
       "      <td>0.375</td>\n",
       "      <td>0.125</td>\n",
       "      <td>0.0</td>\n",
       "    </tr>\n",
       "    <tr>\n",
       "      <th>8</th>\n",
       "      <td>0.375</td>\n",
       "      <td>0.000</td>\n",
       "      <td>0.625</td>\n",
       "      <td>0.000</td>\n",
       "      <td>0.0</td>\n",
       "    </tr>\n",
       "    <tr>\n",
       "      <th>9</th>\n",
       "      <td>1.000</td>\n",
       "      <td>0.000</td>\n",
       "      <td>0.000</td>\n",
       "      <td>0.000</td>\n",
       "      <td>0.0</td>\n",
       "    </tr>\n",
       "  </tbody>\n",
       "</table>\n",
       "</div>"
      ],
      "text/plain": [
       "   Return_to_owner  Euthanasia  Adoption  Transfer  Died\n",
       "0            0.875       0.125     0.000     0.000   0.0\n",
       "1            0.375       0.250     0.375     0.000   0.0\n",
       "2            0.625       0.125     0.250     0.000   0.0\n",
       "3            0.375       0.125     0.500     0.000   0.0\n",
       "4            0.250       0.375     0.375     0.000   0.0\n",
       "5            0.625       0.250     0.125     0.000   0.0\n",
       "6            0.625       0.375     0.000     0.000   0.0\n",
       "7            0.125       0.375     0.375     0.125   0.0\n",
       "8            0.375       0.000     0.625     0.000   0.0\n",
       "9            1.000       0.000     0.000     0.000   0.0"
      ]
     },
     "execution_count": 218,
     "metadata": {},
     "output_type": "execute_result"
    }
   ],
   "source": [
    "y_pred2 = kneigh.predict_proba(X_test)\n",
    "y_pred2\n",
    "\n",
    "submit = pd.DataFrame()\n",
    "submit['Return_to_owner']=y_pred2[:,0]\n",
    "submit['Euthanasia']=y_pred2[:,1]\n",
    "submit['Adoption']=y_pred2[:,2]\n",
    "submit['Transfer']=y_pred2[:,3]\n",
    "submit['Died']=y_pred2[:,4]\n",
    "submit.head(10)"
   ]
  },
  {
   "cell_type": "markdown",
   "metadata": {},
   "source": [
    "## KNN con datos balanceados"
   ]
  },
  {
   "cell_type": "code",
   "execution_count": 141,
   "metadata": {},
   "outputs": [
    {
     "data": {
      "text/plain": [
       "KNeighborsClassifier(algorithm='auto', leaf_size=30, metric='minkowski',\n",
       "           metric_params=None, n_jobs=1, n_neighbors=5, p=2,\n",
       "           weights='uniform')"
      ]
     },
     "execution_count": 141,
     "metadata": {},
     "output_type": "execute_result"
    }
   ],
   "source": [
    "from sklearn.neighbors import KNeighborsClassifier\n",
    "from matplotlib.colors import ListedColormap\n",
    "neigh_b = KNeighborsClassifier(n_neighbors=5, p=2, metric='minkowski')\n",
    "neigh_b.fit(X_train_o, y_train_o)"
   ]
  },
  {
   "cell_type": "markdown",
   "metadata": {},
   "source": [
    "Se hace la predicción de las clases"
   ]
  },
  {
   "cell_type": "code",
   "execution_count": 143,
   "metadata": {},
   "outputs": [
    {
     "data": {
      "text/plain": [
       "array([0, 0, 2, ..., 2, 2, 0], dtype=int64)"
      ]
     },
     "execution_count": 143,
     "metadata": {},
     "output_type": "execute_result"
    }
   ],
   "source": [
    "y_pred_b = neigh.predict(X_test)\n",
    "y_pred_b"
   ]
  },
  {
   "cell_type": "markdown",
   "metadata": {},
   "source": [
    "Las medidas de desempeño son:"
   ]
  },
  {
   "cell_type": "code",
   "execution_count": 104,
   "metadata": {
    "scrolled": false
   },
   "outputs": [
    {
     "name": "stdout",
     "output_type": "stream",
     "text": [
      "Train - Accuracy: \n",
      "  0.666018255275\n"
     ]
    }
   ],
   "source": [
    "print (\"Train - Accuracy: \\n \", metrics.accuracy_score(y_test, neigh.predict(X_test)))"
   ]
  },
  {
   "cell_type": "markdown",
   "metadata": {},
   "source": [
    "Se identifica entre que valores varía el accuracy obtenido si se varían los valores de k vecinos entre 2 y 10:"
   ]
  },
  {
   "cell_type": "code",
   "execution_count": 105,
   "metadata": {},
   "outputs": [
    {
     "name": "stdout",
     "output_type": "stream",
     "text": [
      "[0.71958701182103846]\n",
      "[0.71958701182103846, 0.6727517581924285]\n",
      "[0.71958701182103846, 0.6727517581924285, 0.66871165644171782]\n",
      "[0.71958701182103846, 0.6727517581924285, 0.66871165644171782, 0.63369744126889127]\n",
      "[0.71958701182103846, 0.6727517581924285, 0.66871165644171782, 0.63369744126889127, 0.62292383660032924]\n",
      "[0.71958701182103846, 0.6727517581924285, 0.66871165644171782, 0.63369744126889127, 0.62292383660032924, 0.60107736046685623]\n",
      "[0.71958701182103846, 0.6727517581924285, 0.66871165644171782, 0.63369744126889127, 0.62292383660032924, 0.60107736046685623, 0.59808469250336671]\n",
      "[0.71958701182103846, 0.6727517581924285, 0.66871165644171782, 0.63369744126889127, 0.62292383660032924, 0.60107736046685623, 0.59808469250336671, 0.57863235074068531]\n"
     ]
    },
    {
     "data": {
      "text/plain": [
       "Text(0,0.5,'Testing Accuracy')"
      ]
     },
     "execution_count": 105,
     "metadata": {},
     "output_type": "execute_result"
    },
    {
     "data": {
      "image/png": "[encoded data removed]",
      "text/plain": [
       "<matplotlib.figure.Figure at 0x2268e716ac8>"
      ]
     },
     "metadata": {},
     "output_type": "display_data"
    }
   ],
   "source": [
    "k_range = range(2, 10)\n",
    "scores = []\n",
    "for k in k_range:\n",
    "    kneigh = KNeighborsClassifier(n_neighbors=k)\n",
    "    kneigh.fit(X_train_o, y_train_o)\n",
    "    y_pred1_b = kneigh.predict(X_test)\n",
    "    scores.append(metrics.accuracy_score(y_test, kneigh.predict(X_test)))\n",
    "    print(scores)\n",
    "plt.plot(k_range, scores)\n",
    "plt.xlabel('Value of K for KNN')\n",
    "plt.ylabel('Testing Accuracy')\n"
   ]
  },
  {
   "cell_type": "markdown",
   "metadata": {},
   "source": [
    "De acuerdo con esto, se otiene un mayor accuracy con knn= 9.\n",
    "\n",
    "Se obtienen los valores del accuracy con knn= 9, aplicando k-folds, así:"
   ]
  },
  {
   "cell_type": "code",
   "execution_count": 106,
   "metadata": {
    "collapsed": true
   },
   "outputs": [],
   "source": [
    "kneigh_b = KNeighborsClassifier(n_neighbors=2)\n",
    "kneigh_b.fit(X_train_o, y_train_o)\n",
    "y_pred2_b = kneigh_b.predict(X_test)\n"
   ]
  },
  {
   "cell_type": "markdown",
   "metadata": {},
   "source": [
    "Para knn=9, la matriz de confusión es:"
   ]
  },
  {
   "cell_type": "code",
   "execution_count": 107,
   "metadata": {},
   "outputs": [
    {
     "name": "stdout",
     "output_type": "stream",
     "text": [
      " \n",
      " Test - Confusion matrix : \n",
      "  [[2267  123  238   44   11]\n",
      " [ 496 1608  127  102   26]\n",
      " [ 325  172  655   42    2]\n",
      " [  33   69   44  247    8]\n",
      " [   2    7    0    3   32]]\n",
      " \n",
      " Test - classification report : \n",
      "               precision    recall  f1-score   support\n",
      "\n",
      "          0       0.73      0.84      0.78      2683\n",
      "          1       0.81      0.68      0.74      2359\n",
      "          2       0.62      0.55      0.58      1196\n",
      "          3       0.56      0.62      0.59       401\n",
      "          4       0.41      0.73      0.52        44\n",
      "\n",
      "avg / total       0.72      0.72      0.72      6683\n",
      "\n"
     ]
    }
   ],
   "source": [
    "print (\" \\n Test - Confusion matrix : \\n \", metrics.confusion_matrix(y_test, y_pred2_b))\n",
    "print (\" \\n Test - classification report : \\n \", metrics.classification_report(y_test, y_pred2_b))"
   ]
  },
  {
   "cell_type": "markdown",
   "metadata": {
    "collapsed": true
   },
   "source": [
    "Con los datos balanceados la precisión mejora, al igual que el f1-score y la clasificación de las clases."
   ]
  },
  {
   "cell_type": "markdown",
   "metadata": {},
   "source": [
    "# 3. Gradient Boosting Classifier"
   ]
  },
  {
   "cell_type": "markdown",
   "metadata": {},
   "source": [
    "## Gradient Boosting Classifier sin datos balanceados"
   ]
  },
  {
   "cell_type": "markdown",
   "metadata": {},
   "source": [
    "\n",
    "GB construye un modelo aditivo de forma progresiva"
   ]
  },
  {
   "cell_type": "markdown",
   "metadata": {},
   "source": [
    "Se corre un modelo inicialmente y se encuentra la medida de desempeño accuracy."
   ]
  },
  {
   "cell_type": "code",
   "execution_count": 120,
   "metadata": {
    "collapsed": true
   },
   "outputs": [],
   "source": [
    "from sklearn.ensemble import GradientBoostingClassifier\n",
    "clf = GradientBoostingClassifier(loss=\"deviance\",n_estimators=800, learning_rate=1.0)"
   ]
  },
  {
   "cell_type": "markdown",
   "metadata": {},
   "source": [
    "Se entrena el modelo y se realiza la predicción en la muestra de test"
   ]
  },
  {
   "cell_type": "code",
   "execution_count": 121,
   "metadata": {},
   "outputs": [
    {
     "data": {
      "text/plain": [
       "array([1, 1, 2, ..., 2, 1, 0], dtype=int64)"
      ]
     },
     "execution_count": 121,
     "metadata": {},
     "output_type": "execute_result"
    }
   ],
   "source": [
    "clf.fit(X_train, y_train)\n",
    "y_predg = clf.predict(X_test)\n",
    "y_predg"
   ]
  },
  {
   "cell_type": "code",
   "execution_count": 122,
   "metadata": {},
   "outputs": [
    {
     "data": {
      "text/html": [
       "<div>\n",
       "<style>\n",
       "    .dataframe thead tr:only-child th {\n",
       "        text-align: right;\n",
       "    }\n",
       "\n",
       "    .dataframe thead th {\n",
       "        text-align: left;\n",
       "    }\n",
       "\n",
       "    .dataframe tbody tr th {\n",
       "        vertical-align: top;\n",
       "    }\n",
       "</style>\n",
       "<table border=\"1\" class=\"dataframe\">\n",
       "  <thead>\n",
       "    <tr style=\"text-align: right;\">\n",
       "      <th></th>\n",
       "      <th>f</th>\n",
       "      <th>import</th>\n",
       "    </tr>\n",
       "  </thead>\n",
       "  <tbody>\n",
       "    <tr>\n",
       "      <th>1</th>\n",
       "      <td>Age_Months</td>\n",
       "      <td>0.518752</td>\n",
       "    </tr>\n",
       "    <tr>\n",
       "      <th>8</th>\n",
       "      <td>Month</td>\n",
       "      <td>0.136846</td>\n",
       "    </tr>\n",
       "    <tr>\n",
       "      <th>0</th>\n",
       "      <td>AnimalType</td>\n",
       "      <td>0.130477</td>\n",
       "    </tr>\n",
       "    <tr>\n",
       "      <th>7</th>\n",
       "      <td>Year</td>\n",
       "      <td>0.128533</td>\n",
       "    </tr>\n",
       "    <tr>\n",
       "      <th>5</th>\n",
       "      <td>color</td>\n",
       "      <td>0.045316</td>\n",
       "    </tr>\n",
       "    <tr>\n",
       "      <th>3</th>\n",
       "      <td>Sex</td>\n",
       "      <td>0.014516</td>\n",
       "    </tr>\n",
       "    <tr>\n",
       "      <th>6</th>\n",
       "      <td>breed</td>\n",
       "      <td>0.011301</td>\n",
       "    </tr>\n",
       "    <tr>\n",
       "      <th>4</th>\n",
       "      <td>Named</td>\n",
       "      <td>0.007852</td>\n",
       "    </tr>\n",
       "    <tr>\n",
       "      <th>2</th>\n",
       "      <td>Sterile_Ind</td>\n",
       "      <td>0.006407</td>\n",
       "    </tr>\n",
       "  </tbody>\n",
       "</table>\n",
       "</div>"
      ],
      "text/plain": [
       "             f    import\n",
       "1   Age_Months  0.518752\n",
       "8        Month  0.136846\n",
       "0   AnimalType  0.130477\n",
       "7         Year  0.128533\n",
       "5        color  0.045316\n",
       "3          Sex  0.014516\n",
       "6        breed  0.011301\n",
       "4        Named  0.007852\n",
       "2  Sterile_Ind  0.006407"
      ]
     },
     "execution_count": 122,
     "metadata": {},
     "output_type": "execute_result"
    }
   ],
   "source": [
    "importance=pd.DataFrame({\"f\":X_train.columns,\"import\":clf.feature_importances_})\n",
    "importance.sort_values(\"import\",0,False)"
   ]
  },
  {
   "cell_type": "markdown",
   "metadata": {},
   "source": [
    "Las medidas de desempeño obtenidas son:"
   ]
  },
  {
   "cell_type": "code",
   "execution_count": 123,
   "metadata": {},
   "outputs": [
    {
     "name": "stdout",
     "output_type": "stream",
     "text": [
      "Train - Accuracy: \n",
      "  0.578592814371\n",
      " \n",
      " Test - Confusion matrix : \n",
      "  [[975  63 261   2   0]\n",
      " [263 268 142  29   1]\n",
      " [244  41 294   8   0]\n",
      " [  8  34  17   9   0]\n",
      " [  2   6   2   3   0]]\n",
      " \n",
      " Test - classification report : \n",
      "               precision    recall  f1-score   support\n",
      "\n",
      "          0       0.65      0.75      0.70      1301\n",
      "          1       0.65      0.38      0.48       703\n",
      "          2       0.41      0.50      0.45       587\n",
      "          3       0.18      0.13      0.15        68\n",
      "          4       0.00      0.00      0.00        13\n",
      "\n",
      "avg / total       0.58      0.58      0.57      2672\n",
      "\n"
     ]
    }
   ],
   "source": [
    "print (\"Train - Accuracy: \\n \", metrics.accuracy_score(y_test,clf.predict(X_test)))\n",
    "print (\" \\n Test - Confusion matrix : \\n \", metrics.confusion_matrix(y_test, y_predg))\n",
    "print (\" \\n Test - classification report : \\n \", metrics.classification_report(y_test, y_predg))"
   ]
  },
  {
   "cell_type": "markdown",
   "metadata": {},
   "source": [
    "Se corre nuevamente el modelo, ahora calibrándolo con k-folds y se identifica los valores mínimo y máximo del accuracy"
   ]
  },
  {
   "cell_type": "code",
   "execution_count": 112,
   "metadata": {
    "collapsed": true
   },
   "outputs": [],
   "source": [
    "from sklearn.cross_validation import KFold"
   ]
  },
  {
   "cell_type": "code",
   "execution_count": 113,
   "metadata": {
    "collapsed": true
   },
   "outputs": [],
   "source": [
    "# Create k-folds se suele usar 10 folds\n",
    "kf = KFold(X.shape[0], n_folds=10, random_state=0)\n",
    "\n",
    "results = []\n",
    "\n",
    "for train_index, test_index in kf:\n",
    "    X_train, X_test = X.iloc[train_index], X.iloc[test_index]\n",
    "    y_train, y_test = y.iloc[train_index], y.iloc[test_index]\n",
    "\n",
    "    # train\n",
    "    clf2 = GradientBoostingClassifier(loss=\"deviance\",n_estimators=800, learning_rate=1.0)\n",
    "    clf2.fit(X_train, y_train)\n",
    "\n",
    "    # make predictions for testing set\n",
    "    y_pred_gb = clf2.predict(X_test)\n",
    "\n",
    "    # calculate testing accuracy\n",
    "    results.append(metrics.accuracy_score(y_test, y_pred_gb))"
   ]
  },
  {
   "cell_type": "code",
   "execution_count": 98,
   "metadata": {
    "scrolled": true
   },
   "outputs": [
    {
     "data": {
      "text/plain": [
       "count    10.000000\n",
       "mean      0.614388\n",
       "std       0.054601\n",
       "min       0.511785\n",
       "25%       0.589859\n",
       "50%       0.603068\n",
       "75%       0.665264\n",
       "max       0.684998\n",
       "dtype: float64"
      ]
     },
     "execution_count": 98,
     "metadata": {},
     "output_type": "execute_result"
    }
   ],
   "source": [
    "pd.Series(results).describe()"
   ]
  },
  {
   "cell_type": "markdown",
   "metadata": {},
   "source": [
    "## Gradient Boosting Classifier con datos balanceados"
   ]
  },
  {
   "cell_type": "markdown",
   "metadata": {},
   "source": [
    "\n",
    "GB construye un modelo aditivo de forma progresiva"
   ]
  },
  {
   "cell_type": "markdown",
   "metadata": {},
   "source": [
    "Se corre un modelo inicialmente y se encuentra la medida de desempeño accuracy."
   ]
  },
  {
   "cell_type": "code",
   "execution_count": 126,
   "metadata": {
    "collapsed": true
   },
   "outputs": [],
   "source": [
    "from sklearn.ensemble import GradientBoostingClassifier\n",
    "clf_b = GradientBoostingClassifier(loss=\"deviance\",n_estimators=800, learning_rate=1.0)"
   ]
  },
  {
   "cell_type": "markdown",
   "metadata": {},
   "source": [
    "Se entrena el modelo y se realiza la predicción en la muestra de test"
   ]
  },
  {
   "cell_type": "code",
   "execution_count": 129,
   "metadata": {},
   "outputs": [
    {
     "data": {
      "text/plain": [
       "array([1, 1, 2, ..., 2, 1, 0], dtype=int64)"
      ]
     },
     "execution_count": 129,
     "metadata": {},
     "output_type": "execute_result"
    }
   ],
   "source": [
    "clf_b.fit(X_train_o, y_train_o)\n",
    "y_predg_b = clf_b.predict(X_test)\n",
    "y_predg_b"
   ]
  },
  {
   "cell_type": "markdown",
   "metadata": {},
   "source": [
    "Las medidas de desempeño obtenidas son:"
   ]
  },
  {
   "cell_type": "code",
   "execution_count": 132,
   "metadata": {
    "scrolled": true
   },
   "outputs": [
    {
     "name": "stdout",
     "output_type": "stream",
     "text": [
      "Train - Accuracy: \n",
      "  0.624251497006\n",
      " \n",
      " Test - Confusion matrix : \n",
      "  [[846  56 391   6   2]\n",
      " [153 324 194  29   3]\n",
      " [ 90  37 449  11   0]\n",
      " [  5  10  13  39   1]\n",
      " [  0   2   1   0  10]]\n",
      " \n",
      " Test - classification report : \n",
      "               precision    recall  f1-score   support\n",
      "\n",
      "          0       0.77      0.65      0.71      1301\n",
      "          1       0.76      0.46      0.57       703\n",
      "          2       0.43      0.76      0.55       587\n",
      "          3       0.46      0.57      0.51        68\n",
      "          4       0.62      0.77      0.69        13\n",
      "\n",
      "avg / total       0.68      0.62      0.63      2672\n",
      "\n"
     ]
    }
   ],
   "source": [
    "print (\"Train - Accuracy: \\n \", metrics.accuracy_score(y_test,clf_b.predict(X_test)))\n",
    "print (\" \\n Test - Confusion matrix : \\n \", metrics.confusion_matrix(y_test, y_predg_b))\n",
    "print (\" \\n Test - classification report : \\n \", metrics.classification_report(y_test, y_predg_b))"
   ]
  },
  {
   "cell_type": "markdown",
   "metadata": {},
   "source": [
    "La clasificación de las clases mejora con el balanceo"
   ]
  },
  {
   "cell_type": "code",
   "execution_count": 220,
   "metadata": {
    "collapsed": true
   },
   "outputs": [],
   "source": [
    "# Create k-folds se suele usar 10 folds\n",
    "kf = KFold(X.shape[0], n_folds=10, random_state=0)\n",
    "\n",
    "results = []\n",
    "\n",
    "for train_index, test_index in kf:\n",
    "    X_train, X_test = X.iloc[train_index], X.iloc[test_index]\n",
    "    y_train, y_test = y.iloc[train_index], y.iloc[test_index]\n",
    "\n",
    "    # train\n",
    "    clf2 = GradientBoostingClassifier(loss=\"deviance\",n_estimators=100, learning_rate=1.0)\n",
    "    clf2.fit(X_train_o, y_train_o)\n",
    "\n",
    "    # make predictions for testing set\n",
    "    y_pred_gb = clf2.predict(X_test)\n",
    "\n",
    "    # calculate testing accuracy\n",
    "    results.append(metrics.accuracy_score(y_test, y_pred_gb))"
   ]
  },
  {
   "cell_type": "code",
   "execution_count": 221,
   "metadata": {
    "scrolled": true
   },
   "outputs": [
    {
     "data": {
      "text/plain": [
       "count    10.000000\n",
       "mean      0.586740\n",
       "std       0.036810\n",
       "min       0.537598\n",
       "25%       0.557667\n",
       "50%       0.583614\n",
       "75%       0.605593\n",
       "max       0.653199\n",
       "dtype: float64"
      ]
     },
     "execution_count": 221,
     "metadata": {},
     "output_type": "execute_result"
    }
   ],
   "source": [
    "pd.Series(results).describe()"
   ]
  }
 ],
 "metadata": {
  "kernelspec": {
   "display_name": "Python 3",
   "language": "python",
   "name": "python3"
  },
  "language_info": {
   "codemirror_mode": {
    "name": "ipython",
    "version": 3
   },
   "file_extension": ".py",
   "mimetype": "text/x-python",
   "name": "python",
   "nbconvert_exporter": "python",
   "pygments_lexer": "ipython3",
   "version": "3.6.3"
  }
 },
 "nbformat": 4,
 "nbformat_minor": 2
}
